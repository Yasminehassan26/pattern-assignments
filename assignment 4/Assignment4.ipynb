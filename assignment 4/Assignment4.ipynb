{
  "cells": [
    {
      "cell_type": "markdown",
      "metadata": {
        "id": "-y3VfMi2DTA_"
      },
      "source": [
        "# Imports\n"
      ]
    },
    {
      "cell_type": "code",
      "execution_count": null,
      "metadata": {
        "id": "wI1LwBX77uTs"
      },
      "outputs": [],
      "source": [
        "import numpy as np\n",
        "import _pickle as cPickle\n",
        "import keras\n",
        "from keras import metrics\n",
        "import sys \n",
        "import matplotlib.pyplot as plt\n",
        "from sklearn.metrics import confusion_matrix, classification_report, accuracy_score\n",
        "import scipy as sp\n",
        "from scipy.integrate import cumtrapz\n",
        "from sklearn.model_selection import train_test_split\n",
        "from sklearn.preprocessing import LabelBinarizer\n",
        "from sklearn.model_selection import train_test_split\n",
        "from PIL import Image\n",
        "import pandas as pd\n",
        "import tensorflow as tf\n",
        "import tensorflow.keras.layers as tfl\n",
        "from keras.models import Sequential\n",
        "from keras.layers import Dense, SimpleRNN, Activation, LSTM\n",
        "from keras import optimizers\n",
        "from keras.wrappers.scikit_learn import KerasClassifier\n",
        "from tensorflow.python.framework import ops\n",
        "import gc"
      ]
    },
    {
      "cell_type": "markdown",
      "metadata": {
        "id": "tT9nNJqkD8_1"
      },
      "source": [
        "#Loading the data \n"
      ]
    },
    {
      "cell_type": "code",
      "execution_count": null,
      "metadata": {
        "colab": {
          "base_uri": "https://localhost:8080/"
        },
        "id": "KyKhy3X0HYDW",
        "outputId": "c3dbcea6-bea6-4306-8558-39ebe4c6d458"
      },
      "outputs": [
        {
          "output_type": "stream",
          "name": "stdout",
          "text": [
            "Mounted at /content/drive\n"
          ]
        }
      ],
      "source": [
        "from google.colab import drive\n",
        "drive.mount('/content/drive')"
      ]
    },
    {
      "cell_type": "code",
      "execution_count": null,
      "metadata": {
        "id": "ld2YaDQHDyX5"
      },
      "outputs": [],
      "source": [
        "filename = \"/content/drive/My Drive/pattern/RML2016.10b.dat\"\n",
        "open_file = open(filename,'rb')\n",
        "data = cPickle.load(open_file, encoding='latin1')"
      ]
    },
    {
      "cell_type": "code",
      "execution_count": null,
      "metadata": {
        "colab": {
          "base_uri": "https://localhost:8080/"
        },
        "id": "lYkYls-DXabU",
        "outputId": "1500d603-e5df-4378-8de0-b5e49f1f6dc8"
      },
      "outputs": [
        {
          "output_type": "stream",
          "name": "stdout",
          "text": [
            "(1200000, 2, 128)\n"
          ]
        }
      ],
      "source": [
        "snrs,mods = map(lambda j: sorted(list(set(map(lambda x: x[j], data.keys())))), [1,0])\n",
        "\n",
        "X = []\n",
        "labels_categorical = []\n",
        "for mod in mods:\n",
        "    for snr in snrs:\n",
        "        X.append(data[(mod,snr)])\n",
        "        for i in range(data[(mod,snr)].shape[0]):  labels_categorical.append((mod,snr))\n",
        "X = np.vstack(X)\n",
        "\n",
        "\n",
        "print(X.shape)\n",
        "del data"
      ]
    },
    {
      "cell_type": "code",
      "execution_count": null,
      "metadata": {
        "id": "urO9ox8ieVaW"
      },
      "outputs": [],
      "source": [
        "# '8PSK' 'AM-DSB' 'AM-SSB' 'BPSK' 'CPFSK' 'GFSK' 'PAM4' 'QAM16' 'QAM64' 'QPSK' 'WBFM' \n",
        "LABELS = {'8PSK' :   np.array([1, 0, 0, 0, 0, 0, 0, 0, 0, 0, 0]),\n",
        "          'AM-DSB' : np.array([0, 1, 0, 0, 0, 0, 0, 0, 0, 0, 0]),\n",
        "          'AM-SSB' : np.array([0, 0, 1, 0, 0, 0, 0, 0, 0, 0, 0]),\n",
        "          'BPSK' :   np.array([0, 0, 0, 1, 0, 0, 0, 0, 0, 0, 0]),\n",
        "          'CPFSK' :  np.array([0, 0, 0, 0, 1, 0, 0, 0, 0, 0, 0]),\n",
        "          'GFSK' :   np.array([0, 0, 0, 0, 0, 1, 0, 0, 0, 0, 0]),\n",
        "          'PAM4' :   np.array([0, 0, 0, 0, 0, 0, 1, 0, 0, 0, 0]),\n",
        "          'QAM16' :  np.array([0, 0, 0, 0, 0, 0, 0, 1, 0, 0, 0]),\n",
        "          'QAM64' :  np.array([0, 0, 0, 0, 0, 0, 0, 0, 1, 0, 0]),\n",
        "          'QPSK' :   np.array([0, 0, 0, 0, 0, 0, 0, 0, 0, 1, 0]),\n",
        "          'WBFM' :   np.array([0, 0, 0, 0, 0, 0, 0, 0, 0, 0, 1])\n",
        "        }"
      ]
    },
    {
      "cell_type": "code",
      "execution_count": null,
      "metadata": {
        "colab": {
          "base_uri": "https://localhost:8080/"
        },
        "id": "oFAE-9jRhvtV",
        "outputId": "c4708983-fefd-468a-c070-76b5d4550b28"
      },
      "outputs": [
        {
          "output_type": "stream",
          "name": "stdout",
          "text": [
            "[[1 0 0 ... 0 0 0]\n",
            " [1 0 0 ... 0 0 0]\n",
            " [1 0 0 ... 0 0 0]\n",
            " ...\n",
            " [0 0 0 ... 0 0 1]\n",
            " [0 0 0 ... 0 0 1]\n",
            " [0 0 0 ... 0 0 1]]\n"
          ]
        }
      ],
      "source": [
        "labels = np.array([LABELS[letter] for letter in [ seq[0] for seq in labels_categorical ]])\n",
        "print(labels)"
      ]
    },
    {
      "cell_type": "code",
      "source": [
        "all_labels = np.array([(LABELS[mod],snr) for mod, snr in labels_categorical])"
      ],
      "metadata": {
        "colab": {
          "base_uri": "https://localhost:8080/"
        },
        "id": "un-ao99oWQiU",
        "outputId": "c8e28a41-41e5-481b-ae66-cafbf74f1a5c"
      },
      "execution_count": null,
      "outputs": [
        {
          "output_type": "stream",
          "name": "stderr",
          "text": [
            "/usr/local/lib/python3.7/dist-packages/ipykernel_launcher.py:1: VisibleDeprecationWarning: Creating an ndarray from ragged nested sequences (which is a list-or-tuple of lists-or-tuples-or ndarrays with different lengths or shapes) is deprecated. If you meant to do this, you must specify 'dtype=object' when creating the ndarray.\n",
            "  \"\"\"Entry point for launching an IPython kernel.\n"
          ]
        }
      ]
    },
    {
      "cell_type": "code",
      "source": [
        "all_labels.shape\n",
        "print(all_labels)"
      ],
      "metadata": {
        "colab": {
          "base_uri": "https://localhost:8080/"
        },
        "id": "ZKlZwsiYh80c",
        "outputId": "91c99a78-f311-4e39-8b40-77543fe3605e"
      },
      "execution_count": null,
      "outputs": [
        {
          "output_type": "stream",
          "name": "stdout",
          "text": [
            "[[array([1, 0, 0, 0, 0, 0, 0, 0, 0, 0, 0]) -20]\n",
            " [array([1, 0, 0, 0, 0, 0, 0, 0, 0, 0, 0]) -20]\n",
            " [array([1, 0, 0, 0, 0, 0, 0, 0, 0, 0, 0]) -20]\n",
            " ...\n",
            " [array([0, 0, 0, 0, 0, 0, 0, 0, 0, 0, 1]) 18]\n",
            " [array([0, 0, 0, 0, 0, 0, 0, 0, 0, 0, 1]) 18]\n",
            " [array([0, 0, 0, 0, 0, 0, 0, 0, 0, 0, 1]) 18]]\n"
          ]
        }
      ]
    },
    {
      "cell_type": "markdown",
      "metadata": {
        "id": "49pSH6Hom_lL"
      },
      "source": [
        "# **Extracting Features**"
      ]
    },
    {
      "cell_type": "markdown",
      "metadata": {
        "id": "6z0OSbhRY5Iq"
      },
      "source": [
        "Row Features"
      ]
    },
    {
      "cell_type": "markdown",
      "metadata": {
        "id": "sGONl1xZZA0w"
      },
      "source": [
        "First Derivative"
      ]
    },
    {
      "cell_type": "code",
      "execution_count": null,
      "metadata": {
        "colab": {
          "base_uri": "https://localhost:8080/"
        },
        "id": "OgP2QRYgZFzg",
        "outputId": "50bda508-38be-4e59-fe1a-f11dc18a9c57"
      },
      "outputs": [
        {
          "output_type": "execute_result",
          "data": {
            "text/plain": [
              "(1200000, 2, 128)"
            ]
          },
          "metadata": {},
          "execution_count": 10
        }
      ],
      "source": [
        "X_derivative = np.gradient(X, axis=-1)\n",
        "X_derivative.shape"
      ]
    },
    {
      "cell_type": "markdown",
      "metadata": {
        "id": "BAfzjyfkZF9U"
      },
      "source": [
        "Integral In Time"
      ]
    },
    {
      "cell_type": "code",
      "execution_count": null,
      "metadata": {
        "colab": {
          "base_uri": "https://localhost:8080/"
        },
        "id": "wsYeWsB3ZQdU",
        "outputId": "b80aecde-6433-42dc-a7d6-377c61b93cca"
      },
      "outputs": [
        {
          "output_type": "execute_result",
          "data": {
            "text/plain": [
              "(1200000, 2, 128)"
            ]
          },
          "metadata": {},
          "execution_count": 11
        }
      ],
      "source": [
        "X_integral = cumtrapz(X, axis=-1, initial=0)\n",
        "X_integral.shape"
      ]
    },
    {
      "cell_type": "markdown",
      "metadata": {
        "id": "NuaN63MFi-Py"
      },
      "source": [
        "# Combined "
      ]
    },
    {
      "cell_type": "code",
      "source": [
        "X_derivative = X_derivative[:, :, :, np.newaxis]"
      ],
      "metadata": {
        "id": "fZUS0QBdb_nD"
      },
      "execution_count": null,
      "outputs": []
    },
    {
      "cell_type": "code",
      "source": [
        "X_integral = X_integral[:, :, :, np.newaxis]"
      ],
      "metadata": {
        "id": "tO9aRDTucBcz"
      },
      "execution_count": null,
      "outputs": []
    },
    {
      "cell_type": "code",
      "source": [
        "X = X[:, :, :, np.newaxis]"
      ],
      "metadata": {
        "id": "jtME3CeFIjXE"
      },
      "execution_count": null,
      "outputs": []
    },
    {
      "cell_type": "markdown",
      "source": [
        "Raw Derivative"
      ],
      "metadata": {
        "id": "S6MZnhXntUkL"
      }
    },
    {
      "cell_type": "code",
      "execution_count": null,
      "metadata": {
        "id": "qCsSie3IjAnv",
        "colab": {
          "base_uri": "https://localhost:8080/"
        },
        "outputId": "3bc28efd-5f7f-44a0-a245-d6bc2ce7bf11"
      },
      "outputs": [
        {
          "output_type": "execute_result",
          "data": {
            "text/plain": [
              "(1200000, 4, 128, 1)"
            ]
          },
          "metadata": {},
          "execution_count": 15
        }
      ],
      "source": [
        "# X_raw_derv = []\n",
        "# for x, x_derv in zip(X, X_derivative):\n",
        "#   X_raw_derv.append(np.concatenate((x, x_derv), axis=0))\n",
        "X_raw_derv =np.concatenate((X, X_derivative),axis=1)\n",
        "X_raw_derv.shape"
      ]
    },
    {
      "cell_type": "markdown",
      "source": [
        "Raw Integral"
      ],
      "metadata": {
        "id": "nBuXy8futZ6W"
      }
    },
    {
      "cell_type": "code",
      "source": [
        "# X_raw_integ = []\n",
        "# for x, x_int in zip(X, X_integral):\n",
        "#   X_raw_derv.append(np.concatenate((x, x_int), axis=0))\n",
        "X_raw_integ =np.concatenate((X, X_integral),axis=1)\n",
        "X_raw_integ.shape"
      ],
      "metadata": {
        "id": "Ulue11jOtbLb",
        "colab": {
          "base_uri": "https://localhost:8080/"
        },
        "outputId": "03b65ffd-c207-4296-84c3-6d63039652dd"
      },
      "execution_count": null,
      "outputs": [
        {
          "output_type": "execute_result",
          "data": {
            "text/plain": [
              "(1200000, 4, 128, 1)"
            ]
          },
          "metadata": {},
          "execution_count": 10
        }
      ]
    },
    {
      "cell_type": "markdown",
      "source": [
        "Raw Derivative Integral"
      ],
      "metadata": {
        "id": "58WCMv8WtczU"
      }
    },
    {
      "cell_type": "code",
      "source": [
        "# X_combined = []\n",
        "# for x_row_drev, x_int in zip(X_raw_derv, X_integral):\n",
        "#   X_combined.append(np.concatenate((x_row_drev, x_int), axis=0))\n",
        "X_combined =np.concatenate((X_raw_derv, X_integral),axis=1)\n",
        "X_combined.shape"
      ],
      "metadata": {
        "id": "fegZbS8OtgkI",
        "colab": {
          "base_uri": "https://localhost:8080/"
        },
        "outputId": "2963e528-efd3-48d7-fa76-eb43c08256d3"
      },
      "execution_count": null,
      "outputs": [
        {
          "output_type": "execute_result",
          "data": {
            "text/plain": [
              "(1200000, 6, 128, 1)"
            ]
          },
          "metadata": {},
          "execution_count": 16
        }
      ]
    },
    {
      "cell_type": "markdown",
      "source": [
        "**deleting**"
      ],
      "metadata": {
        "id": "XB7cmVho74Fn"
      }
    },
    {
      "cell_type": "code",
      "source": [
        "del X"
      ],
      "metadata": {
        "id": "9buA85ZY77Gd"
      },
      "execution_count": null,
      "outputs": []
    },
    {
      "cell_type": "code",
      "source": [
        "del X_derivative"
      ],
      "metadata": {
        "id": "Uydl00dr78dp"
      },
      "execution_count": null,
      "outputs": []
    },
    {
      "cell_type": "code",
      "source": [
        "del X_integral"
      ],
      "metadata": {
        "id": "0rkRtGIr8Bc9"
      },
      "execution_count": null,
      "outputs": []
    },
    {
      "cell_type": "code",
      "source": [
        "del X_raw_derv"
      ],
      "metadata": {
        "id": "_RJ1EQdJZTQn"
      },
      "execution_count": null,
      "outputs": []
    },
    {
      "cell_type": "code",
      "source": [
        "del X_raw_integ"
      ],
      "metadata": {
        "id": "z0Sui8Q5oebm"
      },
      "execution_count": null,
      "outputs": []
    },
    {
      "cell_type": "code",
      "source": [
        "gc.collect()"
      ],
      "metadata": {
        "id": "XKPchRPR8MS_",
        "colab": {
          "base_uri": "https://localhost:8080/"
        },
        "outputId": "631e1581-2deb-45c1-c1ec-9ae8f1a05d1c"
      },
      "execution_count": null,
      "outputs": [
        {
          "output_type": "execute_result",
          "data": {
            "text/plain": [
              "651"
            ]
          },
          "metadata": {},
          "execution_count": 20
        }
      ]
    },
    {
      "cell_type": "markdown",
      "metadata": {
        "id": "4IBg45qka5_U"
      },
      "source": [
        "# **Data Splitting**"
      ]
    },
    {
      "cell_type": "code",
      "source": [
        "def split_data(X, labels):\n",
        "  X_train, X_test, Y_train, Y_test = train_test_split(X, labels, test_size=0.3, random_state=0)\n",
        "  del X\n",
        "  del labels\n",
        "  X_train, X_val, Y_train, Y_val = train_test_split(X_train, Y_train, test_size=0.05, random_state=0)\n",
        "  # del X_train_val\n",
        "  # del Y_train_val\n",
        "  return X_train, Y_train, X_val, Y_val, X_test, Y_test"
      ],
      "metadata": {
        "id": "08ToLL76xq4w"
      },
      "execution_count": null,
      "outputs": []
    },
    {
      "cell_type": "code",
      "execution_count": null,
      "metadata": {
        "id": "MvTeKf5wbK0Y",
        "colab": {
          "base_uri": "https://localhost:8080/"
        },
        "outputId": "29438bc3-c75d-444d-c580-389e55143382"
      },
      "outputs": [
        {
          "output_type": "stream",
          "name": "stdout",
          "text": [
            "(798000, 2, 128)\n"
          ]
        }
      ],
      "source": [
        "# Raw data only\n",
        "X_train, Y_train, X_val, Y_val, X_test, Y_test = split_data(X, all_labels)\n",
        "Y_train = np.array([val for val in Y_train[:,0]])\n",
        "Y_val = np.array([val for val in Y_val[:,0]])\n",
        "Y_test_snr = np.array([val for val in Y_test[:,1]])\n",
        "Y_test = np.array([val for val in Y_test[:,0]])\n",
        "print(X_train.shape)\n",
        "\n",
        "X_tuning, X_val_tuning, Y_tuning, Y_val_tuning = train_test_split(X_train, Y_train, test_size=0.5, random_state=0)"
      ]
    },
    {
      "cell_type": "code",
      "source": [
        "# Derivative data only\n",
        "X_deriv_train, Y_deriv_train, X_deriv_val, Y_deriv_val, X_deriv_test, Y_deriv_test = split_data(X_derivative, all_labels)\n",
        "Y_deriv_train = np.array([val for val in Y_deriv_train[:,0]])\n",
        "Y_deriv_val = np.array([val for val in Y_deriv_val[:,0]])\n",
        "Y_deriv_test_snr = np.array([val for val in Y_deriv_test[:,1]])\n",
        "Y_deriv_test = np.array([val for val in Y_deriv_test[:,0]])\n",
        "\n",
        "\n",
        "X_drev_tuning, X_drev_val_tuning, Y_drev_tuning, Y_drev_val_tuning = train_test_split(X_deriv_train, Y_deriv_train, test_size=0.5, random_state=0)"
      ],
      "metadata": {
        "id": "JlRXCl-IQ8GX"
      },
      "execution_count": null,
      "outputs": []
    },
    {
      "cell_type": "code",
      "source": [
        "# Integral data only\n",
        "X_int_train, Y_int_train, X_int_val, Y_int_val, X_int_test, Y_int_test = split_data(X_integral, all_labels)\n",
        "Y_int_train = np.array([val for val in Y_int_train[:,0]])\n",
        "Y_int_val = np.array([val for val in Y_int_val[:,0]])\n",
        "Y_int_test_snr = np.array([val for val in Y_int_test[:,1]])\n",
        "Y_int_test = np.array([val for val in Y_int_test[:,0]])\n",
        "\n",
        "\n",
        "X_int_tuning, X_int_val_tuning, Y_int_tuning, Y_int_val_tuning = train_test_split(X_int_train, Y_int_train, test_size=0.5, random_state=0)"
      ],
      "metadata": {
        "id": "VUIhCfcUQ-Sd"
      },
      "execution_count": null,
      "outputs": []
    },
    {
      "cell_type": "code",
      "source": [
        "# Raw and Derivative\n",
        "X_raw_deriv_train, Y_raw_deriv_train, X_raw_deriv_val, Y_raw_deriv_val, X_raw_deriv_test, Y_raw_deriv_test = split_data(X_raw_derv, all_labels)\n",
        "Y_raw_deriv_train = np.array([val for val in Y_raw_deriv_train[:,0]])\n",
        "Y_raw_deriv_val = np.array([val for val in Y_raw_deriv_val[:,0]])\n",
        "Y_raw_deriv_test_snr = np.array([val for val in Y_raw_deriv_test[:,1]])\n",
        "Y_raw_deriv_test = np.array([val for val in Y_raw_deriv_test[:,0]])\n",
        "\n",
        "\n",
        "X_raw_deriv_tuning, X_raw_deriv_val_tuning, Y_raw_deriv_tuning, Y_raw_deriv_val_tuning = train_test_split(X_raw_deriv_train, Y_raw_deriv_train, test_size=0.5, random_state=0)"
      ],
      "metadata": {
        "id": "fHSjllzn20_P"
      },
      "execution_count": null,
      "outputs": []
    },
    {
      "cell_type": "code",
      "source": [
        "# Raw and Integral\n",
        "X_raw_int_train, Y_raw_int_train, X_raw_int_val, Y_raw_int_val, X_raw_int_test, Y_raw_int_test = split_data(X_raw_integ, all_labels)\n",
        "Y_raw_int_train = np.array([val for val in Y_raw_int_train[:,0]])\n",
        "Y_raw_int_val = np.array([val for val in Y_raw_int_val[:,0]])\n",
        "Y_raw_int_test_snr = np.array([val for val in Y_raw_int_test[:,1]])\n",
        "Y_raw_int_test = np.array([val for val in Y_raw_int_test[:,0]])\n",
        "\n",
        "\n",
        "X_raw_int_tuning, X_raw_int_val_tuning, Y_raw_int_tuning, Y_raw_int_val_tuning = train_test_split(X_raw_int_train, Y_raw_int_train, test_size=0.5, random_state=0)"
      ],
      "metadata": {
        "id": "YJB5vBpQ3FZI"
      },
      "execution_count": null,
      "outputs": []
    },
    {
      "cell_type": "code",
      "source": [
        "# Raw, derivative, and integral\n",
        "X_combined_train, Y_combined_train, X_combined_val, Y_combined_val, X_combined_test, Y_combined_test = split_data(X_combined, all_labels)\n",
        "Y_combined_train = np.array([val for val in Y_combined_train[:,0]])\n",
        "Y_combined_val = np.array([val for val in Y_combined_val[:,0]])\n",
        "Y_combined_test_snr = np.array([val for val in Y_combined_test[:,1]])\n",
        "Y_combined_test = np.array([val for val in Y_combined_test[:,0]])\n",
        "\n",
        "\n",
        "X_combined_tuning, X_combined_val_tuning, Y_combined_tuning, Y_combined_val_tuning = train_test_split(X_combined_train, Y_combined_train, test_size=0.5, random_state=0)"
      ],
      "metadata": {
        "id": "an6n95Yt3Prf"
      },
      "execution_count": null,
      "outputs": []
    },
    {
      "cell_type": "markdown",
      "source": [
        "# **Model**"
      ],
      "metadata": {
        "id": "j_gFUiw1EKDQ"
      }
    },
    {
      "cell_type": "markdown",
      "source": [
        "# **CNN**"
      ],
      "metadata": {
        "id": "4kowe48pEQ3b"
      }
    },
    {
      "cell_type": "code",
      "source": [
        "def create_cnn_model(input_shape):\n",
        "  input_img = tf.keras.Input(shape=input_shape)\n",
        "  Z0 = tfl.Conv2D(64, (1, 3), activation='relu', padding=\"same\", strides=1)(input_img)\n",
        "  Z1 = tfl.Conv2D(16, (2, 3), activation='relu', padding=\"same\", strides=1)(Z0)\n",
        "  F = tfl.Flatten()(Z1)\n",
        "  FC1 = tfl.Dense(128, activation='relu')(F)\n",
        "  outputs = tfl.Dense(11, activation='softmax')(FC1)\n",
        "  # YOUR CODE ENDS HERE\n",
        "  model = tf.keras.Model(inputs=input_img, outputs=outputs)\n",
        "  return model"
      ],
      "metadata": {
        "id": "Vo3ybZohEJPg"
      },
      "execution_count": null,
      "outputs": []
    },
    {
      "cell_type": "markdown",
      "source": [
        "Tuning"
      ],
      "metadata": {
        "id": "GIcAhtiE7Oxx"
      }
    },
    {
      "cell_type": "code",
      "source": [
        "def get_best_learning_rate(input_shape, x, y, x_val, y_val, x_test, y_test):\n",
        "  learning_rates = [0.1, 0.01, 0.001, 0.0001]\n",
        "  best_acc = 0\n",
        "  best_learning_rate = 0\n",
        "  for lr in learning_rates:\n",
        "    cnn = create_cnn_model(input_shape)\n",
        "    adam = tf.keras.optimizers.Adam(learning_rate=lr)\n",
        "    cnn.compile(optimizer=adam,\n",
        "                      loss='categorical_crossentropy',\n",
        "                      metrics=['accuracy'])\n",
        "    cnn.summary()\n",
        "    print(\"\\nlearning rate : \", lr)\n",
        "    history = cnn.fit(x, y, batch_size=1024, epochs=20, verbose=2, validation_data=(x_val, y_val)) \n",
        "    evaluation = cnn.evaluate(x_test, y_test, batch_size=1024)\n",
        "\n",
        "    # Show loss curves \n",
        "    plt.figure()\n",
        "    plt.title('Training performance learning rate ' + str(lr))\n",
        "    plt.plot(history.epoch, history.history['loss'], label='train loss+error')\n",
        "    plt.plot(history.epoch, history.history['val_loss'], label='val_error')\n",
        "    plt.legend()\n",
        "\n",
        "    accuracy = evaluation[1]\n",
        "    if accuracy > best_acc:\n",
        "      best_acc = accuracy\n",
        "      best_learning_rate = lr\n",
        "  return best_learning_rate"
      ],
      "metadata": {
        "id": "-4Vz8CaJRT8m"
      },
      "execution_count": null,
      "outputs": []
    },
    {
      "cell_type": "markdown",
      "source": [
        "### Raw data run"
      ],
      "metadata": {
        "id": "EQQpQx8PJf51"
      }
    },
    {
      "cell_type": "code",
      "source": [
        "best_rate_raw = get_best_learning_rate((2, 128, 1), X_tuning, Y_tuning, X_val_tuning, Y_val_tuning, X_val, Y_val)"
      ],
      "metadata": {
        "id": "HEa4sMAc7QD3",
        "colab": {
          "base_uri": "https://localhost:8080/",
          "height": 1000
        },
        "outputId": "76cc5b69-bdd2-453d-b991-4997ba4e30b1"
      },
      "execution_count": null,
      "outputs": [
        {
          "output_type": "stream",
          "name": "stdout",
          "text": [
            "Model: \"model\"\n",
            "_________________________________________________________________\n",
            " Layer (type)                Output Shape              Param #   \n",
            "=================================================================\n",
            " input_1 (InputLayer)        [(None, 2, 128, 1)]       0         \n",
            "                                                                 \n",
            " conv2d (Conv2D)             (None, 2, 128, 64)        256       \n",
            "                                                                 \n",
            " conv2d_1 (Conv2D)           (None, 2, 128, 16)        6160      \n",
            "                                                                 \n",
            " flatten (Flatten)           (None, 4096)              0         \n",
            "                                                                 \n",
            " dense (Dense)               (None, 128)               524416    \n",
            "                                                                 \n",
            " dense_1 (Dense)             (None, 11)                1419      \n",
            "                                                                 \n",
            "=================================================================\n",
            "Total params: 532,251\n",
            "Trainable params: 532,251\n",
            "Non-trainable params: 0\n",
            "_________________________________________________________________\n",
            "\n",
            "learning rate :  0.1\n",
            "Epoch 1/20\n",
            "390/390 - 25s - loss: 2.4300 - accuracy: 0.0993 - val_loss: 2.3045 - val_accuracy: 0.0996 - 25s/epoch - 64ms/step\n",
            "Epoch 2/20\n",
            "390/390 - 12s - loss: 2.3046 - accuracy: 0.1002 - val_loss: 2.3048 - val_accuracy: 0.1003 - 12s/epoch - 30ms/step\n",
            "Epoch 3/20\n",
            "390/390 - 12s - loss: 2.3045 - accuracy: 0.0996 - val_loss: 2.3046 - val_accuracy: 0.1000 - 12s/epoch - 30ms/step\n",
            "Epoch 4/20\n",
            "390/390 - 12s - loss: 2.3046 - accuracy: 0.0999 - val_loss: 2.3051 - val_accuracy: 0.0996 - 12s/epoch - 31ms/step\n",
            "Epoch 5/20\n",
            "390/390 - 11s - loss: 2.3045 - accuracy: 0.0995 - val_loss: 2.3038 - val_accuracy: 0.1001 - 11s/epoch - 29ms/step\n",
            "Epoch 6/20\n",
            "390/390 - 11s - loss: 2.3044 - accuracy: 0.0990 - val_loss: 2.3036 - val_accuracy: 0.1000 - 11s/epoch - 29ms/step\n",
            "Epoch 7/20\n",
            "390/390 - 11s - loss: 2.3046 - accuracy: 0.1000 - val_loss: 2.3054 - val_accuracy: 0.1005 - 11s/epoch - 29ms/step\n",
            "Epoch 8/20\n",
            "390/390 - 13s - loss: 2.3047 - accuracy: 0.0999 - val_loss: 2.3081 - val_accuracy: 0.1001 - 13s/epoch - 34ms/step\n",
            "Epoch 9/20\n",
            "390/390 - 11s - loss: 2.3046 - accuracy: 0.1002 - val_loss: 2.3039 - val_accuracy: 0.0997 - 11s/epoch - 29ms/step\n",
            "Epoch 10/20\n",
            "390/390 - 13s - loss: 2.3048 - accuracy: 0.0993 - val_loss: 2.3046 - val_accuracy: 0.1005 - 13s/epoch - 34ms/step\n",
            "Epoch 11/20\n",
            "390/390 - 12s - loss: 2.3047 - accuracy: 0.1005 - val_loss: 2.3059 - val_accuracy: 0.1001 - 12s/epoch - 30ms/step\n",
            "Epoch 12/20\n",
            "390/390 - 13s - loss: 2.3043 - accuracy: 0.1006 - val_loss: 2.3048 - val_accuracy: 0.1000 - 13s/epoch - 35ms/step\n",
            "Epoch 13/20\n",
            "390/390 - 14s - loss: 2.3044 - accuracy: 0.0993 - val_loss: 2.3041 - val_accuracy: 0.1001 - 14s/epoch - 35ms/step\n",
            "Epoch 14/20\n",
            "390/390 - 12s - loss: 2.3044 - accuracy: 0.1002 - val_loss: 2.3055 - val_accuracy: 0.0998 - 12s/epoch - 30ms/step\n",
            "Epoch 15/20\n",
            "390/390 - 12s - loss: 2.3048 - accuracy: 0.1008 - val_loss: 2.3058 - val_accuracy: 0.1001 - 12s/epoch - 30ms/step\n",
            "Epoch 16/20\n",
            "390/390 - 14s - loss: 2.3048 - accuracy: 0.0996 - val_loss: 2.3046 - val_accuracy: 0.0999 - 14s/epoch - 35ms/step\n",
            "Epoch 17/20\n",
            "390/390 - 14s - loss: 2.3047 - accuracy: 0.1003 - val_loss: 2.3066 - val_accuracy: 0.1003 - 14s/epoch - 35ms/step\n",
            "Epoch 18/20\n",
            "390/390 - 12s - loss: 2.3046 - accuracy: 0.1003 - val_loss: 2.3052 - val_accuracy: 0.1003 - 12s/epoch - 30ms/step\n",
            "Epoch 19/20\n",
            "390/390 - 12s - loss: 2.3043 - accuracy: 0.1005 - val_loss: 2.3037 - val_accuracy: 0.1000 - 12s/epoch - 30ms/step\n",
            "Epoch 20/20\n",
            "390/390 - 12s - loss: 2.3043 - accuracy: 0.1012 - val_loss: 2.3050 - val_accuracy: 0.1001 - 12s/epoch - 30ms/step\n",
            "42/42 [==============================] - 1s 14ms/step - loss: 2.3049 - accuracy: 0.0986\n",
            "Model: \"model_1\"\n",
            "_________________________________________________________________\n",
            " Layer (type)                Output Shape              Param #   \n",
            "=================================================================\n",
            " input_2 (InputLayer)        [(None, 2, 128, 1)]       0         \n",
            "                                                                 \n",
            " conv2d_2 (Conv2D)           (None, 2, 128, 64)        256       \n",
            "                                                                 \n",
            " conv2d_3 (Conv2D)           (None, 2, 128, 16)        6160      \n",
            "                                                                 \n",
            " flatten_1 (Flatten)         (None, 4096)              0         \n",
            "                                                                 \n",
            " dense_2 (Dense)             (None, 128)               524416    \n",
            "                                                                 \n",
            " dense_3 (Dense)             (None, 11)                1419      \n",
            "                                                                 \n",
            "=================================================================\n",
            "Total params: 532,251\n",
            "Trainable params: 532,251\n",
            "Non-trainable params: 0\n",
            "_________________________________________________________________\n",
            "\n",
            "learning rate :  0.01\n",
            "Epoch 1/20\n",
            "390/390 - 15s - loss: 1.9767 - accuracy: 0.2233 - val_loss: 1.7974 - val_accuracy: 0.2877 - 15s/epoch - 37ms/step\n",
            "Epoch 2/20\n",
            "390/390 - 14s - loss: 1.7677 - accuracy: 0.2994 - val_loss: 1.7506 - val_accuracy: 0.3037 - 14s/epoch - 35ms/step\n",
            "Epoch 3/20\n",
            "390/390 - 12s - loss: 1.7212 - accuracy: 0.3133 - val_loss: 1.7094 - val_accuracy: 0.3193 - 12s/epoch - 30ms/step\n",
            "Epoch 4/20\n",
            "390/390 - 12s - loss: 1.7038 - accuracy: 0.3169 - val_loss: 1.7114 - val_accuracy: 0.3161 - 12s/epoch - 30ms/step\n",
            "Epoch 5/20\n",
            "390/390 - 14s - loss: 1.6921 - accuracy: 0.3205 - val_loss: 1.6924 - val_accuracy: 0.3200 - 14s/epoch - 35ms/step\n",
            "Epoch 6/20\n",
            "390/390 - 14s - loss: 1.6156 - accuracy: 0.3540 - val_loss: 1.5536 - val_accuracy: 0.3831 - 14s/epoch - 35ms/step\n",
            "Epoch 7/20\n",
            "390/390 - 12s - loss: 1.5082 - accuracy: 0.3928 - val_loss: 1.4895 - val_accuracy: 0.4018 - 12s/epoch - 30ms/step\n",
            "Epoch 8/20\n",
            "390/390 - 14s - loss: 1.4648 - accuracy: 0.4055 - val_loss: 1.4539 - val_accuracy: 0.4056 - 14s/epoch - 35ms/step\n",
            "Epoch 9/20\n",
            "390/390 - 14s - loss: 1.4427 - accuracy: 0.4125 - val_loss: 1.4509 - val_accuracy: 0.4089 - 14s/epoch - 35ms/step\n",
            "Epoch 10/20\n",
            "390/390 - 14s - loss: 1.4301 - accuracy: 0.4180 - val_loss: 1.4495 - val_accuracy: 0.4074 - 14s/epoch - 35ms/step\n",
            "Epoch 11/20\n",
            "390/390 - 14s - loss: 1.4221 - accuracy: 0.4211 - val_loss: 1.4255 - val_accuracy: 0.4230 - 14s/epoch - 35ms/step\n",
            "Epoch 12/20\n",
            "390/390 - 12s - loss: 1.4089 - accuracy: 0.4265 - val_loss: 1.4244 - val_accuracy: 0.4226 - 12s/epoch - 31ms/step\n",
            "Epoch 13/20\n",
            "390/390 - 14s - loss: 1.3942 - accuracy: 0.4322 - val_loss: 1.3991 - val_accuracy: 0.4312 - 14s/epoch - 35ms/step\n",
            "Epoch 14/20\n",
            "390/390 - 14s - loss: 1.3780 - accuracy: 0.4377 - val_loss: 1.4035 - val_accuracy: 0.4305 - 14s/epoch - 35ms/step\n",
            "Epoch 15/20\n",
            "390/390 - 12s - loss: 1.3631 - accuracy: 0.4424 - val_loss: 1.3682 - val_accuracy: 0.4429 - 12s/epoch - 30ms/step\n",
            "Epoch 16/20\n",
            "390/390 - 14s - loss: 1.3563 - accuracy: 0.4458 - val_loss: 1.3625 - val_accuracy: 0.4427 - 14s/epoch - 35ms/step\n",
            "Epoch 17/20\n",
            "390/390 - 12s - loss: 1.3493 - accuracy: 0.4478 - val_loss: 1.3694 - val_accuracy: 0.4355 - 12s/epoch - 30ms/step\n",
            "Epoch 18/20\n",
            "390/390 - 12s - loss: 1.3428 - accuracy: 0.4510 - val_loss: 1.3631 - val_accuracy: 0.4323 - 12s/epoch - 30ms/step\n",
            "Epoch 19/20\n",
            "390/390 - 14s - loss: 1.3404 - accuracy: 0.4508 - val_loss: 1.3530 - val_accuracy: 0.4397 - 14s/epoch - 35ms/step\n",
            "Epoch 20/20\n",
            "390/390 - 14s - loss: 1.3360 - accuracy: 0.4529 - val_loss: 1.3562 - val_accuracy: 0.4499 - 14s/epoch - 35ms/step\n",
            "42/42 [==============================] - 0s 11ms/step - loss: 1.3580 - accuracy: 0.4486\n",
            "Model: \"model_2\"\n",
            "_________________________________________________________________\n",
            " Layer (type)                Output Shape              Param #   \n",
            "=================================================================\n",
            " input_3 (InputLayer)        [(None, 2, 128, 1)]       0         \n",
            "                                                                 \n",
            " conv2d_4 (Conv2D)           (None, 2, 128, 64)        256       \n",
            "                                                                 \n",
            " conv2d_5 (Conv2D)           (None, 2, 128, 16)        6160      \n",
            "                                                                 \n",
            " flatten_2 (Flatten)         (None, 4096)              0         \n",
            "                                                                 \n",
            " dense_4 (Dense)             (None, 128)               524416    \n",
            "                                                                 \n",
            " dense_5 (Dense)             (None, 11)                1419      \n",
            "                                                                 \n",
            "=================================================================\n",
            "Total params: 532,251\n",
            "Trainable params: 532,251\n",
            "Non-trainable params: 0\n",
            "_________________________________________________________________\n",
            "\n",
            "learning rate :  0.001\n",
            "Epoch 1/20\n",
            "390/390 - 13s - loss: 2.0800 - accuracy: 0.1951 - val_loss: 1.8812 - val_accuracy: 0.2594 - 13s/epoch - 33ms/step\n",
            "Epoch 2/20\n",
            "390/390 - 12s - loss: 1.7185 - accuracy: 0.3165 - val_loss: 1.6099 - val_accuracy: 0.3511 - 12s/epoch - 31ms/step\n",
            "Epoch 3/20\n",
            "390/390 - 14s - loss: 1.5411 - accuracy: 0.3784 - val_loss: 1.4844 - val_accuracy: 0.4023 - 14s/epoch - 36ms/step\n",
            "Epoch 4/20\n",
            "390/390 - 12s - loss: 1.4245 - accuracy: 0.4222 - val_loss: 1.3903 - val_accuracy: 0.4324 - 12s/epoch - 31ms/step\n",
            "Epoch 5/20\n",
            "390/390 - 12s - loss: 1.3566 - accuracy: 0.4490 - val_loss: 1.3318 - val_accuracy: 0.4548 - 12s/epoch - 31ms/step\n",
            "Epoch 6/20\n",
            "390/390 - 14s - loss: 1.3138 - accuracy: 0.4662 - val_loss: 1.3165 - val_accuracy: 0.4654 - 14s/epoch - 36ms/step\n",
            "Epoch 7/20\n",
            "390/390 - 12s - loss: 1.2849 - accuracy: 0.4775 - val_loss: 1.2718 - val_accuracy: 0.4883 - 12s/epoch - 31ms/step\n",
            "Epoch 8/20\n",
            "390/390 - 12s - loss: 1.2661 - accuracy: 0.4846 - val_loss: 1.2650 - val_accuracy: 0.4874 - 12s/epoch - 31ms/step\n",
            "Epoch 9/20\n",
            "390/390 - 14s - loss: 1.2462 - accuracy: 0.4904 - val_loss: 1.2560 - val_accuracy: 0.4857 - 14s/epoch - 36ms/step\n",
            "Epoch 10/20\n",
            "390/390 - 12s - loss: 1.2292 - accuracy: 0.4951 - val_loss: 1.2311 - val_accuracy: 0.4990 - 12s/epoch - 31ms/step\n",
            "Epoch 11/20\n",
            "390/390 - 14s - loss: 1.2137 - accuracy: 0.5000 - val_loss: 1.2197 - val_accuracy: 0.5017 - 14s/epoch - 36ms/step\n",
            "Epoch 12/20\n",
            "390/390 - 14s - loss: 1.2034 - accuracy: 0.5028 - val_loss: 1.2120 - val_accuracy: 0.4928 - 14s/epoch - 36ms/step\n",
            "Epoch 13/20\n",
            "390/390 - 14s - loss: 1.1961 - accuracy: 0.5053 - val_loss: 1.2026 - val_accuracy: 0.5054 - 14s/epoch - 36ms/step\n",
            "Epoch 14/20\n",
            "390/390 - 12s - loss: 1.1843 - accuracy: 0.5083 - val_loss: 1.1993 - val_accuracy: 0.5040 - 12s/epoch - 31ms/step\n",
            "Epoch 15/20\n",
            "390/390 - 14s - loss: 1.1785 - accuracy: 0.5099 - val_loss: 1.1848 - val_accuracy: 0.5110 - 14s/epoch - 36ms/step\n",
            "Epoch 16/20\n",
            "390/390 - 14s - loss: 1.1734 - accuracy: 0.5116 - val_loss: 1.1891 - val_accuracy: 0.4986 - 14s/epoch - 36ms/step\n",
            "Epoch 17/20\n",
            "390/390 - 12s - loss: 1.1677 - accuracy: 0.5134 - val_loss: 1.1969 - val_accuracy: 0.5015 - 12s/epoch - 31ms/step\n",
            "Epoch 18/20\n",
            "390/390 - 12s - loss: 1.1624 - accuracy: 0.5154 - val_loss: 1.1877 - val_accuracy: 0.5022 - 12s/epoch - 31ms/step\n",
            "Epoch 19/20\n",
            "390/390 - 12s - loss: 1.1602 - accuracy: 0.5154 - val_loss: 1.1757 - val_accuracy: 0.5028 - 12s/epoch - 31ms/step\n",
            "Epoch 20/20\n",
            "390/390 - 14s - loss: 1.1563 - accuracy: 0.5168 - val_loss: 1.1748 - val_accuracy: 0.5077 - 14s/epoch - 36ms/step\n",
            "42/42 [==============================] - 0s 11ms/step - loss: 1.1707 - accuracy: 0.5054\n",
            "Model: \"model_3\"\n",
            "_________________________________________________________________\n",
            " Layer (type)                Output Shape              Param #   \n",
            "=================================================================\n",
            " input_4 (InputLayer)        [(None, 2, 128, 1)]       0         \n",
            "                                                                 \n",
            " conv2d_6 (Conv2D)           (None, 2, 128, 64)        256       \n",
            "                                                                 \n",
            " conv2d_7 (Conv2D)           (None, 2, 128, 16)        6160      \n",
            "                                                                 \n",
            " flatten_3 (Flatten)         (None, 4096)              0         \n",
            "                                                                 \n",
            " dense_6 (Dense)             (None, 128)               524416    \n",
            "                                                                 \n",
            " dense_7 (Dense)             (None, 11)                1419      \n",
            "                                                                 \n",
            "=================================================================\n",
            "Total params: 532,251\n",
            "Trainable params: 532,251\n",
            "Non-trainable params: 0\n",
            "_________________________________________________________________\n",
            "\n",
            "learning rate :  0.0001\n",
            "Epoch 1/20\n",
            "390/390 - 15s - loss: 2.2747 - accuracy: 0.1332 - val_loss: 2.1755 - val_accuracy: 0.1552 - 15s/epoch - 38ms/step\n",
            "Epoch 2/20\n",
            "390/390 - 12s - loss: 2.1475 - accuracy: 0.1613 - val_loss: 2.1311 - val_accuracy: 0.1640 - 12s/epoch - 31ms/step\n",
            "Epoch 3/20\n",
            "390/390 - 12s - loss: 2.1193 - accuracy: 0.1822 - val_loss: 2.1053 - val_accuracy: 0.1799 - 12s/epoch - 31ms/step\n",
            "Epoch 4/20\n",
            "390/390 - 14s - loss: 2.0891 - accuracy: 0.2015 - val_loss: 2.0727 - val_accuracy: 0.2131 - 14s/epoch - 36ms/step\n",
            "Epoch 5/20\n",
            "390/390 - 12s - loss: 2.0528 - accuracy: 0.2162 - val_loss: 2.0356 - val_accuracy: 0.2295 - 12s/epoch - 31ms/step\n",
            "Epoch 6/20\n",
            "390/390 - 12s - loss: 2.0141 - accuracy: 0.2272 - val_loss: 1.9986 - val_accuracy: 0.2247 - 12s/epoch - 31ms/step\n",
            "Epoch 7/20\n",
            "390/390 - 12s - loss: 1.9754 - accuracy: 0.2355 - val_loss: 1.9603 - val_accuracy: 0.2388 - 12s/epoch - 31ms/step\n",
            "Epoch 8/20\n",
            "390/390 - 12s - loss: 1.9376 - accuracy: 0.2466 - val_loss: 1.9213 - val_accuracy: 0.2555 - 12s/epoch - 31ms/step\n",
            "Epoch 9/20\n",
            "390/390 - 12s - loss: 1.8967 - accuracy: 0.2620 - val_loss: 1.8830 - val_accuracy: 0.2584 - 12s/epoch - 31ms/step\n",
            "Epoch 10/20\n",
            "390/390 - 12s - loss: 1.8606 - accuracy: 0.2743 - val_loss: 1.8505 - val_accuracy: 0.2782 - 12s/epoch - 31ms/step\n",
            "Epoch 11/20\n",
            "390/390 - 12s - loss: 1.8312 - accuracy: 0.2837 - val_loss: 1.8198 - val_accuracy: 0.2865 - 12s/epoch - 31ms/step\n",
            "Epoch 12/20\n",
            "390/390 - 14s - loss: 1.8076 - accuracy: 0.2900 - val_loss: 1.8053 - val_accuracy: 0.2914 - 14s/epoch - 36ms/step\n",
            "Epoch 13/20\n",
            "390/390 - 14s - loss: 1.7866 - accuracy: 0.2949 - val_loss: 1.7799 - val_accuracy: 0.2936 - 14s/epoch - 36ms/step\n",
            "Epoch 14/20\n",
            "390/390 - 14s - loss: 1.7650 - accuracy: 0.3012 - val_loss: 1.7645 - val_accuracy: 0.2939 - 14s/epoch - 36ms/step\n",
            "Epoch 15/20\n",
            "390/390 - 14s - loss: 1.7447 - accuracy: 0.3087 - val_loss: 1.7385 - val_accuracy: 0.3032 - 14s/epoch - 36ms/step\n",
            "Epoch 16/20\n",
            "390/390 - 14s - loss: 1.7210 - accuracy: 0.3180 - val_loss: 1.7112 - val_accuracy: 0.3182 - 14s/epoch - 36ms/step\n",
            "Epoch 17/20\n",
            "390/390 - 12s - loss: 1.6993 - accuracy: 0.3279 - val_loss: 1.6938 - val_accuracy: 0.3334 - 12s/epoch - 31ms/step\n",
            "Epoch 18/20\n",
            "390/390 - 12s - loss: 1.6780 - accuracy: 0.3378 - val_loss: 1.6723 - val_accuracy: 0.3487 - 12s/epoch - 31ms/step\n",
            "Epoch 19/20\n",
            "390/390 - 12s - loss: 1.6578 - accuracy: 0.3491 - val_loss: 1.6566 - val_accuracy: 0.3429 - 12s/epoch - 31ms/step\n",
            "Epoch 20/20\n",
            "390/390 - 12s - loss: 1.6389 - accuracy: 0.3598 - val_loss: 1.6342 - val_accuracy: 0.3598 - 12s/epoch - 31ms/step\n",
            "42/42 [==============================] - 0s 11ms/step - loss: 1.6332 - accuracy: 0.3585\n"
          ]
        },
        {
          "output_type": "display_data",
          "data": {
            "text/plain": [
              "<Figure size 432x288 with 1 Axes>"
            ],
            "image/png": "[encoded data removed]"
          },
          "metadata": {
            "needs_background": "light"
          }
        },
        {
          "output_type": "display_data",
          "data": {
            "text/plain": [
              "<Figure size 432x288 with 1 Axes>"
            ],
            "image/png": "[encoded data removed]"
          },
          "metadata": {
            "needs_background": "light"
          }
        },
        {
          "output_type": "display_data",
          "data": {
            "text/plain": [
              "<Figure size 432x288 with 1 Axes>"
            ],
            "image/png": "[encoded data removed]"
          },
          "metadata": {
            "needs_background": "light"
          }
        },
        {
          "output_type": "display_data",
          "data": {
            "text/plain": [
              "<Figure size 432x288 with 1 Axes>"
            ],
            "image/png": "[encoded data removed]"
          },
          "metadata": {
            "needs_background": "light"
          }
        }
      ]
    },
    {
      "cell_type": "code",
      "source": [
        "print(best_rate_raw)"
      ],
      "metadata": {
        "colab": {
          "base_uri": "https://localhost:8080/"
        },
        "id": "cuJhRSr7PYq8",
        "outputId": "317da1e8-5169-4f91-80ef-cc3939585219"
      },
      "execution_count": null,
      "outputs": [
        {
          "output_type": "stream",
          "name": "stdout",
          "text": [
            "0.001\n"
          ]
        }
      ]
    },
    {
      "cell_type": "code",
      "source": [
        "cnn_model = create_cnn_model((2, 128, 1))\n",
        "adam = tf.keras.optimizers.Adam(learning_rate=best_rate_raw)\n",
        "cnn_model.compile(optimizer=adam,\n",
        "                  loss='categorical_crossentropy',\n",
        "                  metrics=['accuracy'])\n",
        "cnn_model.summary()"
      ],
      "metadata": {
        "colab": {
          "base_uri": "https://localhost:8080/"
        },
        "id": "Z_KUPx5TJNKT",
        "outputId": "861a6b1a-2fb1-4341-e82e-1f522f66f7b0"
      },
      "execution_count": null,
      "outputs": [
        {
          "output_type": "stream",
          "name": "stdout",
          "text": [
            "Model: \"model\"\n",
            "_________________________________________________________________\n",
            " Layer (type)                Output Shape              Param #   \n",
            "=================================================================\n",
            " input_1 (InputLayer)        [(None, 2, 128, 1)]       0         \n",
            "                                                                 \n",
            " conv2d (Conv2D)             (None, 2, 128, 64)        256       \n",
            "                                                                 \n",
            " conv2d_1 (Conv2D)           (None, 2, 128, 16)        6160      \n",
            "                                                                 \n",
            " flatten (Flatten)           (None, 4096)              0         \n",
            "                                                                 \n",
            " dense (Dense)               (None, 128)               524416    \n",
            "                                                                 \n",
            " dense_1 (Dense)             (None, 11)                1419      \n",
            "                                                                 \n",
            "=================================================================\n",
            "Total params: 532,251\n",
            "Trainable params: 532,251\n",
            "Non-trainable params: 0\n",
            "_________________________________________________________________\n"
          ]
        }
      ]
    },
    {
      "cell_type": "code",
      "source": [
        "history = cnn_model.fit(X_train, Y_train, batch_size=1024, epochs=100, verbose=2, validation_data=(X_val, Y_val)) "
      ],
      "metadata": {
        "colab": {
          "base_uri": "https://localhost:8080/"
        },
        "id": "F7-ShrnLJjfB",
        "outputId": "698a4983-6e05-4eec-b22e-414c318b2b4f"
      },
      "execution_count": null,
      "outputs": [
        {
          "output_type": "stream",
          "name": "stdout",
          "text": [
            "Epoch 1/100\n",
            "780/780 - 18s - loss: 1.8602 - accuracy: 0.2735 - val_loss: 1.5072 - val_accuracy: 0.3922 - 18s/epoch - 23ms/step\n",
            "Epoch 2/100\n",
            "780/780 - 18s - loss: 1.3849 - accuracy: 0.4415 - val_loss: 1.3181 - val_accuracy: 0.4665 - 18s/epoch - 23ms/step\n",
            "Epoch 3/100\n",
            "780/780 - 17s - loss: 1.2923 - accuracy: 0.4745 - val_loss: 1.2914 - val_accuracy: 0.4763 - 17s/epoch - 22ms/step\n",
            "Epoch 4/100\n",
            "780/780 - 18s - loss: 1.2580 - accuracy: 0.4871 - val_loss: 1.2452 - val_accuracy: 0.4881 - 18s/epoch - 23ms/step\n",
            "Epoch 5/100\n",
            "780/780 - 18s - loss: 1.2239 - accuracy: 0.4994 - val_loss: 1.2118 - val_accuracy: 0.5002 - 18s/epoch - 23ms/step\n",
            "Epoch 6/100\n",
            "780/780 - 18s - loss: 1.1949 - accuracy: 0.5103 - val_loss: 1.1855 - val_accuracy: 0.5108 - 18s/epoch - 23ms/step\n",
            "Epoch 7/100\n",
            "780/780 - 18s - loss: 1.1686 - accuracy: 0.5197 - val_loss: 1.1570 - val_accuracy: 0.5211 - 18s/epoch - 23ms/step\n",
            "Epoch 8/100\n",
            "780/780 - 18s - loss: 1.1424 - accuracy: 0.5290 - val_loss: 1.1370 - val_accuracy: 0.5341 - 18s/epoch - 23ms/step\n",
            "Epoch 9/100\n",
            "780/780 - 19s - loss: 1.1235 - accuracy: 0.5373 - val_loss: 1.1227 - val_accuracy: 0.5387 - 19s/epoch - 24ms/step\n",
            "Epoch 10/100\n",
            "780/780 - 19s - loss: 1.1105 - accuracy: 0.5419 - val_loss: 1.1182 - val_accuracy: 0.5385 - 19s/epoch - 24ms/step\n",
            "Epoch 11/100\n",
            "780/780 - 19s - loss: 1.1026 - accuracy: 0.5443 - val_loss: 1.1124 - val_accuracy: 0.5418 - 19s/epoch - 24ms/step\n",
            "Epoch 12/100\n",
            "780/780 - 18s - loss: 1.0936 - accuracy: 0.5475 - val_loss: 1.1017 - val_accuracy: 0.5452 - 18s/epoch - 24ms/step\n",
            "Epoch 13/100\n",
            "780/780 - 18s - loss: 1.0873 - accuracy: 0.5498 - val_loss: 1.0992 - val_accuracy: 0.5467 - 18s/epoch - 24ms/step\n",
            "Epoch 14/100\n",
            "780/780 - 19s - loss: 1.0794 - accuracy: 0.5528 - val_loss: 1.0938 - val_accuracy: 0.5483 - 19s/epoch - 24ms/step\n",
            "Epoch 15/100\n",
            "780/780 - 19s - loss: 1.0731 - accuracy: 0.5557 - val_loss: 1.1066 - val_accuracy: 0.5407 - 19s/epoch - 24ms/step\n",
            "Epoch 16/100\n",
            "780/780 - 19s - loss: 1.0676 - accuracy: 0.5580 - val_loss: 1.0802 - val_accuracy: 0.5468 - 19s/epoch - 24ms/step\n",
            "Epoch 17/100\n",
            "780/780 - 19s - loss: 1.0610 - accuracy: 0.5612 - val_loss: 1.0809 - val_accuracy: 0.5523 - 19s/epoch - 25ms/step\n",
            "Epoch 18/100\n",
            "780/780 - 19s - loss: 1.0528 - accuracy: 0.5645 - val_loss: 1.0681 - val_accuracy: 0.5562 - 19s/epoch - 24ms/step\n",
            "Epoch 19/100\n",
            "780/780 - 19s - loss: 1.0434 - accuracy: 0.5681 - val_loss: 1.0553 - val_accuracy: 0.5618 - 19s/epoch - 24ms/step\n",
            "Epoch 20/100\n",
            "780/780 - 19s - loss: 1.0353 - accuracy: 0.5712 - val_loss: 1.0663 - val_accuracy: 0.5481 - 19s/epoch - 24ms/step\n",
            "Epoch 21/100\n",
            "780/780 - 19s - loss: 1.0303 - accuracy: 0.5736 - val_loss: 1.0520 - val_accuracy: 0.5639 - 19s/epoch - 24ms/step\n",
            "Epoch 22/100\n",
            "780/780 - 19s - loss: 1.0269 - accuracy: 0.5745 - val_loss: 1.0503 - val_accuracy: 0.5638 - 19s/epoch - 24ms/step\n",
            "Epoch 23/100\n",
            "780/780 - 19s - loss: 1.0228 - accuracy: 0.5761 - val_loss: 1.0636 - val_accuracy: 0.5554 - 19s/epoch - 24ms/step\n",
            "Epoch 24/100\n",
            "780/780 - 19s - loss: 1.0209 - accuracy: 0.5772 - val_loss: 1.0515 - val_accuracy: 0.5603 - 19s/epoch - 24ms/step\n",
            "Epoch 25/100\n",
            "780/780 - 19s - loss: 1.0175 - accuracy: 0.5786 - val_loss: 1.0534 - val_accuracy: 0.5622 - 19s/epoch - 24ms/step\n",
            "Epoch 26/100\n",
            "780/780 - 19s - loss: 1.0156 - accuracy: 0.5795 - val_loss: 1.0485 - val_accuracy: 0.5629 - 19s/epoch - 24ms/step\n",
            "Epoch 27/100\n",
            "780/780 - 19s - loss: 1.0122 - accuracy: 0.5813 - val_loss: 1.0563 - val_accuracy: 0.5620 - 19s/epoch - 24ms/step\n",
            "Epoch 28/100\n",
            "780/780 - 19s - loss: 1.0094 - accuracy: 0.5826 - val_loss: 1.0487 - val_accuracy: 0.5621 - 19s/epoch - 24ms/step\n",
            "Epoch 29/100\n",
            "780/780 - 19s - loss: 1.0078 - accuracy: 0.5833 - val_loss: 1.0486 - val_accuracy: 0.5616 - 19s/epoch - 24ms/step\n",
            "Epoch 30/100\n",
            "780/780 - 21s - loss: 1.0056 - accuracy: 0.5840 - val_loss: 1.0793 - val_accuracy: 0.5535 - 21s/epoch - 27ms/step\n",
            "Epoch 31/100\n",
            "780/780 - 20s - loss: 1.0031 - accuracy: 0.5861 - val_loss: 1.0547 - val_accuracy: 0.5587 - 20s/epoch - 25ms/step\n",
            "Epoch 32/100\n",
            "780/780 - 20s - loss: 1.0011 - accuracy: 0.5870 - val_loss: 1.0541 - val_accuracy: 0.5590 - 20s/epoch - 26ms/step\n",
            "Epoch 33/100\n",
            "780/780 - 20s - loss: 0.9983 - accuracy: 0.5885 - val_loss: 1.0634 - val_accuracy: 0.5591 - 20s/epoch - 26ms/step\n",
            "Epoch 34/100\n",
            "780/780 - 20s - loss: 0.9968 - accuracy: 0.5890 - val_loss: 1.0472 - val_accuracy: 0.5652 - 20s/epoch - 25ms/step\n",
            "Epoch 35/100\n",
            "780/780 - 20s - loss: 0.9953 - accuracy: 0.5901 - val_loss: 1.0539 - val_accuracy: 0.5638 - 20s/epoch - 26ms/step\n",
            "Epoch 36/100\n",
            "780/780 - 20s - loss: 0.9936 - accuracy: 0.5905 - val_loss: 1.0530 - val_accuracy: 0.5640 - 20s/epoch - 25ms/step\n",
            "Epoch 37/100\n",
            "780/780 - 18s - loss: 0.9905 - accuracy: 0.5922 - val_loss: 1.0572 - val_accuracy: 0.5638 - 18s/epoch - 24ms/step\n",
            "Epoch 38/100\n",
            "780/780 - 18s - loss: 0.9889 - accuracy: 0.5932 - val_loss: 1.0603 - val_accuracy: 0.5654 - 18s/epoch - 24ms/step\n",
            "Epoch 39/100\n",
            "780/780 - 18s - loss: 0.9872 - accuracy: 0.5941 - val_loss: 1.0538 - val_accuracy: 0.5657 - 18s/epoch - 24ms/step\n",
            "Epoch 40/100\n",
            "780/780 - 19s - loss: 0.9843 - accuracy: 0.5951 - val_loss: 1.0563 - val_accuracy: 0.5645 - 19s/epoch - 24ms/step\n",
            "Epoch 41/100\n",
            "780/780 - 19s - loss: 0.9832 - accuracy: 0.5965 - val_loss: 1.0545 - val_accuracy: 0.5654 - 19s/epoch - 24ms/step\n",
            "Epoch 42/100\n",
            "780/780 - 19s - loss: 0.9811 - accuracy: 0.5977 - val_loss: 1.0608 - val_accuracy: 0.5608 - 19s/epoch - 24ms/step\n",
            "Epoch 43/100\n",
            "780/780 - 18s - loss: 0.9790 - accuracy: 0.5985 - val_loss: 1.0603 - val_accuracy: 0.5656 - 18s/epoch - 24ms/step\n",
            "Epoch 44/100\n",
            "780/780 - 19s - loss: 0.9768 - accuracy: 0.5998 - val_loss: 1.0640 - val_accuracy: 0.5645 - 19s/epoch - 24ms/step\n",
            "Epoch 45/100\n",
            "780/780 - 19s - loss: 0.9756 - accuracy: 0.6005 - val_loss: 1.0618 - val_accuracy: 0.5627 - 19s/epoch - 24ms/step\n",
            "Epoch 46/100\n",
            "780/780 - 18s - loss: 0.9736 - accuracy: 0.6016 - val_loss: 1.0648 - val_accuracy: 0.5634 - 18s/epoch - 24ms/step\n",
            "Epoch 47/100\n",
            "780/780 - 19s - loss: 0.9722 - accuracy: 0.6019 - val_loss: 1.0723 - val_accuracy: 0.5608 - 19s/epoch - 24ms/step\n",
            "Epoch 48/100\n",
            "780/780 - 19s - loss: 0.9704 - accuracy: 0.6034 - val_loss: 1.0701 - val_accuracy: 0.5653 - 19s/epoch - 24ms/step\n",
            "Epoch 49/100\n",
            "780/780 - 19s - loss: 0.9681 - accuracy: 0.6042 - val_loss: 1.0718 - val_accuracy: 0.5672 - 19s/epoch - 24ms/step\n",
            "Epoch 50/100\n",
            "780/780 - 18s - loss: 0.9660 - accuracy: 0.6058 - val_loss: 1.0761 - val_accuracy: 0.5672 - 18s/epoch - 24ms/step\n",
            "Epoch 51/100\n",
            "780/780 - 19s - loss: 0.9649 - accuracy: 0.6061 - val_loss: 1.0652 - val_accuracy: 0.5633 - 19s/epoch - 24ms/step\n",
            "Epoch 52/100\n",
            "780/780 - 19s - loss: 0.9625 - accuracy: 0.6073 - val_loss: 1.0790 - val_accuracy: 0.5588 - 19s/epoch - 24ms/step\n",
            "Epoch 53/100\n",
            "780/780 - 19s - loss: 0.9608 - accuracy: 0.6079 - val_loss: 1.0668 - val_accuracy: 0.5679 - 19s/epoch - 24ms/step\n",
            "Epoch 54/100\n",
            "780/780 - 18s - loss: 0.9581 - accuracy: 0.6096 - val_loss: 1.0742 - val_accuracy: 0.5645 - 18s/epoch - 24ms/step\n",
            "Epoch 55/100\n",
            "780/780 - 18s - loss: 0.9570 - accuracy: 0.6107 - val_loss: 1.0747 - val_accuracy: 0.5671 - 18s/epoch - 24ms/step\n",
            "Epoch 56/100\n",
            "780/780 - 19s - loss: 0.9542 - accuracy: 0.6115 - val_loss: 1.0786 - val_accuracy: 0.5631 - 19s/epoch - 24ms/step\n",
            "Epoch 57/100\n",
            "780/780 - 19s - loss: 0.9525 - accuracy: 0.6125 - val_loss: 1.0683 - val_accuracy: 0.5703 - 19s/epoch - 24ms/step\n",
            "Epoch 58/100\n",
            "780/780 - 19s - loss: 0.9503 - accuracy: 0.6134 - val_loss: 1.0735 - val_accuracy: 0.5646 - 19s/epoch - 24ms/step\n",
            "Epoch 59/100\n",
            "780/780 - 19s - loss: 0.9480 - accuracy: 0.6147 - val_loss: 1.0814 - val_accuracy: 0.5685 - 19s/epoch - 24ms/step\n",
            "Epoch 60/100\n",
            "780/780 - 19s - loss: 0.9466 - accuracy: 0.6155 - val_loss: 1.0806 - val_accuracy: 0.5639 - 19s/epoch - 24ms/step\n",
            "Epoch 61/100\n",
            "780/780 - 19s - loss: 0.9447 - accuracy: 0.6166 - val_loss: 1.0749 - val_accuracy: 0.5679 - 19s/epoch - 24ms/step\n",
            "Epoch 62/100\n",
            "780/780 - 18s - loss: 0.9417 - accuracy: 0.6184 - val_loss: 1.0789 - val_accuracy: 0.5653 - 18s/epoch - 24ms/step\n",
            "Epoch 63/100\n",
            "780/780 - 18s - loss: 0.9405 - accuracy: 0.6194 - val_loss: 1.0785 - val_accuracy: 0.5656 - 18s/epoch - 24ms/step\n",
            "Epoch 64/100\n",
            "780/780 - 18s - loss: 0.9386 - accuracy: 0.6194 - val_loss: 1.0798 - val_accuracy: 0.5694 - 18s/epoch - 24ms/step\n",
            "Epoch 65/100\n",
            "780/780 - 19s - loss: 0.9368 - accuracy: 0.6205 - val_loss: 1.0745 - val_accuracy: 0.5646 - 19s/epoch - 24ms/step\n",
            "Epoch 66/100\n",
            "780/780 - 18s - loss: 0.9359 - accuracy: 0.6210 - val_loss: 1.0759 - val_accuracy: 0.5706 - 18s/epoch - 24ms/step\n",
            "Epoch 67/100\n",
            "780/780 - 19s - loss: 0.9335 - accuracy: 0.6224 - val_loss: 1.0817 - val_accuracy: 0.5673 - 19s/epoch - 24ms/step\n",
            "Epoch 68/100\n",
            "780/780 - 19s - loss: 0.9317 - accuracy: 0.6234 - val_loss: 1.0864 - val_accuracy: 0.5714 - 19s/epoch - 24ms/step\n",
            "Epoch 69/100\n",
            "780/780 - 20s - loss: 0.9305 - accuracy: 0.6235 - val_loss: 1.0848 - val_accuracy: 0.5744 - 20s/epoch - 25ms/step\n",
            "Epoch 70/100\n",
            "780/780 - 19s - loss: 0.9292 - accuracy: 0.6245 - val_loss: 1.0926 - val_accuracy: 0.5679 - 19s/epoch - 25ms/step\n",
            "Epoch 71/100\n",
            "780/780 - 19s - loss: 0.9274 - accuracy: 0.6250 - val_loss: 1.0878 - val_accuracy: 0.5704 - 19s/epoch - 24ms/step\n",
            "Epoch 72/100\n",
            "780/780 - 19s - loss: 0.9260 - accuracy: 0.6260 - val_loss: 1.0916 - val_accuracy: 0.5704 - 19s/epoch - 24ms/step\n",
            "Epoch 73/100\n",
            "780/780 - 19s - loss: 0.9242 - accuracy: 0.6272 - val_loss: 1.0886 - val_accuracy: 0.5724 - 19s/epoch - 24ms/step\n",
            "Epoch 74/100\n",
            "780/780 - 19s - loss: 0.9238 - accuracy: 0.6271 - val_loss: 1.0955 - val_accuracy: 0.5675 - 19s/epoch - 24ms/step\n",
            "Epoch 75/100\n",
            "780/780 - 19s - loss: 0.9212 - accuracy: 0.6285 - val_loss: 1.0984 - val_accuracy: 0.5690 - 19s/epoch - 24ms/step\n",
            "Epoch 76/100\n",
            "780/780 - 19s - loss: 0.9207 - accuracy: 0.6284 - val_loss: 1.0950 - val_accuracy: 0.5730 - 19s/epoch - 24ms/step\n",
            "Epoch 77/100\n",
            "780/780 - 18s - loss: 0.9190 - accuracy: 0.6296 - val_loss: 1.0977 - val_accuracy: 0.5649 - 18s/epoch - 24ms/step\n",
            "Epoch 78/100\n",
            "780/780 - 19s - loss: 0.9180 - accuracy: 0.6295 - val_loss: 1.1033 - val_accuracy: 0.5714 - 19s/epoch - 24ms/step\n",
            "Epoch 79/100\n",
            "780/780 - 19s - loss: 0.9157 - accuracy: 0.6311 - val_loss: 1.0946 - val_accuracy: 0.5720 - 19s/epoch - 24ms/step\n",
            "Epoch 80/100\n",
            "780/780 - 19s - loss: 0.9154 - accuracy: 0.6312 - val_loss: 1.0934 - val_accuracy: 0.5716 - 19s/epoch - 24ms/step\n",
            "Epoch 81/100\n",
            "780/780 - 18s - loss: 0.9137 - accuracy: 0.6318 - val_loss: 1.1107 - val_accuracy: 0.5713 - 18s/epoch - 24ms/step\n",
            "Epoch 82/100\n",
            "780/780 - 19s - loss: 0.9126 - accuracy: 0.6325 - val_loss: 1.1057 - val_accuracy: 0.5733 - 19s/epoch - 24ms/step\n",
            "Epoch 83/100\n",
            "780/780 - 18s - loss: 0.9116 - accuracy: 0.6328 - val_loss: 1.1162 - val_accuracy: 0.5666 - 18s/epoch - 24ms/step\n",
            "Epoch 84/100\n",
            "780/780 - 19s - loss: 0.9095 - accuracy: 0.6339 - val_loss: 1.1158 - val_accuracy: 0.5596 - 19s/epoch - 24ms/step\n",
            "Epoch 85/100\n",
            "780/780 - 18s - loss: 0.9087 - accuracy: 0.6344 - val_loss: 1.1059 - val_accuracy: 0.5727 - 18s/epoch - 24ms/step\n",
            "Epoch 86/100\n",
            "780/780 - 18s - loss: 0.9076 - accuracy: 0.6349 - val_loss: 1.1166 - val_accuracy: 0.5726 - 18s/epoch - 24ms/step\n",
            "Epoch 87/100\n",
            "780/780 - 18s - loss: 0.9073 - accuracy: 0.6349 - val_loss: 1.1098 - val_accuracy: 0.5740 - 18s/epoch - 24ms/step\n",
            "Epoch 88/100\n",
            "780/780 - 18s - loss: 0.9054 - accuracy: 0.6360 - val_loss: 1.1099 - val_accuracy: 0.5699 - 18s/epoch - 24ms/step\n",
            "Epoch 89/100\n",
            "780/780 - 19s - loss: 0.9041 - accuracy: 0.6363 - val_loss: 1.1118 - val_accuracy: 0.5730 - 19s/epoch - 24ms/step\n",
            "Epoch 90/100\n",
            "780/780 - 18s - loss: 0.9025 - accuracy: 0.6363 - val_loss: 1.1127 - val_accuracy: 0.5708 - 18s/epoch - 24ms/step\n",
            "Epoch 91/100\n",
            "780/780 - 19s - loss: 0.9017 - accuracy: 0.6374 - val_loss: 1.1081 - val_accuracy: 0.5717 - 19s/epoch - 24ms/step\n",
            "Epoch 92/100\n",
            "780/780 - 19s - loss: 0.9006 - accuracy: 0.6379 - val_loss: 1.1194 - val_accuracy: 0.5736 - 19s/epoch - 24ms/step\n",
            "Epoch 93/100\n",
            "780/780 - 18s - loss: 0.9000 - accuracy: 0.6381 - val_loss: 1.1165 - val_accuracy: 0.5735 - 18s/epoch - 24ms/step\n",
            "Epoch 94/100\n",
            "780/780 - 19s - loss: 0.8990 - accuracy: 0.6386 - val_loss: 1.1306 - val_accuracy: 0.5684 - 19s/epoch - 24ms/step\n",
            "Epoch 95/100\n",
            "780/780 - 18s - loss: 0.8977 - accuracy: 0.6390 - val_loss: 1.1302 - val_accuracy: 0.5726 - 18s/epoch - 24ms/step\n",
            "Epoch 96/100\n",
            "780/780 - 19s - loss: 0.8959 - accuracy: 0.6402 - val_loss: 1.1165 - val_accuracy: 0.5722 - 19s/epoch - 24ms/step\n",
            "Epoch 97/100\n",
            "780/780 - 19s - loss: 0.8960 - accuracy: 0.6395 - val_loss: 1.1249 - val_accuracy: 0.5736 - 19s/epoch - 24ms/step\n",
            "Epoch 98/100\n",
            "780/780 - 19s - loss: 0.8943 - accuracy: 0.6408 - val_loss: 1.1332 - val_accuracy: 0.5711 - 19s/epoch - 24ms/step\n",
            "Epoch 99/100\n",
            "780/780 - 18s - loss: 0.8942 - accuracy: 0.6405 - val_loss: 1.1304 - val_accuracy: 0.5738 - 18s/epoch - 24ms/step\n",
            "Epoch 100/100\n",
            "780/780 - 18s - loss: 0.8922 - accuracy: 0.6416 - val_loss: 1.1404 - val_accuracy: 0.5668 - 18s/epoch - 24ms/step\n"
          ]
        }
      ]
    },
    {
      "cell_type": "code",
      "source": [
        "cnn_model.evaluate(X_test, Y_test, batch_size=1024)"
      ],
      "metadata": {
        "id": "aXKxdoKaMTFM",
        "colab": {
          "base_uri": "https://localhost:8080/"
        },
        "outputId": "279092a3-df3d-4e74-9822-f549cc29161a"
      },
      "execution_count": null,
      "outputs": [
        {
          "output_type": "stream",
          "name": "stdout",
          "text": [
            "352/352 [==============================] - 3s 9ms/step - loss: 1.1495 - accuracy: 0.5633\n"
          ]
        },
        {
          "output_type": "execute_result",
          "data": {
            "text/plain": [
              "[1.149524450302124, 0.5632916688919067]"
            ]
          },
          "metadata": {},
          "execution_count": 16
        }
      ]
    },
    {
      "cell_type": "markdown",
      "source": [
        "### Derivative data run"
      ],
      "metadata": {
        "id": "OZw1ya8jRbVi"
      }
    },
    {
      "cell_type": "code",
      "source": [
        "best_rate_deriv = get_best_learning_rate((2, 128, 1), X_drev_tuning, Y_drev_tuning, X_drev_val_tuning, Y_drev_val_tuning, X_deriv_val, Y_deriv_val)"
      ],
      "metadata": {
        "id": "Oaj_6agmhsbe",
        "colab": {
          "base_uri": "https://localhost:8080/",
          "height": 1000
        },
        "outputId": "6971eb01-503a-446f-f113-4634cf957453"
      },
      "execution_count": null,
      "outputs": [
        {
          "output_type": "stream",
          "name": "stdout",
          "text": [
            "Model: \"model\"\n",
            "_________________________________________________________________\n",
            " Layer (type)                Output Shape              Param #   \n",
            "=================================================================\n",
            " input_1 (InputLayer)        [(None, 2, 128, 1)]       0         \n",
            "                                                                 \n",
            " conv2d (Conv2D)             (None, 2, 128, 64)        256       \n",
            "                                                                 \n",
            " conv2d_1 (Conv2D)           (None, 2, 128, 16)        6160      \n",
            "                                                                 \n",
            " flatten (Flatten)           (None, 4096)              0         \n",
            "                                                                 \n",
            " dense (Dense)               (None, 128)               524416    \n",
            "                                                                 \n",
            " dense_1 (Dense)             (None, 11)                1419      \n",
            "                                                                 \n",
            "=================================================================\n",
            "Total params: 532,251\n",
            "Trainable params: 532,251\n",
            "Non-trainable params: 0\n",
            "_________________________________________________________________\n",
            "\n",
            "learning rate :  0.1\n",
            "Epoch 1/20\n",
            "390/390 - 23s - loss: 2.4254 - accuracy: 0.0998 - val_loss: 2.3040 - val_accuracy: 0.1001 - 23s/epoch - 59ms/step\n",
            "Epoch 2/20\n",
            "390/390 - 11s - loss: 2.3047 - accuracy: 0.0999 - val_loss: 2.3060 - val_accuracy: 0.1001 - 11s/epoch - 28ms/step\n",
            "Epoch 3/20\n",
            "390/390 - 11s - loss: 2.3047 - accuracy: 0.1001 - val_loss: 2.3044 - val_accuracy: 0.1001 - 11s/epoch - 28ms/step\n",
            "Epoch 4/20\n",
            "390/390 - 12s - loss: 2.3047 - accuracy: 0.0996 - val_loss: 2.3038 - val_accuracy: 0.0998 - 12s/epoch - 29ms/step\n",
            "Epoch 5/20\n",
            "390/390 - 11s - loss: 2.3048 - accuracy: 0.1002 - val_loss: 2.3047 - val_accuracy: 0.1000 - 11s/epoch - 29ms/step\n",
            "Epoch 6/20\n",
            "390/390 - 11s - loss: 2.3047 - accuracy: 0.0992 - val_loss: 2.3041 - val_accuracy: 0.1001 - 11s/epoch - 29ms/step\n",
            "Epoch 7/20\n",
            "390/390 - 13s - loss: 2.3046 - accuracy: 0.1007 - val_loss: 2.3044 - val_accuracy: 0.0998 - 13s/epoch - 34ms/step\n",
            "Epoch 8/20\n",
            "390/390 - 11s - loss: 2.3045 - accuracy: 0.1003 - val_loss: 2.3052 - val_accuracy: 0.1005 - 11s/epoch - 29ms/step\n",
            "Epoch 9/20\n",
            "390/390 - 13s - loss: 2.3046 - accuracy: 0.0990 - val_loss: 2.3041 - val_accuracy: 0.0998 - 13s/epoch - 34ms/step\n",
            "Epoch 10/20\n",
            "390/390 - 12s - loss: 2.3043 - accuracy: 0.1004 - val_loss: 2.3038 - val_accuracy: 0.0999 - 12s/epoch - 30ms/step\n",
            "Epoch 11/20\n",
            "390/390 - 13s - loss: 2.3044 - accuracy: 0.0996 - val_loss: 2.3046 - val_accuracy: 0.1003 - 13s/epoch - 34ms/step\n",
            "Epoch 12/20\n",
            "390/390 - 14s - loss: 2.3045 - accuracy: 0.0994 - val_loss: 2.3055 - val_accuracy: 0.0996 - 14s/epoch - 35ms/step\n",
            "Epoch 13/20\n",
            "390/390 - 12s - loss: 2.3044 - accuracy: 0.0999 - val_loss: 2.3054 - val_accuracy: 0.0997 - 12s/epoch - 30ms/step\n",
            "Epoch 14/20\n",
            "390/390 - 12s - loss: 2.3046 - accuracy: 0.1006 - val_loss: 2.3037 - val_accuracy: 0.1005 - 12s/epoch - 30ms/step\n",
            "Epoch 15/20\n",
            "390/390 - 14s - loss: 2.3046 - accuracy: 0.1002 - val_loss: 2.3037 - val_accuracy: 0.1005 - 14s/epoch - 35ms/step\n",
            "Epoch 16/20\n",
            "390/390 - 14s - loss: 2.3045 - accuracy: 0.0998 - val_loss: 2.3048 - val_accuracy: 0.0998 - 14s/epoch - 35ms/step\n",
            "Epoch 17/20\n",
            "390/390 - 14s - loss: 2.3045 - accuracy: 0.1001 - val_loss: 2.3048 - val_accuracy: 0.0998 - 14s/epoch - 35ms/step\n",
            "Epoch 18/20\n",
            "390/390 - 12s - loss: 2.3044 - accuracy: 0.0995 - val_loss: 2.3046 - val_accuracy: 0.1005 - 12s/epoch - 30ms/step\n",
            "Epoch 19/20\n",
            "390/390 - 12s - loss: 2.3044 - accuracy: 0.1000 - val_loss: 2.3055 - val_accuracy: 0.0996 - 12s/epoch - 30ms/step\n",
            "Epoch 20/20\n",
            "390/390 - 14s - loss: 2.3048 - accuracy: 0.1006 - val_loss: 2.3082 - val_accuracy: 0.0998 - 14s/epoch - 35ms/step\n",
            "42/42 [==============================] - 1s 13ms/step - loss: 2.3086 - accuracy: 0.0987\n",
            "Model: \"model_1\"\n",
            "_________________________________________________________________\n",
            " Layer (type)                Output Shape              Param #   \n",
            "=================================================================\n",
            " input_2 (InputLayer)        [(None, 2, 128, 1)]       0         \n",
            "                                                                 \n",
            " conv2d_2 (Conv2D)           (None, 2, 128, 64)        256       \n",
            "                                                                 \n",
            " conv2d_3 (Conv2D)           (None, 2, 128, 16)        6160      \n",
            "                                                                 \n",
            " flatten_1 (Flatten)         (None, 4096)              0         \n",
            "                                                                 \n",
            " dense_2 (Dense)             (None, 128)               524416    \n",
            "                                                                 \n",
            " dense_3 (Dense)             (None, 11)                1419      \n",
            "                                                                 \n",
            "=================================================================\n",
            "Total params: 532,251\n",
            "Trainable params: 532,251\n",
            "Non-trainable params: 0\n",
            "_________________________________________________________________\n",
            "\n",
            "learning rate :  0.01\n",
            "Epoch 1/20\n",
            "390/390 - 15s - loss: 2.3072 - accuracy: 0.0998 - val_loss: 2.3043 - val_accuracy: 0.1000 - 15s/epoch - 38ms/step\n",
            "Epoch 2/20\n",
            "390/390 - 12s - loss: 2.3038 - accuracy: 0.1002 - val_loss: 2.3032 - val_accuracy: 0.1001 - 12s/epoch - 31ms/step\n",
            "Epoch 3/20\n",
            "390/390 - 14s - loss: 2.3034 - accuracy: 0.1003 - val_loss: 2.3032 - val_accuracy: 0.0999 - 14s/epoch - 35ms/step\n",
            "Epoch 4/20\n",
            "390/390 - 12s - loss: 2.3033 - accuracy: 0.1005 - val_loss: 2.3032 - val_accuracy: 0.1001 - 12s/epoch - 31ms/step\n",
            "Epoch 5/20\n",
            "390/390 - 12s - loss: 2.3031 - accuracy: 0.0993 - val_loss: 2.3030 - val_accuracy: 0.1000 - 12s/epoch - 30ms/step\n",
            "Epoch 6/20\n",
            "390/390 - 12s - loss: 2.3030 - accuracy: 0.0990 - val_loss: 2.3031 - val_accuracy: 0.1001 - 12s/epoch - 30ms/step\n",
            "Epoch 7/20\n",
            "390/390 - 12s - loss: 2.3029 - accuracy: 0.0998 - val_loss: 2.3029 - val_accuracy: 0.0997 - 12s/epoch - 30ms/step\n",
            "Epoch 8/20\n",
            "390/390 - 12s - loss: 2.3029 - accuracy: 0.1007 - val_loss: 2.3028 - val_accuracy: 0.0996 - 12s/epoch - 30ms/step\n",
            "Epoch 9/20\n",
            "390/390 - 12s - loss: 2.3028 - accuracy: 0.1006 - val_loss: 2.3028 - val_accuracy: 0.1000 - 12s/epoch - 31ms/step\n",
            "Epoch 10/20\n",
            "390/390 - 14s - loss: 2.3029 - accuracy: 0.1003 - val_loss: 2.3030 - val_accuracy: 0.0999 - 14s/epoch - 35ms/step\n",
            "Epoch 11/20\n",
            "390/390 - 14s - loss: 2.3029 - accuracy: 0.1003 - val_loss: 2.3030 - val_accuracy: 0.1001 - 14s/epoch - 35ms/step\n",
            "Epoch 12/20\n",
            "390/390 - 12s - loss: 2.3029 - accuracy: 0.1004 - val_loss: 2.3029 - val_accuracy: 0.1001 - 12s/epoch - 30ms/step\n",
            "Epoch 13/20\n",
            "390/390 - 14s - loss: 2.3029 - accuracy: 0.1002 - val_loss: 2.3030 - val_accuracy: 0.1001 - 14s/epoch - 35ms/step\n",
            "Epoch 14/20\n",
            "390/390 - 12s - loss: 2.3029 - accuracy: 0.0990 - val_loss: 2.3030 - val_accuracy: 0.0998 - 12s/epoch - 30ms/step\n",
            "Epoch 15/20\n",
            "390/390 - 12s - loss: 2.3029 - accuracy: 0.0998 - val_loss: 2.3029 - val_accuracy: 0.1005 - 12s/epoch - 30ms/step\n",
            "Epoch 16/20\n",
            "390/390 - 12s - loss: 2.3028 - accuracy: 0.1008 - val_loss: 2.3032 - val_accuracy: 0.0996 - 12s/epoch - 30ms/step\n",
            "Epoch 17/20\n",
            "390/390 - 12s - loss: 2.3029 - accuracy: 0.1006 - val_loss: 2.3030 - val_accuracy: 0.1001 - 12s/epoch - 30ms/step\n",
            "Epoch 18/20\n",
            "390/390 - 12s - loss: 2.3028 - accuracy: 0.1015 - val_loss: 2.3028 - val_accuracy: 0.1005 - 12s/epoch - 30ms/step\n",
            "Epoch 19/20\n",
            "390/390 - 14s - loss: 2.3028 - accuracy: 0.0992 - val_loss: 2.3028 - val_accuracy: 0.0998 - 14s/epoch - 35ms/step\n",
            "Epoch 20/20\n",
            "390/390 - 12s - loss: 2.3029 - accuracy: 0.1001 - val_loss: 2.3028 - val_accuracy: 0.1000 - 12s/epoch - 30ms/step\n",
            "42/42 [==============================] - 0s 11ms/step - loss: 2.3026 - accuracy: 0.1010\n",
            "Model: \"model_2\"\n",
            "_________________________________________________________________\n",
            " Layer (type)                Output Shape              Param #   \n",
            "=================================================================\n",
            " input_3 (InputLayer)        [(None, 2, 128, 1)]       0         \n",
            "                                                                 \n",
            " conv2d_4 (Conv2D)           (None, 2, 128, 64)        256       \n",
            "                                                                 \n",
            " conv2d_5 (Conv2D)           (None, 2, 128, 16)        6160      \n",
            "                                                                 \n",
            " flatten_2 (Flatten)         (None, 4096)              0         \n",
            "                                                                 \n",
            " dense_4 (Dense)             (None, 128)               524416    \n",
            "                                                                 \n",
            " dense_5 (Dense)             (None, 11)                1419      \n",
            "                                                                 \n",
            "=================================================================\n",
            "Total params: 532,251\n",
            "Trainable params: 532,251\n",
            "Non-trainable params: 0\n",
            "_________________________________________________________________\n",
            "\n",
            "learning rate :  0.001\n",
            "Epoch 1/20\n",
            "390/390 - 13s - loss: 2.3064 - accuracy: 0.0999 - val_loss: 2.3035 - val_accuracy: 0.1003 - 13s/epoch - 34ms/step\n",
            "Epoch 2/20\n",
            "390/390 - 14s - loss: 2.3022 - accuracy: 0.1038 - val_loss: 2.2949 - val_accuracy: 0.1186 - 14s/epoch - 36ms/step\n",
            "Epoch 3/20\n",
            "390/390 - 12s - loss: 2.2929 - accuracy: 0.1197 - val_loss: 2.2923 - val_accuracy: 0.1200 - 12s/epoch - 31ms/step\n",
            "Epoch 4/20\n",
            "390/390 - 12s - loss: 2.2922 - accuracy: 0.1201 - val_loss: 2.2921 - val_accuracy: 0.1193 - 12s/epoch - 31ms/step\n",
            "Epoch 5/20\n",
            "390/390 - 12s - loss: 2.2918 - accuracy: 0.1205 - val_loss: 2.2916 - val_accuracy: 0.1201 - 12s/epoch - 30ms/step\n",
            "Epoch 6/20\n",
            "390/390 - 12s - loss: 2.2894 - accuracy: 0.1216 - val_loss: 2.2773 - val_accuracy: 0.1218 - 12s/epoch - 30ms/step\n",
            "Epoch 7/20\n",
            "390/390 - 14s - loss: 2.1182 - accuracy: 0.1870 - val_loss: 2.0189 - val_accuracy: 0.2146 - 14s/epoch - 35ms/step\n",
            "Epoch 8/20\n",
            "390/390 - 14s - loss: 1.8770 - accuracy: 0.2570 - val_loss: 1.7638 - val_accuracy: 0.2857 - 14s/epoch - 36ms/step\n",
            "Epoch 9/20\n",
            "390/390 - 14s - loss: 1.6738 - accuracy: 0.3181 - val_loss: 1.6232 - val_accuracy: 0.3292 - 14s/epoch - 36ms/step\n",
            "Epoch 10/20\n",
            "390/390 - 12s - loss: 1.5995 - accuracy: 0.3394 - val_loss: 1.6256 - val_accuracy: 0.3217 - 12s/epoch - 31ms/step\n",
            "Epoch 11/20\n",
            "390/390 - 14s - loss: 1.5747 - accuracy: 0.3459 - val_loss: 1.5687 - val_accuracy: 0.3430 - 14s/epoch - 36ms/step\n",
            "Epoch 12/20\n",
            "390/390 - 12s - loss: 1.5584 - accuracy: 0.3492 - val_loss: 1.5529 - val_accuracy: 0.3500 - 12s/epoch - 31ms/step\n",
            "Epoch 13/20\n",
            "390/390 - 12s - loss: 1.5497 - accuracy: 0.3533 - val_loss: 1.5444 - val_accuracy: 0.3514 - 12s/epoch - 31ms/step\n",
            "Epoch 14/20\n",
            "390/390 - 14s - loss: 1.5344 - accuracy: 0.3587 - val_loss: 1.5331 - val_accuracy: 0.3558 - 14s/epoch - 36ms/step\n",
            "Epoch 15/20\n",
            "390/390 - 14s - loss: 1.5251 - accuracy: 0.3628 - val_loss: 1.5220 - val_accuracy: 0.3612 - 14s/epoch - 36ms/step\n",
            "Epoch 16/20\n",
            "390/390 - 14s - loss: 1.5105 - accuracy: 0.3699 - val_loss: 1.5429 - val_accuracy: 0.3576 - 14s/epoch - 36ms/step\n",
            "Epoch 17/20\n",
            "390/390 - 14s - loss: 1.5028 - accuracy: 0.3744 - val_loss: 1.4969 - val_accuracy: 0.3734 - 14s/epoch - 36ms/step\n",
            "Epoch 18/20\n",
            "390/390 - 12s - loss: 1.4890 - accuracy: 0.3826 - val_loss: 1.4885 - val_accuracy: 0.3787 - 12s/epoch - 31ms/step\n",
            "Epoch 19/20\n",
            "390/390 - 14s - loss: 1.4770 - accuracy: 0.3891 - val_loss: 1.4841 - val_accuracy: 0.3824 - 14s/epoch - 36ms/step\n",
            "Epoch 20/20\n",
            "390/390 - 12s - loss: 1.4658 - accuracy: 0.3944 - val_loss: 1.5027 - val_accuracy: 0.3755 - 12s/epoch - 31ms/step\n",
            "42/42 [==============================] - 0s 9ms/step - loss: 1.5004 - accuracy: 0.3754\n",
            "Model: \"model_3\"\n",
            "_________________________________________________________________\n",
            " Layer (type)                Output Shape              Param #   \n",
            "=================================================================\n",
            " input_4 (InputLayer)        [(None, 2, 128, 1)]       0         \n",
            "                                                                 \n",
            " conv2d_6 (Conv2D)           (None, 2, 128, 64)        256       \n",
            "                                                                 \n",
            " conv2d_7 (Conv2D)           (None, 2, 128, 16)        6160      \n",
            "                                                                 \n",
            " flatten_3 (Flatten)         (None, 4096)              0         \n",
            "                                                                 \n",
            " dense_6 (Dense)             (None, 128)               524416    \n",
            "                                                                 \n",
            " dense_7 (Dense)             (None, 11)                1419      \n",
            "                                                                 \n",
            "=================================================================\n",
            "Total params: 532,251\n",
            "Trainable params: 532,251\n",
            "Non-trainable params: 0\n",
            "_________________________________________________________________\n",
            "\n",
            "learning rate :  0.0001\n",
            "Epoch 1/20\n",
            "390/390 - 13s - loss: 2.3136 - accuracy: 0.0998 - val_loss: 2.3031 - val_accuracy: 0.0999 - 13s/epoch - 34ms/step\n",
            "Epoch 2/20\n",
            "390/390 - 12s - loss: 2.3022 - accuracy: 0.1077 - val_loss: 2.3000 - val_accuracy: 0.1005 - 12s/epoch - 32ms/step\n",
            "Epoch 3/20\n",
            "390/390 - 12s - loss: 2.2946 - accuracy: 0.1264 - val_loss: 2.2867 - val_accuracy: 0.1679 - 12s/epoch - 32ms/step\n",
            "Epoch 4/20\n",
            "390/390 - 12s - loss: 2.2679 - accuracy: 0.1533 - val_loss: 2.2367 - val_accuracy: 0.1602 - 12s/epoch - 32ms/step\n",
            "Epoch 5/20\n",
            "390/390 - 14s - loss: 2.1878 - accuracy: 0.1762 - val_loss: 2.1391 - val_accuracy: 0.1910 - 14s/epoch - 37ms/step\n",
            "Epoch 6/20\n",
            "390/390 - 14s - loss: 2.0864 - accuracy: 0.1999 - val_loss: 2.0343 - val_accuracy: 0.2100 - 14s/epoch - 37ms/step\n",
            "Epoch 7/20\n",
            "390/390 - 12s - loss: 1.9947 - accuracy: 0.2212 - val_loss: 1.9725 - val_accuracy: 0.2320 - 12s/epoch - 32ms/step\n",
            "Epoch 8/20\n",
            "390/390 - 14s - loss: 1.9470 - accuracy: 0.2311 - val_loss: 1.9317 - val_accuracy: 0.2342 - 14s/epoch - 37ms/step\n",
            "Epoch 9/20\n",
            "390/390 - 14s - loss: 1.9249 - accuracy: 0.2430 - val_loss: 1.9171 - val_accuracy: 0.2561 - 14s/epoch - 37ms/step\n",
            "Epoch 10/20\n",
            "390/390 - 12s - loss: 1.9127 - accuracy: 0.2542 - val_loss: 1.9102 - val_accuracy: 0.2562 - 12s/epoch - 32ms/step\n",
            "Epoch 11/20\n",
            "390/390 - 12s - loss: 1.9037 - accuracy: 0.2637 - val_loss: 1.9016 - val_accuracy: 0.2697 - 12s/epoch - 32ms/step\n",
            "Epoch 12/20\n",
            "390/390 - 12s - loss: 1.8973 - accuracy: 0.2721 - val_loss: 1.8950 - val_accuracy: 0.2741 - 12s/epoch - 32ms/step\n",
            "Epoch 13/20\n",
            "390/390 - 12s - loss: 1.8921 - accuracy: 0.2766 - val_loss: 1.8945 - val_accuracy: 0.2796 - 12s/epoch - 32ms/step\n",
            "Epoch 14/20\n",
            "390/390 - 12s - loss: 1.8860 - accuracy: 0.2819 - val_loss: 1.8845 - val_accuracy: 0.2823 - 12s/epoch - 32ms/step\n",
            "Epoch 15/20\n",
            "390/390 - 12s - loss: 1.8817 - accuracy: 0.2849 - val_loss: 1.8820 - val_accuracy: 0.2877 - 12s/epoch - 32ms/step\n",
            "Epoch 16/20\n",
            "390/390 - 14s - loss: 1.8768 - accuracy: 0.2881 - val_loss: 1.8753 - val_accuracy: 0.2855 - 14s/epoch - 37ms/step\n",
            "Epoch 17/20\n",
            "390/390 - 14s - loss: 1.8728 - accuracy: 0.2903 - val_loss: 1.8721 - val_accuracy: 0.2927 - 14s/epoch - 37ms/step\n",
            "Epoch 18/20\n",
            "390/390 - 14s - loss: 1.8680 - accuracy: 0.2930 - val_loss: 1.8658 - val_accuracy: 0.2941 - 14s/epoch - 37ms/step\n",
            "Epoch 19/20\n",
            "390/390 - 14s - loss: 1.8633 - accuracy: 0.2947 - val_loss: 1.8612 - val_accuracy: 0.2989 - 14s/epoch - 37ms/step\n",
            "Epoch 20/20\n",
            "390/390 - 14s - loss: 1.8591 - accuracy: 0.2965 - val_loss: 1.8579 - val_accuracy: 0.2987 - 14s/epoch - 37ms/step\n",
            "42/42 [==============================] - 0s 11ms/step - loss: 1.8584 - accuracy: 0.2950\n"
          ]
        },
        {
          "output_type": "display_data",
          "data": {
            "text/plain": [
              "<Figure size 432x288 with 1 Axes>"
            ],
            "image/png": "[encoded data removed]"
          },
          "metadata": {
            "needs_background": "light"
          }
        },
        {
          "output_type": "display_data",
          "data": {
            "text/plain": [
              "<Figure size 432x288 with 1 Axes>"
            ],
            "image/png": "[encoded data removed]"
          },
          "metadata": {
            "needs_background": "light"
          }
        },
        {
          "output_type": "display_data",
          "data": {
            "text/plain": [
              "<Figure size 432x288 with 1 Axes>"
            ],
            "image/png": "[encoded data removed]"
          },
          "metadata": {
            "needs_background": "light"
          }
        },
        {
          "output_type": "display_data",
          "data": {
            "text/plain": [
              "<Figure size 432x288 with 1 Axes>"
            ],
            "image/png": "[encoded data removed]"
          },
          "metadata": {
            "needs_background": "light"
          }
        }
      ]
    },
    {
      "cell_type": "code",
      "source": [
        "cnn_model = create_cnn_model((2, 128, 1))\n",
        "adam = tf.keras.optimizers.Adam(learning_rate=best_rate_deriv)\n",
        "cnn_model.compile(optimizer=adam,\n",
        "                  loss='categorical_crossentropy',\n",
        "                  metrics=['accuracy'])\n",
        "cnn_model.summary()"
      ],
      "metadata": {
        "id": "9-pxINgehrrE",
        "colab": {
          "base_uri": "https://localhost:8080/"
        },
        "outputId": "c7081001-ba24-4984-eb6b-2bc0866a2407"
      },
      "execution_count": null,
      "outputs": [
        {
          "output_type": "stream",
          "name": "stdout",
          "text": [
            "Model: \"model_4\"\n",
            "_________________________________________________________________\n",
            " Layer (type)                Output Shape              Param #   \n",
            "=================================================================\n",
            " input_5 (InputLayer)        [(None, 2, 128, 1)]       0         \n",
            "                                                                 \n",
            " conv2d_8 (Conv2D)           (None, 2, 128, 64)        256       \n",
            "                                                                 \n",
            " conv2d_9 (Conv2D)           (None, 2, 128, 16)        6160      \n",
            "                                                                 \n",
            " flatten_4 (Flatten)         (None, 4096)              0         \n",
            "                                                                 \n",
            " dense_8 (Dense)             (None, 128)               524416    \n",
            "                                                                 \n",
            " dense_9 (Dense)             (None, 11)                1419      \n",
            "                                                                 \n",
            "=================================================================\n",
            "Total params: 532,251\n",
            "Trainable params: 532,251\n",
            "Non-trainable params: 0\n",
            "_________________________________________________________________\n"
          ]
        }
      ]
    },
    {
      "cell_type": "code",
      "source": [
        "history = cnn_model.fit(X_deriv_train, Y_deriv_train, batch_size=1024, epochs=20, verbose=2, validation_data=(X_deriv_val, Y_deriv_val)) "
      ],
      "metadata": {
        "id": "oBtRi1y-ReG9",
        "colab": {
          "base_uri": "https://localhost:8080/"
        },
        "outputId": "096521d2-66d0-4008-b120-14f777302b6b"
      },
      "execution_count": null,
      "outputs": [
        {
          "output_type": "stream",
          "name": "stdout",
          "text": [
            "Epoch 1/20\n",
            "780/780 - 19s - loss: 2.3031 - accuracy: 0.1023 - val_loss: 2.2989 - val_accuracy: 0.1207 - 19s/epoch - 24ms/step\n",
            "Epoch 2/20\n",
            "780/780 - 17s - loss: 2.2928 - accuracy: 0.1198 - val_loss: 2.2920 - val_accuracy: 0.1193 - 17s/epoch - 22ms/step\n",
            "Epoch 3/20\n",
            "780/780 - 17s - loss: 2.1963 - accuracy: 0.1575 - val_loss: 1.9219 - val_accuracy: 0.2710 - 17s/epoch - 22ms/step\n",
            "Epoch 4/20\n",
            "780/780 - 18s - loss: 1.8565 - accuracy: 0.2821 - val_loss: 1.7871 - val_accuracy: 0.2955 - 18s/epoch - 23ms/step\n",
            "Epoch 5/20\n",
            "780/780 - 17s - loss: 1.7385 - accuracy: 0.3080 - val_loss: 1.6849 - val_accuracy: 0.3235 - 17s/epoch - 22ms/step\n",
            "Epoch 6/20\n",
            "780/780 - 18s - loss: 1.6513 - accuracy: 0.3268 - val_loss: 1.6177 - val_accuracy: 0.3305 - 18s/epoch - 23ms/step\n",
            "Epoch 7/20\n",
            "780/780 - 18s - loss: 1.5971 - accuracy: 0.3384 - val_loss: 1.5851 - val_accuracy: 0.3364 - 18s/epoch - 23ms/step\n",
            "Epoch 8/20\n",
            "780/780 - 18s - loss: 1.5675 - accuracy: 0.3461 - val_loss: 1.5574 - val_accuracy: 0.3468 - 18s/epoch - 23ms/step\n",
            "Epoch 9/20\n",
            "780/780 - 18s - loss: 1.5483 - accuracy: 0.3515 - val_loss: 1.5420 - val_accuracy: 0.3489 - 18s/epoch - 23ms/step\n",
            "Epoch 10/20\n",
            "780/780 - 18s - loss: 1.5261 - accuracy: 0.3610 - val_loss: 1.5288 - val_accuracy: 0.3554 - 18s/epoch - 23ms/step\n",
            "Epoch 11/20\n",
            "780/780 - 18s - loss: 1.5038 - accuracy: 0.3711 - val_loss: 1.5008 - val_accuracy: 0.3726 - 18s/epoch - 23ms/step\n",
            "Epoch 12/20\n",
            "780/780 - 18s - loss: 1.4820 - accuracy: 0.3819 - val_loss: 1.4879 - val_accuracy: 0.3799 - 18s/epoch - 23ms/step\n",
            "Epoch 13/20\n",
            "780/780 - 18s - loss: 1.4643 - accuracy: 0.3903 - val_loss: 1.4919 - val_accuracy: 0.3741 - 18s/epoch - 23ms/step\n",
            "Epoch 14/20\n",
            "780/780 - 18s - loss: 1.4516 - accuracy: 0.3964 - val_loss: 1.4501 - val_accuracy: 0.3924 - 18s/epoch - 23ms/step\n",
            "Epoch 15/20\n",
            "780/780 - 18s - loss: 1.4404 - accuracy: 0.4020 - val_loss: 1.4671 - val_accuracy: 0.3780 - 18s/epoch - 23ms/step\n",
            "Epoch 16/20\n",
            "780/780 - 18s - loss: 1.4315 - accuracy: 0.4050 - val_loss: 1.4385 - val_accuracy: 0.3976 - 18s/epoch - 24ms/step\n",
            "Epoch 17/20\n",
            "780/780 - 18s - loss: 1.4230 - accuracy: 0.4086 - val_loss: 1.4344 - val_accuracy: 0.3976 - 18s/epoch - 24ms/step\n",
            "Epoch 18/20\n",
            "780/780 - 18s - loss: 1.4166 - accuracy: 0.4114 - val_loss: 1.4338 - val_accuracy: 0.4010 - 18s/epoch - 23ms/step\n",
            "Epoch 19/20\n",
            "780/780 - 18s - loss: 1.4099 - accuracy: 0.4139 - val_loss: 1.4239 - val_accuracy: 0.4018 - 18s/epoch - 24ms/step\n",
            "Epoch 20/20\n",
            "780/780 - 18s - loss: 1.4036 - accuracy: 0.4171 - val_loss: 1.4192 - val_accuracy: 0.4059 - 18s/epoch - 23ms/step\n"
          ]
        }
      ]
    },
    {
      "cell_type": "code",
      "source": [
        "cnn_model.evaluate(X_deriv_test, Y_deriv_test, batch_size=1024)"
      ],
      "metadata": {
        "id": "3HwhBZEjRlnq",
        "colab": {
          "base_uri": "https://localhost:8080/"
        },
        "outputId": "e3c26850-e215-4226-c756-a10a1f085cb9"
      },
      "execution_count": null,
      "outputs": [
        {
          "output_type": "stream",
          "name": "stdout",
          "text": [
            "352/352 [==============================] - 3s 9ms/step - loss: 1.4195 - accuracy: 0.4064\n"
          ]
        },
        {
          "output_type": "execute_result",
          "data": {
            "text/plain": [
              "[1.4194697141647339, 0.40637779235839844]"
            ]
          },
          "metadata": {},
          "execution_count": 17
        }
      ]
    },
    {
      "cell_type": "markdown",
      "source": [
        "### Integral data run "
      ],
      "metadata": {
        "id": "-a7srjasRnSp"
      }
    },
    {
      "cell_type": "code",
      "source": [
        "best_rate_int = get_best_learning_rate((2, 128, 1), X_int_tuning, Y_int_tuning, X_int_val_tuning, Y_int_val_tuning, X_int_val, Y_int_val)"
      ],
      "metadata": {
        "id": "6dRsHpW3iK3H",
        "colab": {
          "base_uri": "https://localhost:8080/",
          "height": 1000
        },
        "outputId": "dfba8dc2-902b-447f-97a4-f8a244cb2302"
      },
      "execution_count": null,
      "outputs": [
        {
          "output_type": "stream",
          "name": "stdout",
          "text": [
            "Model: \"model\"\n",
            "_________________________________________________________________\n",
            " Layer (type)                Output Shape              Param #   \n",
            "=================================================================\n",
            " input_1 (InputLayer)        [(None, 2, 128, 1)]       0         \n",
            "                                                                 \n",
            " conv2d (Conv2D)             (None, 2, 128, 64)        256       \n",
            "                                                                 \n",
            " conv2d_1 (Conv2D)           (None, 2, 128, 16)        6160      \n",
            "                                                                 \n",
            " flatten (Flatten)           (None, 4096)              0         \n",
            "                                                                 \n",
            " dense (Dense)               (None, 128)               524416    \n",
            "                                                                 \n",
            " dense_1 (Dense)             (None, 11)                1419      \n",
            "                                                                 \n",
            "=================================================================\n",
            "Total params: 532,251\n",
            "Trainable params: 532,251\n",
            "Non-trainable params: 0\n",
            "_________________________________________________________________\n",
            "\n",
            "learning rate :  0.1\n",
            "Epoch 1/20\n",
            "390/390 - 27s - loss: 4.0572 - accuracy: 0.1010 - val_loss: 2.3044 - val_accuracy: 0.1001 - 27s/epoch - 70ms/step\n",
            "Epoch 2/20\n",
            "390/390 - 11s - loss: 2.3042 - accuracy: 0.1004 - val_loss: 2.3053 - val_accuracy: 0.1003 - 11s/epoch - 28ms/step\n",
            "Epoch 3/20\n",
            "390/390 - 11s - loss: 2.3045 - accuracy: 0.0997 - val_loss: 2.3033 - val_accuracy: 0.1001 - 11s/epoch - 28ms/step\n",
            "Epoch 4/20\n",
            "390/390 - 13s - loss: 2.3044 - accuracy: 0.1001 - val_loss: 2.3041 - val_accuracy: 0.0996 - 13s/epoch - 34ms/step\n",
            "Epoch 5/20\n",
            "390/390 - 13s - loss: 2.3045 - accuracy: 0.1006 - val_loss: 2.3053 - val_accuracy: 0.1005 - 13s/epoch - 34ms/step\n",
            "Epoch 6/20\n",
            "390/390 - 12s - loss: 2.3044 - accuracy: 0.1001 - val_loss: 2.3062 - val_accuracy: 0.1005 - 12s/epoch - 31ms/step\n",
            "Epoch 7/20\n",
            "390/390 - 14s - loss: 2.3044 - accuracy: 0.0998 - val_loss: 2.3031 - val_accuracy: 0.0997 - 14s/epoch - 35ms/step\n",
            "Epoch 8/20\n",
            "390/390 - 12s - loss: 2.3045 - accuracy: 0.0996 - val_loss: 2.3039 - val_accuracy: 0.1001 - 12s/epoch - 30ms/step\n",
            "Epoch 9/20\n",
            "390/390 - 12s - loss: 2.3044 - accuracy: 0.0997 - val_loss: 2.3048 - val_accuracy: 0.1000 - 12s/epoch - 30ms/step\n",
            "Epoch 10/20\n",
            "390/390 - 14s - loss: 2.3044 - accuracy: 0.1003 - val_loss: 2.3056 - val_accuracy: 0.0997 - 14s/epoch - 35ms/step\n",
            "Epoch 11/20\n",
            "390/390 - 12s - loss: 2.3045 - accuracy: 0.1002 - val_loss: 2.3046 - val_accuracy: 0.0998 - 12s/epoch - 30ms/step\n",
            "Epoch 12/20\n",
            "390/390 - 14s - loss: 2.3046 - accuracy: 0.0998 - val_loss: 2.3040 - val_accuracy: 0.0997 - 14s/epoch - 35ms/step\n",
            "Epoch 13/20\n",
            "390/390 - 12s - loss: 2.3047 - accuracy: 0.0987 - val_loss: 2.3041 - val_accuracy: 0.1001 - 12s/epoch - 30ms/step\n",
            "Epoch 14/20\n",
            "390/390 - 12s - loss: 2.3044 - accuracy: 0.0993 - val_loss: 2.3035 - val_accuracy: 0.0997 - 12s/epoch - 30ms/step\n",
            "Epoch 15/20\n",
            "390/390 - 12s - loss: 2.3046 - accuracy: 0.0994 - val_loss: 2.3032 - val_accuracy: 0.0999 - 12s/epoch - 30ms/step\n",
            "Epoch 16/20\n",
            "390/390 - 12s - loss: 2.3045 - accuracy: 0.1003 - val_loss: 2.3038 - val_accuracy: 0.0998 - 12s/epoch - 30ms/step\n",
            "Epoch 17/20\n",
            "390/390 - 14s - loss: 2.3045 - accuracy: 0.1005 - val_loss: 2.3052 - val_accuracy: 0.1005 - 14s/epoch - 35ms/step\n",
            "Epoch 18/20\n",
            "390/390 - 12s - loss: 2.3043 - accuracy: 0.1006 - val_loss: 2.3044 - val_accuracy: 0.1003 - 12s/epoch - 30ms/step\n",
            "Epoch 19/20\n",
            "390/390 - 12s - loss: 2.3047 - accuracy: 0.1006 - val_loss: 2.3034 - val_accuracy: 0.1003 - 12s/epoch - 30ms/step\n",
            "Epoch 20/20\n",
            "390/390 - 12s - loss: 2.3047 - accuracy: 0.0993 - val_loss: 2.3069 - val_accuracy: 0.0997 - 12s/epoch - 30ms/step\n",
            "42/42 [==============================] - 1s 14ms/step - loss: 2.3075 - accuracy: 0.0996\n",
            "Model: \"model_1\"\n",
            "_________________________________________________________________\n",
            " Layer (type)                Output Shape              Param #   \n",
            "=================================================================\n",
            " input_2 (InputLayer)        [(None, 2, 128, 1)]       0         \n",
            "                                                                 \n",
            " conv2d_2 (Conv2D)           (None, 2, 128, 64)        256       \n",
            "                                                                 \n",
            " conv2d_3 (Conv2D)           (None, 2, 128, 16)        6160      \n",
            "                                                                 \n",
            " flatten_1 (Flatten)         (None, 4096)              0         \n",
            "                                                                 \n",
            " dense_2 (Dense)             (None, 128)               524416    \n",
            "                                                                 \n",
            " dense_3 (Dense)             (None, 11)                1419      \n",
            "                                                                 \n",
            "=================================================================\n",
            "Total params: 532,251\n",
            "Trainable params: 532,251\n",
            "Non-trainable params: 0\n",
            "_________________________________________________________________\n",
            "\n",
            "learning rate :  0.01\n",
            "Epoch 1/20\n",
            "390/390 - 13s - loss: 1.8660 - accuracy: 0.2642 - val_loss: 1.7429 - val_accuracy: 0.3077 - 13s/epoch - 33ms/step\n",
            "Epoch 2/20\n",
            "390/390 - 14s - loss: 1.6814 - accuracy: 0.3304 - val_loss: 1.6543 - val_accuracy: 0.3391 - 14s/epoch - 35ms/step\n",
            "Epoch 3/20\n",
            "390/390 - 12s - loss: 1.6248 - accuracy: 0.3500 - val_loss: 1.6066 - val_accuracy: 0.3581 - 12s/epoch - 31ms/step\n",
            "Epoch 4/20\n",
            "390/390 - 14s - loss: 1.5881 - accuracy: 0.3631 - val_loss: 1.5857 - val_accuracy: 0.3653 - 14s/epoch - 35ms/step\n",
            "Epoch 5/20\n",
            "390/390 - 12s - loss: 1.5569 - accuracy: 0.3721 - val_loss: 1.5388 - val_accuracy: 0.3758 - 12s/epoch - 31ms/step\n",
            "Epoch 6/20\n",
            "390/390 - 12s - loss: 1.5249 - accuracy: 0.3837 - val_loss: 1.5283 - val_accuracy: 0.3815 - 12s/epoch - 30ms/step\n",
            "Epoch 7/20\n",
            "390/390 - 12s - loss: 1.4925 - accuracy: 0.3952 - val_loss: 1.4833 - val_accuracy: 0.3989 - 12s/epoch - 30ms/step\n",
            "Epoch 8/20\n",
            "390/390 - 14s - loss: 1.4494 - accuracy: 0.4113 - val_loss: 1.4275 - val_accuracy: 0.4185 - 14s/epoch - 35ms/step\n",
            "Epoch 9/20\n",
            "390/390 - 14s - loss: 1.3799 - accuracy: 0.4370 - val_loss: 1.3372 - val_accuracy: 0.4542 - 14s/epoch - 35ms/step\n",
            "Epoch 10/20\n",
            "390/390 - 14s - loss: 1.3017 - accuracy: 0.4660 - val_loss: 1.5259 - val_accuracy: 0.3868 - 14s/epoch - 35ms/step\n",
            "Epoch 11/20\n",
            "390/390 - 12s - loss: 1.2538 - accuracy: 0.4807 - val_loss: 1.2905 - val_accuracy: 0.4655 - 12s/epoch - 30ms/step\n",
            "Epoch 12/20\n",
            "390/390 - 14s - loss: 1.2319 - accuracy: 0.4885 - val_loss: 1.4025 - val_accuracy: 0.4165 - 14s/epoch - 35ms/step\n",
            "Epoch 13/20\n",
            "390/390 - 12s - loss: 1.2110 - accuracy: 0.4942 - val_loss: 1.2133 - val_accuracy: 0.4889 - 12s/epoch - 30ms/step\n",
            "Epoch 14/20\n",
            "390/390 - 14s - loss: 1.1846 - accuracy: 0.5024 - val_loss: 1.2147 - val_accuracy: 0.4923 - 14s/epoch - 35ms/step\n",
            "Epoch 15/20\n",
            "390/390 - 14s - loss: 1.1736 - accuracy: 0.5067 - val_loss: 1.1999 - val_accuracy: 0.4936 - 14s/epoch - 35ms/step\n",
            "Epoch 16/20\n",
            "390/390 - 14s - loss: 1.1641 - accuracy: 0.5097 - val_loss: 1.2105 - val_accuracy: 0.4942 - 14s/epoch - 35ms/step\n",
            "Epoch 17/20\n",
            "390/390 - 12s - loss: 1.1570 - accuracy: 0.5127 - val_loss: 1.1872 - val_accuracy: 0.5010 - 12s/epoch - 30ms/step\n",
            "Epoch 18/20\n",
            "390/390 - 14s - loss: 1.1461 - accuracy: 0.5171 - val_loss: 1.1837 - val_accuracy: 0.5045 - 14s/epoch - 35ms/step\n",
            "Epoch 19/20\n",
            "390/390 - 12s - loss: 1.1406 - accuracy: 0.5183 - val_loss: 1.1769 - val_accuracy: 0.5028 - 12s/epoch - 31ms/step\n",
            "Epoch 20/20\n",
            "390/390 - 12s - loss: 1.1334 - accuracy: 0.5216 - val_loss: 1.1784 - val_accuracy: 0.5041 - 12s/epoch - 30ms/step\n",
            "42/42 [==============================] - 0s 11ms/step - loss: 1.1768 - accuracy: 0.5033\n",
            "Model: \"model_2\"\n",
            "_________________________________________________________________\n",
            " Layer (type)                Output Shape              Param #   \n",
            "=================================================================\n",
            " input_3 (InputLayer)        [(None, 2, 128, 1)]       0         \n",
            "                                                                 \n",
            " conv2d_4 (Conv2D)           (None, 2, 128, 64)        256       \n",
            "                                                                 \n",
            " conv2d_5 (Conv2D)           (None, 2, 128, 16)        6160      \n",
            "                                                                 \n",
            " flatten_2 (Flatten)         (None, 4096)              0         \n",
            "                                                                 \n",
            " dense_4 (Dense)             (None, 128)               524416    \n",
            "                                                                 \n",
            " dense_5 (Dense)             (None, 11)                1419      \n",
            "                                                                 \n",
            "=================================================================\n",
            "Total params: 532,251\n",
            "Trainable params: 532,251\n",
            "Non-trainable params: 0\n",
            "_________________________________________________________________\n",
            "\n",
            "learning rate :  0.001\n",
            "Epoch 1/20\n",
            "390/390 - 13s - loss: 1.9502 - accuracy: 0.2372 - val_loss: 1.8765 - val_accuracy: 0.2629 - 13s/epoch - 33ms/step\n",
            "Epoch 2/20\n",
            "390/390 - 14s - loss: 1.8292 - accuracy: 0.2750 - val_loss: 1.7781 - val_accuracy: 0.2901 - 14s/epoch - 36ms/step\n",
            "Epoch 3/20\n",
            "390/390 - 14s - loss: 1.7314 - accuracy: 0.3113 - val_loss: 1.6912 - val_accuracy: 0.3202 - 14s/epoch - 36ms/step\n",
            "Epoch 4/20\n",
            "390/390 - 12s - loss: 1.6703 - accuracy: 0.3328 - val_loss: 1.6464 - val_accuracy: 0.3443 - 12s/epoch - 31ms/step\n",
            "Epoch 5/20\n",
            "390/390 - 12s - loss: 1.6324 - accuracy: 0.3450 - val_loss: 1.6339 - val_accuracy: 0.3476 - 12s/epoch - 31ms/step\n",
            "Epoch 6/20\n",
            "390/390 - 12s - loss: 1.6036 - accuracy: 0.3552 - val_loss: 1.5914 - val_accuracy: 0.3601 - 12s/epoch - 31ms/step\n",
            "Epoch 7/20\n",
            "390/390 - 14s - loss: 1.5815 - accuracy: 0.3633 - val_loss: 1.5810 - val_accuracy: 0.3542 - 14s/epoch - 36ms/step\n",
            "Epoch 8/20\n",
            "390/390 - 14s - loss: 1.5651 - accuracy: 0.3692 - val_loss: 1.5673 - val_accuracy: 0.3698 - 14s/epoch - 36ms/step\n",
            "Epoch 9/20\n",
            "390/390 - 12s - loss: 1.5474 - accuracy: 0.3758 - val_loss: 1.5541 - val_accuracy: 0.3759 - 12s/epoch - 32ms/step\n",
            "Epoch 10/20\n",
            "390/390 - 14s - loss: 1.5353 - accuracy: 0.3807 - val_loss: 1.5273 - val_accuracy: 0.3813 - 14s/epoch - 36ms/step\n",
            "Epoch 11/20\n",
            "390/390 - 14s - loss: 1.5228 - accuracy: 0.3849 - val_loss: 1.5192 - val_accuracy: 0.3879 - 14s/epoch - 36ms/step\n",
            "Epoch 12/20\n",
            "390/390 - 14s - loss: 1.5110 - accuracy: 0.3895 - val_loss: 1.5140 - val_accuracy: 0.3890 - 14s/epoch - 36ms/step\n",
            "Epoch 13/20\n",
            "390/390 - 14s - loss: 1.5006 - accuracy: 0.3925 - val_loss: 1.4971 - val_accuracy: 0.3986 - 14s/epoch - 36ms/step\n",
            "Epoch 14/20\n",
            "390/390 - 12s - loss: 1.4887 - accuracy: 0.3973 - val_loss: 1.4902 - val_accuracy: 0.3917 - 12s/epoch - 31ms/step\n",
            "Epoch 15/20\n",
            "390/390 - 12s - loss: 1.4744 - accuracy: 0.4036 - val_loss: 1.4814 - val_accuracy: 0.3993 - 12s/epoch - 31ms/step\n",
            "Epoch 16/20\n",
            "390/390 - 14s - loss: 1.4595 - accuracy: 0.4076 - val_loss: 1.4631 - val_accuracy: 0.4013 - 14s/epoch - 36ms/step\n",
            "Epoch 17/20\n",
            "390/390 - 12s - loss: 1.4466 - accuracy: 0.4128 - val_loss: 1.4559 - val_accuracy: 0.4102 - 12s/epoch - 31ms/step\n",
            "Epoch 18/20\n",
            "390/390 - 14s - loss: 1.4331 - accuracy: 0.4165 - val_loss: 1.4450 - val_accuracy: 0.4082 - 14s/epoch - 36ms/step\n",
            "Epoch 19/20\n",
            "390/390 - 12s - loss: 1.4214 - accuracy: 0.4196 - val_loss: 1.4256 - val_accuracy: 0.4174 - 12s/epoch - 32ms/step\n",
            "Epoch 20/20\n",
            "390/390 - 12s - loss: 1.4101 - accuracy: 0.4242 - val_loss: 1.4140 - val_accuracy: 0.4231 - 12s/epoch - 31ms/step\n",
            "42/42 [==============================] - 0s 11ms/step - loss: 1.4146 - accuracy: 0.4206\n",
            "Model: \"model_3\"\n",
            "_________________________________________________________________\n",
            " Layer (type)                Output Shape              Param #   \n",
            "=================================================================\n",
            " input_4 (InputLayer)        [(None, 2, 128, 1)]       0         \n",
            "                                                                 \n",
            " conv2d_6 (Conv2D)           (None, 2, 128, 64)        256       \n",
            "                                                                 \n",
            " conv2d_7 (Conv2D)           (None, 2, 128, 16)        6160      \n",
            "                                                                 \n",
            " flatten_3 (Flatten)         (None, 4096)              0         \n",
            "                                                                 \n",
            " dense_6 (Dense)             (None, 128)               524416    \n",
            "                                                                 \n",
            " dense_7 (Dense)             (None, 11)                1419      \n",
            "                                                                 \n",
            "=================================================================\n",
            "Total params: 532,251\n",
            "Trainable params: 532,251\n",
            "Non-trainable params: 0\n",
            "_________________________________________________________________\n",
            "\n",
            "learning rate :  0.0001\n",
            "Epoch 1/20\n",
            "390/390 - 15s - loss: 2.0778 - accuracy: 0.2013 - val_loss: 1.9938 - val_accuracy: 0.2336 - 15s/epoch - 39ms/step\n",
            "Epoch 2/20\n",
            "390/390 - 14s - loss: 1.9629 - accuracy: 0.2367 - val_loss: 1.9379 - val_accuracy: 0.2442 - 14s/epoch - 37ms/step\n",
            "Epoch 3/20\n",
            "390/390 - 14s - loss: 1.9217 - accuracy: 0.2489 - val_loss: 1.9086 - val_accuracy: 0.2518 - 14s/epoch - 37ms/step\n",
            "Epoch 4/20\n",
            "390/390 - 14s - loss: 1.8965 - accuracy: 0.2569 - val_loss: 1.8852 - val_accuracy: 0.2611 - 14s/epoch - 36ms/step\n",
            "Epoch 5/20\n",
            "390/390 - 12s - loss: 1.8761 - accuracy: 0.2620 - val_loss: 1.8681 - val_accuracy: 0.2678 - 12s/epoch - 32ms/step\n",
            "Epoch 6/20\n",
            "390/390 - 14s - loss: 1.8572 - accuracy: 0.2688 - val_loss: 1.8510 - val_accuracy: 0.2724 - 14s/epoch - 36ms/step\n",
            "Epoch 7/20\n",
            "390/390 - 12s - loss: 1.8401 - accuracy: 0.2743 - val_loss: 1.8335 - val_accuracy: 0.2694 - 12s/epoch - 31ms/step\n",
            "Epoch 8/20\n",
            "390/390 - 14s - loss: 1.8244 - accuracy: 0.2782 - val_loss: 1.8202 - val_accuracy: 0.2790 - 14s/epoch - 36ms/step\n",
            "Epoch 9/20\n",
            "390/390 - 12s - loss: 1.8073 - accuracy: 0.2850 - val_loss: 1.8008 - val_accuracy: 0.2857 - 12s/epoch - 32ms/step\n",
            "Epoch 10/20\n",
            "390/390 - 12s - loss: 1.7930 - accuracy: 0.2892 - val_loss: 1.7851 - val_accuracy: 0.2943 - 12s/epoch - 31ms/step\n",
            "Epoch 11/20\n",
            "390/390 - 14s - loss: 1.7774 - accuracy: 0.2957 - val_loss: 1.7760 - val_accuracy: 0.2926 - 14s/epoch - 36ms/step\n",
            "Epoch 12/20\n",
            "390/390 - 14s - loss: 1.7639 - accuracy: 0.3019 - val_loss: 1.7593 - val_accuracy: 0.3046 - 14s/epoch - 36ms/step\n",
            "Epoch 13/20\n",
            "390/390 - 14s - loss: 1.7504 - accuracy: 0.3067 - val_loss: 1.7482 - val_accuracy: 0.3038 - 14s/epoch - 36ms/step\n",
            "Epoch 14/20\n",
            "390/390 - 12s - loss: 1.7384 - accuracy: 0.3129 - val_loss: 1.7367 - val_accuracy: 0.3146 - 12s/epoch - 31ms/step\n",
            "Epoch 15/20\n",
            "390/390 - 14s - loss: 1.7271 - accuracy: 0.3187 - val_loss: 1.7281 - val_accuracy: 0.3107 - 14s/epoch - 36ms/step\n",
            "Epoch 16/20\n",
            "390/390 - 12s - loss: 1.7167 - accuracy: 0.3232 - val_loss: 1.7175 - val_accuracy: 0.3223 - 12s/epoch - 31ms/step\n",
            "Epoch 17/20\n",
            "390/390 - 14s - loss: 1.7086 - accuracy: 0.3256 - val_loss: 1.7055 - val_accuracy: 0.3302 - 14s/epoch - 36ms/step\n",
            "Epoch 18/20\n",
            "390/390 - 14s - loss: 1.6976 - accuracy: 0.3315 - val_loss: 1.7047 - val_accuracy: 0.3305 - 14s/epoch - 36ms/step\n",
            "Epoch 19/20\n",
            "390/390 - 14s - loss: 1.6902 - accuracy: 0.3336 - val_loss: 1.6879 - val_accuracy: 0.3356 - 14s/epoch - 36ms/step\n",
            "Epoch 20/20\n",
            "390/390 - 12s - loss: 1.6817 - accuracy: 0.3375 - val_loss: 1.6805 - val_accuracy: 0.3396 - 12s/epoch - 31ms/step\n",
            "42/42 [==============================] - 0s 11ms/step - loss: 1.6798 - accuracy: 0.3355\n"
          ]
        },
        {
          "output_type": "display_data",
          "data": {
            "text/plain": [
              "<Figure size 432x288 with 1 Axes>"
            ],
            "image/png": "[encoded data removed]"
          },
          "metadata": {
            "needs_background": "light"
          }
        },
        {
          "output_type": "display_data",
          "data": {
            "text/plain": [
              "<Figure size 432x288 with 1 Axes>"
            ],
            "image/png": "[encoded data removed]"
          },
          "metadata": {
            "needs_background": "light"
          }
        },
        {
          "output_type": "display_data",
          "data": {
            "text/plain": [
              "<Figure size 432x288 with 1 Axes>"
            ],
            "image/png": "[encoded data removed]"
          },
          "metadata": {
            "needs_background": "light"
          }
        },
        {
          "output_type": "display_data",
          "data": {
            "text/plain": [
              "<Figure size 432x288 with 1 Axes>"
            ],
            "image/png": "[encoded data removed]"
          },
          "metadata": {
            "needs_background": "light"
          }
        }
      ]
    },
    {
      "cell_type": "code",
      "source": [
        "cnn_model = create_cnn_model((2, 128, 1))\n",
        "adam = tf.keras.optimizers.Adam(learning_rate=best_rate_int)\n",
        "cnn_model.compile(optimizer=adam,\n",
        "                  loss='categorical_crossentropy',\n",
        "                  metrics=['accuracy'])\n",
        "cnn_model.summary()"
      ],
      "metadata": {
        "id": "OW-Gj_1jiazV",
        "colab": {
          "base_uri": "https://localhost:8080/"
        },
        "outputId": "1d202506-9a9c-48a9-d64c-3252cead76ff"
      },
      "execution_count": null,
      "outputs": [
        {
          "output_type": "stream",
          "name": "stdout",
          "text": [
            "Model: \"model_4\"\n",
            "_________________________________________________________________\n",
            " Layer (type)                Output Shape              Param #   \n",
            "=================================================================\n",
            " input_5 (InputLayer)        [(None, 2, 128, 1)]       0         \n",
            "                                                                 \n",
            " conv2d_8 (Conv2D)           (None, 2, 128, 64)        256       \n",
            "                                                                 \n",
            " conv2d_9 (Conv2D)           (None, 2, 128, 16)        6160      \n",
            "                                                                 \n",
            " flatten_4 (Flatten)         (None, 4096)              0         \n",
            "                                                                 \n",
            " dense_8 (Dense)             (None, 128)               524416    \n",
            "                                                                 \n",
            " dense_9 (Dense)             (None, 11)                1419      \n",
            "                                                                 \n",
            "=================================================================\n",
            "Total params: 532,251\n",
            "Trainable params: 532,251\n",
            "Non-trainable params: 0\n",
            "_________________________________________________________________\n"
          ]
        }
      ]
    },
    {
      "cell_type": "code",
      "source": [
        "print(best_rate_int)"
      ],
      "metadata": {
        "colab": {
          "base_uri": "https://localhost:8080/"
        },
        "id": "3AWt4VDJQtl0",
        "outputId": "5e4072a6-e904-4bdb-f42e-732d7414b2a0"
      },
      "execution_count": null,
      "outputs": [
        {
          "output_type": "stream",
          "name": "stdout",
          "text": [
            "0.01\n"
          ]
        }
      ]
    },
    {
      "cell_type": "code",
      "source": [
        "history = cnn_model.fit(X_int_train, Y_int_train, batch_size=1024, epochs=20, verbose=2, validation_data=(X_int_val, Y_int_val)) "
      ],
      "metadata": {
        "id": "_jeKgx8CRpVg",
        "colab": {
          "base_uri": "https://localhost:8080/"
        },
        "outputId": "52225ca4-26b2-4f6f-bc07-931d54a8f8c3"
      },
      "execution_count": null,
      "outputs": [
        {
          "output_type": "stream",
          "name": "stdout",
          "text": [
            "Epoch 1/20\n",
            "780/780 - 18s - loss: 1.4022 - accuracy: 0.4258 - val_loss: 1.3372 - val_accuracy: 0.4490 - 18s/epoch - 23ms/step\n",
            "Epoch 2/20\n",
            "780/780 - 18s - loss: 1.3153 - accuracy: 0.4551 - val_loss: 1.2944 - val_accuracy: 0.4630 - 18s/epoch - 23ms/step\n",
            "Epoch 3/20\n",
            "780/780 - 18s - loss: 1.4089 - accuracy: 0.4198 - val_loss: 1.3657 - val_accuracy: 0.4354 - 18s/epoch - 24ms/step\n",
            "Epoch 4/20\n",
            "780/780 - 18s - loss: 1.3058 - accuracy: 0.4570 - val_loss: 1.2660 - val_accuracy: 0.4710 - 18s/epoch - 24ms/step\n",
            "Epoch 5/20\n",
            "780/780 - 17s - loss: 1.2490 - accuracy: 0.4776 - val_loss: 1.2254 - val_accuracy: 0.4831 - 17s/epoch - 22ms/step\n",
            "Epoch 6/20\n",
            "780/780 - 18s - loss: 1.2173 - accuracy: 0.4898 - val_loss: 1.2020 - val_accuracy: 0.4939 - 18s/epoch - 23ms/step\n",
            "Epoch 7/20\n",
            "780/780 - 18s - loss: 1.1914 - accuracy: 0.4994 - val_loss: 1.1945 - val_accuracy: 0.5008 - 18s/epoch - 23ms/step\n",
            "Epoch 8/20\n",
            "780/780 - 18s - loss: 1.1761 - accuracy: 0.5051 - val_loss: 1.1735 - val_accuracy: 0.5036 - 18s/epoch - 22ms/step\n",
            "Epoch 9/20\n",
            "780/780 - 18s - loss: 1.1601 - accuracy: 0.5112 - val_loss: 1.1824 - val_accuracy: 0.5036 - 18s/epoch - 23ms/step\n",
            "Epoch 10/20\n",
            "780/780 - 18s - loss: 1.1564 - accuracy: 0.5135 - val_loss: 1.2047 - val_accuracy: 0.4958 - 18s/epoch - 23ms/step\n",
            "Epoch 11/20\n",
            "780/780 - 18s - loss: 1.1385 - accuracy: 0.5194 - val_loss: 1.1591 - val_accuracy: 0.5058 - 18s/epoch - 23ms/step\n",
            "Epoch 12/20\n",
            "780/780 - 18s - loss: 1.1494 - accuracy: 0.5166 - val_loss: 1.1675 - val_accuracy: 0.5117 - 18s/epoch - 23ms/step\n",
            "Epoch 13/20\n",
            "780/780 - 18s - loss: 1.1496 - accuracy: 0.5169 - val_loss: 1.1621 - val_accuracy: 0.5081 - 18s/epoch - 23ms/step\n",
            "Epoch 14/20\n",
            "780/780 - 18s - loss: 1.1253 - accuracy: 0.5254 - val_loss: 1.1453 - val_accuracy: 0.5138 - 18s/epoch - 23ms/step\n",
            "Epoch 15/20\n",
            "780/780 - 18s - loss: 1.1101 - accuracy: 0.5310 - val_loss: 1.1455 - val_accuracy: 0.5153 - 18s/epoch - 23ms/step\n",
            "Epoch 16/20\n",
            "780/780 - 17s - loss: 1.1112 - accuracy: 0.5311 - val_loss: 1.1220 - val_accuracy: 0.5279 - 17s/epoch - 22ms/step\n",
            "Epoch 17/20\n",
            "780/780 - 18s - loss: 1.1021 - accuracy: 0.5347 - val_loss: 2.4389 - val_accuracy: 0.3728 - 18s/epoch - 23ms/step\n",
            "Epoch 18/20\n",
            "780/780 - 18s - loss: 1.2871 - accuracy: 0.4666 - val_loss: 1.1916 - val_accuracy: 0.4993 - 18s/epoch - 23ms/step\n",
            "Epoch 19/20\n",
            "780/780 - 18s - loss: 1.1295 - accuracy: 0.5247 - val_loss: 1.2771 - val_accuracy: 0.4722 - 18s/epoch - 23ms/step\n",
            "Epoch 20/20\n",
            "780/780 - 17s - loss: 1.1017 - accuracy: 0.5347 - val_loss: 1.1161 - val_accuracy: 0.5312 - 17s/epoch - 22ms/step\n"
          ]
        }
      ]
    },
    {
      "cell_type": "code",
      "source": [
        "cnn_model.evaluate(X_int_test, Y_int_test, batch_size=1024)"
      ],
      "metadata": {
        "id": "GVopqi__RqXP",
        "colab": {
          "base_uri": "https://localhost:8080/"
        },
        "outputId": "7b1ae7df-5639-404a-dbf6-cdcb1a481145"
      },
      "execution_count": null,
      "outputs": [
        {
          "output_type": "stream",
          "name": "stdout",
          "text": [
            "352/352 [==============================] - 3s 9ms/step - loss: 1.1196 - accuracy: 0.5303\n"
          ]
        },
        {
          "output_type": "execute_result",
          "data": {
            "text/plain": [
              "[1.1195783615112305, 0.5302583575248718]"
            ]
          },
          "metadata": {},
          "execution_count": 19
        }
      ]
    },
    {
      "cell_type": "markdown",
      "source": [
        "### Raw and Derivative data run"
      ],
      "metadata": {
        "id": "6fGdLZyrJiGa"
      }
    },
    {
      "cell_type": "code",
      "source": [
        "best_rate_raw_deriv = get_best_learning_rate((4, 128, 1), X_raw_deriv_tuning, Y_raw_deriv_tuning, X_raw_deriv_val_tuning, Y_raw_deriv_val_tuning, X_raw_deriv_val, Y_raw_deriv_val)"
      ],
      "metadata": {
        "id": "vTsFd6gXi9O3"
      },
      "execution_count": null,
      "outputs": []
    },
    {
      "cell_type": "code",
      "source": [
        "cnn_model = create_cnn_model((4, 128, 1))\n",
        "adam = tf.keras.optimizers.Adam(learning_rate=best_rate_raw_deriv)\n",
        "cnn_model.compile(optimizer=adam,\n",
        "                  loss='categorical_crossentropy',\n",
        "                  metrics=['accuracy'])\n",
        "cnn_model.summary()"
      ],
      "metadata": {
        "id": "3UGBaytEKJbF",
        "colab": {
          "base_uri": "https://localhost:8080/"
        },
        "outputId": "2cf1e5c7-9015-40c9-895b-5fe0331eff89"
      },
      "execution_count": null,
      "outputs": [
        {
          "output_type": "stream",
          "name": "stdout",
          "text": [
            "Model: \"model\"\n",
            "_________________________________________________________________\n",
            " Layer (type)                Output Shape              Param #   \n",
            "=================================================================\n",
            " input_1 (InputLayer)        [(None, 4, 128, 1)]       0         \n",
            "                                                                 \n",
            " conv2d (Conv2D)             (None, 4, 128, 64)        256       \n",
            "                                                                 \n",
            " conv2d_1 (Conv2D)           (None, 4, 128, 16)        6160      \n",
            "                                                                 \n",
            " flatten (Flatten)           (None, 8192)              0         \n",
            "                                                                 \n",
            " dense (Dense)               (None, 128)               1048704   \n",
            "                                                                 \n",
            " dense_1 (Dense)             (None, 11)                1419      \n",
            "                                                                 \n",
            "=================================================================\n",
            "Total params: 1,056,539\n",
            "Trainable params: 1,056,539\n",
            "Non-trainable params: 0\n",
            "_________________________________________________________________\n"
          ]
        }
      ]
    },
    {
      "cell_type": "code",
      "source": [
        "history = cnn_model.fit(X_raw_deriv_train, Y_raw_deriv_train, batch_size=1024, epochs=20, verbose=2, validation_data=(X_raw_deriv_val, Y_raw_deriv_val)) "
      ],
      "metadata": {
        "id": "WERFDr-RKQlO",
        "colab": {
          "base_uri": "https://localhost:8080/"
        },
        "outputId": "cc60e43c-9711-4e17-d0ea-ae1647b2dab5"
      },
      "execution_count": null,
      "outputs": [
        {
          "output_type": "stream",
          "name": "stdout",
          "text": [
            "Epoch 1/20\n",
            "780/780 - 46s - loss: 1.8821 - accuracy: 0.2712 - val_loss: 1.5762 - val_accuracy: 0.3730 - 46s/epoch - 59ms/step\n",
            "Epoch 2/20\n",
            "780/780 - 34s - loss: 1.4353 - accuracy: 0.4264 - val_loss: 1.3430 - val_accuracy: 0.4565 - 34s/epoch - 43ms/step\n",
            "Epoch 3/20\n",
            "780/780 - 35s - loss: 1.3125 - accuracy: 0.4651 - val_loss: 1.3057 - val_accuracy: 0.4582 - 35s/epoch - 45ms/step\n",
            "Epoch 4/20\n",
            "780/780 - 35s - loss: 1.2653 - accuracy: 0.4804 - val_loss: 1.2478 - val_accuracy: 0.4791 - 35s/epoch - 44ms/step\n",
            "Epoch 5/20\n",
            "780/780 - 35s - loss: 1.2196 - accuracy: 0.4952 - val_loss: 1.2001 - val_accuracy: 0.5018 - 35s/epoch - 44ms/step\n",
            "Epoch 6/20\n",
            "780/780 - 35s - loss: 1.1869 - accuracy: 0.5048 - val_loss: 1.1817 - val_accuracy: 0.4981 - 35s/epoch - 45ms/step\n",
            "Epoch 7/20\n",
            "780/780 - 35s - loss: 1.1672 - accuracy: 0.5110 - val_loss: 1.1678 - val_accuracy: 0.5050 - 35s/epoch - 44ms/step\n",
            "Epoch 8/20\n",
            "780/780 - 35s - loss: 1.1542 - accuracy: 0.5149 - val_loss: 1.1546 - val_accuracy: 0.5112 - 35s/epoch - 44ms/step\n",
            "Epoch 9/20\n",
            "780/780 - 35s - loss: 1.1446 - accuracy: 0.5196 - val_loss: 1.1577 - val_accuracy: 0.5113 - 35s/epoch - 44ms/step\n",
            "Epoch 10/20\n",
            "780/780 - 35s - loss: 1.1357 - accuracy: 0.5240 - val_loss: 1.1460 - val_accuracy: 0.5182 - 35s/epoch - 44ms/step\n",
            "Epoch 11/20\n",
            "780/780 - 35s - loss: 1.1252 - accuracy: 0.5289 - val_loss: 1.1491 - val_accuracy: 0.5190 - 35s/epoch - 44ms/step\n",
            "Epoch 12/20\n",
            "780/780 - 35s - loss: 1.1161 - accuracy: 0.5330 - val_loss: 1.1267 - val_accuracy: 0.5190 - 35s/epoch - 44ms/step\n",
            "Epoch 13/20\n",
            "780/780 - 35s - loss: 1.1068 - accuracy: 0.5367 - val_loss: 1.1251 - val_accuracy: 0.5226 - 35s/epoch - 44ms/step\n",
            "Epoch 14/20\n",
            "780/780 - 35s - loss: 1.0983 - accuracy: 0.5413 - val_loss: 1.1271 - val_accuracy: 0.5240 - 35s/epoch - 44ms/step\n",
            "Epoch 15/20\n",
            "780/780 - 35s - loss: 1.0909 - accuracy: 0.5452 - val_loss: 1.1116 - val_accuracy: 0.5301 - 35s/epoch - 44ms/step\n",
            "Epoch 16/20\n",
            "780/780 - 35s - loss: 1.0817 - accuracy: 0.5499 - val_loss: 1.0936 - val_accuracy: 0.5436 - 35s/epoch - 44ms/step\n",
            "Epoch 17/20\n",
            "780/780 - 35s - loss: 1.0735 - accuracy: 0.5538 - val_loss: 1.1056 - val_accuracy: 0.5390 - 35s/epoch - 44ms/step\n",
            "Epoch 18/20\n",
            "780/780 - 35s - loss: 1.0668 - accuracy: 0.5570 - val_loss: 1.0882 - val_accuracy: 0.5448 - 35s/epoch - 44ms/step\n",
            "Epoch 19/20\n",
            "780/780 - 35s - loss: 1.0614 - accuracy: 0.5592 - val_loss: 1.0811 - val_accuracy: 0.5483 - 35s/epoch - 44ms/step\n",
            "Epoch 20/20\n",
            "780/780 - 35s - loss: 1.0562 - accuracy: 0.5622 - val_loss: 1.0849 - val_accuracy: 0.5448 - 35s/epoch - 45ms/step\n"
          ]
        }
      ]
    },
    {
      "cell_type": "code",
      "source": [
        "cnn_model.evaluate(X_raw_deriv_test, Y_raw_deriv_test, batch_size=1024)"
      ],
      "metadata": {
        "id": "Ol40pD8wMYLT",
        "colab": {
          "base_uri": "https://localhost:8080/"
        },
        "outputId": "2b13c75c-5fd0-42bb-9ec6-6acfcbb20ac8"
      },
      "execution_count": null,
      "outputs": [
        {
          "output_type": "stream",
          "name": "stdout",
          "text": [
            "352/352 [==============================] - 6s 16ms/step - loss: 1.0906 - accuracy: 0.5439\n"
          ]
        },
        {
          "output_type": "execute_result",
          "data": {
            "text/plain": [
              "[1.090637445449829, 0.5438694357872009]"
            ]
          },
          "metadata": {},
          "execution_count": 21
        }
      ]
    },
    {
      "cell_type": "markdown",
      "source": [
        "### Raw and Integral data run"
      ],
      "metadata": {
        "id": "7q2ZnPp3JiQd"
      }
    },
    {
      "cell_type": "code",
      "source": [
        "best_rate_raw_int = get_best_learning_rate((4, 128, 1), X_raw_int_tuning, Y_raw_int_tuning, X_raw_int_val_tuning, Y_raw_int_val_tuning, X_raw_int_val, Y_raw_int_val)"
      ],
      "metadata": {
        "id": "C03mw-CZjkQT",
        "colab": {
          "base_uri": "https://localhost:8080/",
          "height": 1000
        },
        "outputId": "7c048db2-9d58-4880-ec02-3503a548567e"
      },
      "execution_count": null,
      "outputs": [
        {
          "output_type": "stream",
          "name": "stdout",
          "text": [
            "Model: \"model\"\n",
            "_________________________________________________________________\n",
            " Layer (type)                Output Shape              Param #   \n",
            "=================================================================\n",
            " input_1 (InputLayer)        [(None, 4, 128, 1)]       0         \n",
            "                                                                 \n",
            " conv2d (Conv2D)             (None, 4, 128, 64)        256       \n",
            "                                                                 \n",
            " conv2d_1 (Conv2D)           (None, 4, 128, 16)        6160      \n",
            "                                                                 \n",
            " flatten (Flatten)           (None, 8192)              0         \n",
            "                                                                 \n",
            " dense (Dense)               (None, 128)               1048704   \n",
            "                                                                 \n",
            " dense_1 (Dense)             (None, 11)                1419      \n",
            "                                                                 \n",
            "=================================================================\n",
            "Total params: 1,056,539\n",
            "Trainable params: 1,056,539\n",
            "Non-trainable params: 0\n",
            "_________________________________________________________________\n",
            "\n",
            "learning rate :  0.0001\n",
            "Epoch 1/20\n",
            "390/390 - 35s - loss: 2.0678 - accuracy: 0.2066 - val_loss: 1.9965 - val_accuracy: 0.2208 - 35s/epoch - 89ms/step\n",
            "Epoch 2/20\n",
            "390/390 - 26s - loss: 1.9668 - accuracy: 0.2352 - val_loss: 1.9471 - val_accuracy: 0.2443 - 26s/epoch - 67ms/step\n",
            "Epoch 3/20\n",
            "390/390 - 22s - loss: 1.9338 - accuracy: 0.2462 - val_loss: 1.9212 - val_accuracy: 0.2484 - 22s/epoch - 56ms/step\n",
            "Epoch 4/20\n",
            "390/390 - 22s - loss: 1.9055 - accuracy: 0.2542 - val_loss: 1.8918 - val_accuracy: 0.2556 - 22s/epoch - 57ms/step\n",
            "Epoch 5/20\n",
            "390/390 - 23s - loss: 1.8733 - accuracy: 0.2639 - val_loss: 1.8597 - val_accuracy: 0.2691 - 23s/epoch - 58ms/step\n",
            "Epoch 6/20\n",
            "390/390 - 22s - loss: 1.8431 - accuracy: 0.2733 - val_loss: 1.8335 - val_accuracy: 0.2699 - 22s/epoch - 57ms/step\n",
            "Epoch 7/20\n",
            "390/390 - 27s - loss: 1.8165 - accuracy: 0.2809 - val_loss: 1.8029 - val_accuracy: 0.2883 - 27s/epoch - 69ms/step\n",
            "Epoch 8/20\n",
            "390/390 - 27s - loss: 1.7925 - accuracy: 0.2884 - val_loss: 1.7840 - val_accuracy: 0.2946 - 27s/epoch - 69ms/step\n",
            "Epoch 9/20\n",
            "390/390 - 27s - loss: 1.7718 - accuracy: 0.2953 - val_loss: 1.7612 - val_accuracy: 0.3004 - 27s/epoch - 69ms/step\n",
            "Epoch 10/20\n",
            "390/390 - 27s - loss: 1.7538 - accuracy: 0.3022 - val_loss: 1.7450 - val_accuracy: 0.3051 - 27s/epoch - 69ms/step\n",
            "Epoch 11/20\n",
            "390/390 - 27s - loss: 1.7366 - accuracy: 0.3083 - val_loss: 1.7301 - val_accuracy: 0.3098 - 27s/epoch - 69ms/step\n",
            "Epoch 12/20\n",
            "390/390 - 22s - loss: 1.7205 - accuracy: 0.3152 - val_loss: 1.7183 - val_accuracy: 0.3080 - 22s/epoch - 58ms/step\n",
            "Epoch 13/20\n",
            "390/390 - 27s - loss: 1.7062 - accuracy: 0.3211 - val_loss: 1.6992 - val_accuracy: 0.3229 - 27s/epoch - 69ms/step\n",
            "Epoch 14/20\n",
            "390/390 - 22s - loss: 1.6920 - accuracy: 0.3258 - val_loss: 1.6858 - val_accuracy: 0.3263 - 22s/epoch - 57ms/step\n",
            "Epoch 15/20\n",
            "390/390 - 22s - loss: 1.6783 - accuracy: 0.3316 - val_loss: 1.6754 - val_accuracy: 0.3353 - 22s/epoch - 57ms/step\n",
            "Epoch 16/20\n",
            "390/390 - 22s - loss: 1.6656 - accuracy: 0.3372 - val_loss: 1.6635 - val_accuracy: 0.3375 - 22s/epoch - 58ms/step\n",
            "Epoch 17/20\n",
            "390/390 - 27s - loss: 1.6542 - accuracy: 0.3403 - val_loss: 1.6513 - val_accuracy: 0.3444 - 27s/epoch - 69ms/step\n",
            "Epoch 18/20\n",
            "390/390 - 22s - loss: 1.6431 - accuracy: 0.3447 - val_loss: 1.6400 - val_accuracy: 0.3453 - 22s/epoch - 57ms/step\n",
            "Epoch 19/20\n",
            "390/390 - 22s - loss: 1.6319 - accuracy: 0.3490 - val_loss: 1.6305 - val_accuracy: 0.3453 - 22s/epoch - 58ms/step\n",
            "Epoch 20/20\n",
            "390/390 - 22s - loss: 1.6210 - accuracy: 0.3528 - val_loss: 1.6213 - val_accuracy: 0.3531 - 22s/epoch - 57ms/step\n",
            "42/42 [==============================] - 1s 17ms/step - loss: 1.6225 - accuracy: 0.3518\n"
          ]
        },
        {
          "output_type": "display_data",
          "data": {
            "text/plain": [
              "<Figure size 432x288 with 1 Axes>"
            ],
            "image/png": "[encoded data removed]"
          },
          "metadata": {
            "needs_background": "light"
          }
        }
      ]
    },
    {
      "cell_type": "code",
      "source": [
        "cnn_model = create_cnn_model((4, 128, 1))\n",
        "adam = tf.keras.optimizers.Adam(learning_rate=best_rate_raw_int)\n",
        "cnn_model.compile(optimizer=adam,\n",
        "                  loss='categorical_crossentropy',\n",
        "                  metrics=['accuracy'])\n",
        "cnn_model.summary()"
      ],
      "metadata": {
        "id": "wHfZONc4KMx2",
        "colab": {
          "base_uri": "https://localhost:8080/"
        },
        "outputId": "1acb7d09-774c-48db-f545-01d9ca9f34d3"
      },
      "execution_count": null,
      "outputs": [
        {
          "output_type": "stream",
          "name": "stdout",
          "text": [
            "Model: \"model\"\n",
            "_________________________________________________________________\n",
            " Layer (type)                Output Shape              Param #   \n",
            "=================================================================\n",
            " input_1 (InputLayer)        [(None, 4, 128, 1)]       0         \n",
            "                                                                 \n",
            " conv2d (Conv2D)             (None, 4, 128, 64)        256       \n",
            "                                                                 \n",
            " conv2d_1 (Conv2D)           (None, 4, 128, 16)        6160      \n",
            "                                                                 \n",
            " flatten (Flatten)           (None, 8192)              0         \n",
            "                                                                 \n",
            " dense (Dense)               (None, 128)               1048704   \n",
            "                                                                 \n",
            " dense_1 (Dense)             (None, 11)                1419      \n",
            "                                                                 \n",
            "=================================================================\n",
            "Total params: 1,056,539\n",
            "Trainable params: 1,056,539\n",
            "Non-trainable params: 0\n",
            "_________________________________________________________________\n"
          ]
        }
      ]
    },
    {
      "cell_type": "code",
      "source": [
        "history = cnn_model.fit(X_raw_int_train, Y_raw_int_train, batch_size=1024, epochs=20, verbose=2, validation_data=(X_raw_int_val, Y_raw_int_val)) "
      ],
      "metadata": {
        "id": "qyuXrH-2KSqO",
        "colab": {
          "base_uri": "https://localhost:8080/"
        },
        "outputId": "b51343d8-0395-4c38-a40f-6896d4ed1e2f"
      },
      "execution_count": null,
      "outputs": [
        {
          "output_type": "stream",
          "name": "stdout",
          "text": [
            "Epoch 1/20\n",
            "780/780 - 47s - loss: 1.8799 - accuracy: 0.2601 - val_loss: 1.7282 - val_accuracy: 0.3141 - 47s/epoch - 60ms/step\n",
            "Epoch 2/20\n",
            "780/780 - 34s - loss: 1.5600 - accuracy: 0.3774 - val_loss: 1.4586 - val_accuracy: 0.4117 - 34s/epoch - 43ms/step\n",
            "Epoch 3/20\n",
            "780/780 - 33s - loss: 1.3620 - accuracy: 0.4465 - val_loss: 1.3126 - val_accuracy: 0.4519 - 33s/epoch - 42ms/step\n",
            "Epoch 4/20\n",
            "780/780 - 33s - loss: 1.2914 - accuracy: 0.4670 - val_loss: 1.2592 - val_accuracy: 0.4706 - 33s/epoch - 43ms/step\n",
            "Epoch 5/20\n",
            "780/780 - 33s - loss: 1.2592 - accuracy: 0.4760 - val_loss: 1.2463 - val_accuracy: 0.4724 - 33s/epoch - 43ms/step\n",
            "Epoch 6/20\n",
            "780/780 - 33s - loss: 1.2362 - accuracy: 0.4837 - val_loss: 1.2329 - val_accuracy: 0.4790 - 33s/epoch - 43ms/step\n",
            "Epoch 7/20\n",
            "780/780 - 33s - loss: 1.2194 - accuracy: 0.4901 - val_loss: 1.2602 - val_accuracy: 0.4694 - 33s/epoch - 43ms/step\n",
            "Epoch 8/20\n",
            "780/780 - 33s - loss: 1.2036 - accuracy: 0.4954 - val_loss: 1.1945 - val_accuracy: 0.4982 - 33s/epoch - 43ms/step\n",
            "Epoch 9/20\n",
            "780/780 - 33s - loss: 1.1919 - accuracy: 0.4998 - val_loss: 1.1850 - val_accuracy: 0.5049 - 33s/epoch - 43ms/step\n",
            "Epoch 10/20\n",
            "780/780 - 33s - loss: 1.1814 - accuracy: 0.5044 - val_loss: 1.1685 - val_accuracy: 0.5071 - 33s/epoch - 42ms/step\n",
            "Epoch 11/20\n",
            "780/780 - 33s - loss: 1.1662 - accuracy: 0.5115 - val_loss: 1.1584 - val_accuracy: 0.5144 - 33s/epoch - 43ms/step\n",
            "Epoch 12/20\n",
            "780/780 - 33s - loss: 1.1498 - accuracy: 0.5199 - val_loss: 1.1394 - val_accuracy: 0.5231 - 33s/epoch - 43ms/step\n",
            "Epoch 13/20\n",
            "780/780 - 33s - loss: 1.1350 - accuracy: 0.5280 - val_loss: 1.1496 - val_accuracy: 0.5167 - 33s/epoch - 43ms/step\n",
            "Epoch 14/20\n",
            "780/780 - 33s - loss: 1.1248 - accuracy: 0.5324 - val_loss: 1.1249 - val_accuracy: 0.5307 - 33s/epoch - 42ms/step\n",
            "Epoch 15/20\n",
            "780/780 - 33s - loss: 1.1144 - accuracy: 0.5367 - val_loss: 1.1193 - val_accuracy: 0.5290 - 33s/epoch - 42ms/step\n",
            "Epoch 16/20\n",
            "780/780 - 33s - loss: 1.1094 - accuracy: 0.5388 - val_loss: 1.1387 - val_accuracy: 0.5208 - 33s/epoch - 42ms/step\n",
            "Epoch 17/20\n",
            "780/780 - 33s - loss: 1.1059 - accuracy: 0.5407 - val_loss: 1.1119 - val_accuracy: 0.5344 - 33s/epoch - 43ms/step\n",
            "Epoch 18/20\n",
            "780/780 - 33s - loss: 1.1009 - accuracy: 0.5429 - val_loss: 1.1151 - val_accuracy: 0.5358 - 33s/epoch - 43ms/step\n",
            "Epoch 19/20\n",
            "780/780 - 33s - loss: 1.0961 - accuracy: 0.5447 - val_loss: 1.1109 - val_accuracy: 0.5239 - 33s/epoch - 42ms/step\n",
            "Epoch 20/20\n",
            "780/780 - 33s - loss: 1.0920 - accuracy: 0.5465 - val_loss: 1.1065 - val_accuracy: 0.5376 - 33s/epoch - 42ms/step\n"
          ]
        }
      ]
    },
    {
      "cell_type": "code",
      "source": [
        "cnn_model.evaluate(X_raw_int_test, Y_raw_int_test, batch_size=1024)"
      ],
      "metadata": {
        "id": "XBqXtHbXMiPB",
        "colab": {
          "base_uri": "https://localhost:8080/"
        },
        "outputId": "f6530f35-029c-40e6-fe66-bc7ad44b760f"
      },
      "execution_count": null,
      "outputs": [
        {
          "output_type": "stream",
          "name": "stdout",
          "text": [
            "352/352 [==============================] - 6s 16ms/step - loss: 1.1101 - accuracy: 0.5361\n"
          ]
        },
        {
          "output_type": "execute_result",
          "data": {
            "text/plain": [
              "[1.1100636720657349, 0.5361083149909973]"
            ]
          },
          "metadata": {},
          "execution_count": 21
        }
      ]
    },
    {
      "cell_type": "markdown",
      "source": [
        "### Combined Data run"
      ],
      "metadata": {
        "id": "A8X-DNmeJoMt"
      }
    },
    {
      "cell_type": "code",
      "source": [
        "best_rate_combined = get_best_learning_rate((6, 128, 1), X_combined_tuning, Y_combined_tuning, X_combined_val_tuning, Y_combined_val_tuning, X_combined_val, Y_combined_val)"
      ],
      "metadata": {
        "id": "rkHhlQYaj668"
      },
      "execution_count": null,
      "outputs": []
    },
    {
      "cell_type": "code",
      "source": [
        "cnn_model = create_cnn_model((6, 128, 1))\n",
        "adam = tf.keras.optimizers.Adam(learning_rate=best_rate_combined)\n",
        "cnn_model.compile(optimizer=adam,\n",
        "                  loss='categorical_crossentropy',\n",
        "                  metrics=['accuracy'])\n",
        "cnn_model.summary()"
      ],
      "metadata": {
        "id": "NINv2XjgKOaQ"
      },
      "execution_count": null,
      "outputs": []
    },
    {
      "cell_type": "code",
      "source": [
        "history = cnn_model.fit(X_combined_train, Y_combined_train, batch_size=1024, epochs=10, verbose=2, validation_data=(X_combined_val, Y_combined_val)) "
      ],
      "metadata": {
        "id": "MLN9AGz-Kc7U"
      },
      "execution_count": null,
      "outputs": []
    },
    {
      "cell_type": "code",
      "source": [
        "cnn_model.evaluate(X_combined_test, Y_combined_test, batch_size=1024)"
      ],
      "metadata": {
        "id": "_w9EEwUlNAdB"
      },
      "execution_count": null,
      "outputs": []
    },
    {
      "cell_type": "markdown",
      "source": [
        "# **CNN 1D**"
      ],
      "metadata": {
        "id": "KNq8i3PEcPHb"
      }
    },
    {
      "cell_type": "code",
      "source": [
        "def create_cnn1D_model(input_shape):\n",
        "  model = Sequential()\n",
        "  model.add(tfl.Conv1D(filters=64, kernel_size=3, strides=1, activation='relu', input_shape=input_shape, data_format='channels_first'))\n",
        "  model.add(tfl.Conv1D(filters=16, kernel_size=3, strides=2, activation='relu'))\n",
        "  model.add(tfl.Flatten())\n",
        "  model.add(tfl.Dense(128, activation='relu'))\n",
        "  model.add(tfl.Dense(11, activation='softmax'))\n",
        "  # YOUR CODE ENDS HERE\n",
        "  # adam = tf.keras.optimizers.Adam(learning_rate=0.001)\n",
        "  model.compile(loss='categorical_crossentropy', optimizer='adam', metrics=['accuracy'])\n",
        "  return model"
      ],
      "metadata": {
        "id": "cOHQktaAcX52"
      },
      "execution_count": null,
      "outputs": []
    },
    {
      "cell_type": "code",
      "source": [
        "cnn_1d_model = create_cnn1D_model((2,128))"
      ],
      "metadata": {
        "id": "KJct9KSHi6EK"
      },
      "execution_count": null,
      "outputs": []
    },
    {
      "cell_type": "code",
      "source": [
        "history = cnn_1d_model.fit(X_train, Y_train, batch_size=1024, epochs=50, verbose=2, validation_data=(X_val, Y_val)) "
      ],
      "metadata": {
        "colab": {
          "base_uri": "https://localhost:8080/"
        },
        "id": "e9D2V3XBjSK2",
        "outputId": "bfd9c599-49d5-4c57-af6e-1cf0e7c2f112"
      },
      "execution_count": null,
      "outputs": [
        {
          "output_type": "stream",
          "name": "stdout",
          "text": [
            "Epoch 1/50\n",
            "780/780 - 20s - loss: 1.9619 - accuracy: 0.2304 - val_loss: 1.7036 - val_accuracy: 0.3010 - 20s/epoch - 26ms/step\n",
            "Epoch 2/50\n",
            "780/780 - 6s - loss: 1.5412 - accuracy: 0.3829 - val_loss: 1.4321 - val_accuracy: 0.4282 - 6s/epoch - 7ms/step\n",
            "Epoch 3/50\n",
            "780/780 - 6s - loss: 1.3832 - accuracy: 0.4459 - val_loss: 1.3668 - val_accuracy: 0.4523 - 6s/epoch - 7ms/step\n",
            "Epoch 4/50\n",
            "780/780 - 6s - loss: 1.3318 - accuracy: 0.4649 - val_loss: 1.3357 - val_accuracy: 0.4685 - 6s/epoch - 8ms/step\n",
            "Epoch 5/50\n",
            "780/780 - 6s - loss: 1.2908 - accuracy: 0.4792 - val_loss: 1.2975 - val_accuracy: 0.4792 - 6s/epoch - 7ms/step\n",
            "Epoch 6/50\n",
            "780/780 - 6s - loss: 1.2677 - accuracy: 0.4845 - val_loss: 1.2609 - val_accuracy: 0.4865 - 6s/epoch - 7ms/step\n",
            "Epoch 7/50\n",
            "780/780 - 6s - loss: 1.2481 - accuracy: 0.4884 - val_loss: 1.2427 - val_accuracy: 0.4906 - 6s/epoch - 8ms/step\n",
            "Epoch 8/50\n",
            "780/780 - 6s - loss: 1.2301 - accuracy: 0.4931 - val_loss: 1.2167 - val_accuracy: 0.4884 - 6s/epoch - 7ms/step\n",
            "Epoch 9/50\n",
            "780/780 - 6s - loss: 1.2171 - accuracy: 0.4966 - val_loss: 1.2100 - val_accuracy: 0.4962 - 6s/epoch - 8ms/step\n",
            "Epoch 10/50\n",
            "780/780 - 6s - loss: 1.2052 - accuracy: 0.4994 - val_loss: 1.1895 - val_accuracy: 0.4994 - 6s/epoch - 8ms/step\n",
            "Epoch 11/50\n",
            "780/780 - 6s - loss: 1.1932 - accuracy: 0.5032 - val_loss: 1.1766 - val_accuracy: 0.5044 - 6s/epoch - 8ms/step\n",
            "Epoch 12/50\n",
            "780/780 - 6s - loss: 1.1821 - accuracy: 0.5076 - val_loss: 1.1934 - val_accuracy: 0.4960 - 6s/epoch - 8ms/step\n",
            "Epoch 13/50\n",
            "780/780 - 6s - loss: 1.1697 - accuracy: 0.5106 - val_loss: 1.1639 - val_accuracy: 0.5147 - 6s/epoch - 8ms/step\n",
            "Epoch 14/50\n",
            "780/780 - 6s - loss: 1.1620 - accuracy: 0.5142 - val_loss: 1.1529 - val_accuracy: 0.5219 - 6s/epoch - 8ms/step\n",
            "Epoch 15/50\n",
            "780/780 - 6s - loss: 1.1520 - accuracy: 0.5195 - val_loss: 1.1497 - val_accuracy: 0.5122 - 6s/epoch - 8ms/step\n",
            "Epoch 16/50\n",
            "780/780 - 6s - loss: 1.1432 - accuracy: 0.5231 - val_loss: 1.1466 - val_accuracy: 0.5155 - 6s/epoch - 8ms/step\n",
            "Epoch 17/50\n",
            "780/780 - 6s - loss: 1.1379 - accuracy: 0.5258 - val_loss: 1.1342 - val_accuracy: 0.5239 - 6s/epoch - 8ms/step\n",
            "Epoch 18/50\n",
            "780/780 - 6s - loss: 1.1300 - accuracy: 0.5287 - val_loss: 1.1430 - val_accuracy: 0.5250 - 6s/epoch - 8ms/step\n",
            "Epoch 19/50\n",
            "780/780 - 6s - loss: 1.1261 - accuracy: 0.5306 - val_loss: 1.1179 - val_accuracy: 0.5313 - 6s/epoch - 8ms/step\n",
            "Epoch 20/50\n",
            "780/780 - 6s - loss: 1.1204 - accuracy: 0.5327 - val_loss: 1.1267 - val_accuracy: 0.5297 - 6s/epoch - 8ms/step\n",
            "Epoch 21/50\n",
            "780/780 - 6s - loss: 1.1143 - accuracy: 0.5350 - val_loss: 1.1224 - val_accuracy: 0.5315 - 6s/epoch - 8ms/step\n",
            "Epoch 22/50\n",
            "780/780 - 6s - loss: 1.1136 - accuracy: 0.5349 - val_loss: 1.1222 - val_accuracy: 0.5235 - 6s/epoch - 8ms/step\n",
            "Epoch 23/50\n",
            "780/780 - 6s - loss: 1.1092 - accuracy: 0.5374 - val_loss: 1.1027 - val_accuracy: 0.5350 - 6s/epoch - 8ms/step\n",
            "Epoch 24/50\n",
            "780/780 - 6s - loss: 1.1052 - accuracy: 0.5386 - val_loss: 1.1051 - val_accuracy: 0.5362 - 6s/epoch - 8ms/step\n",
            "Epoch 25/50\n",
            "780/780 - 6s - loss: 1.1022 - accuracy: 0.5402 - val_loss: 1.1118 - val_accuracy: 0.5302 - 6s/epoch - 8ms/step\n",
            "Epoch 26/50\n",
            "780/780 - 6s - loss: 1.0977 - accuracy: 0.5418 - val_loss: 1.0970 - val_accuracy: 0.5464 - 6s/epoch - 8ms/step\n",
            "Epoch 27/50\n",
            "780/780 - 7s - loss: 1.0913 - accuracy: 0.5440 - val_loss: 1.0978 - val_accuracy: 0.5465 - 7s/epoch - 8ms/step\n",
            "Epoch 28/50\n",
            "780/780 - 6s - loss: 1.0832 - accuracy: 0.5482 - val_loss: 1.0879 - val_accuracy: 0.5465 - 6s/epoch - 8ms/step\n",
            "Epoch 29/50\n",
            "780/780 - 6s - loss: 1.0744 - accuracy: 0.5518 - val_loss: 1.0703 - val_accuracy: 0.5504 - 6s/epoch - 8ms/step\n",
            "Epoch 30/50\n",
            "780/780 - 6s - loss: 1.0680 - accuracy: 0.5543 - val_loss: 1.0643 - val_accuracy: 0.5524 - 6s/epoch - 8ms/step\n",
            "Epoch 31/50\n",
            "780/780 - 6s - loss: 1.0670 - accuracy: 0.5545 - val_loss: 1.0906 - val_accuracy: 0.5462 - 6s/epoch - 8ms/step\n",
            "Epoch 32/50\n",
            "780/780 - 6s - loss: 1.0641 - accuracy: 0.5557 - val_loss: 1.0638 - val_accuracy: 0.5578 - 6s/epoch - 7ms/step\n",
            "Epoch 33/50\n",
            "780/780 - 6s - loss: 1.0620 - accuracy: 0.5567 - val_loss: 1.0672 - val_accuracy: 0.5551 - 6s/epoch - 8ms/step\n",
            "Epoch 34/50\n",
            "780/780 - 6s - loss: 1.0586 - accuracy: 0.5575 - val_loss: 1.0541 - val_accuracy: 0.5580 - 6s/epoch - 8ms/step\n",
            "Epoch 35/50\n",
            "780/780 - 6s - loss: 1.0583 - accuracy: 0.5578 - val_loss: 1.0546 - val_accuracy: 0.5610 - 6s/epoch - 8ms/step\n",
            "Epoch 36/50\n",
            "780/780 - 6s - loss: 1.0562 - accuracy: 0.5585 - val_loss: 1.0499 - val_accuracy: 0.5549 - 6s/epoch - 7ms/step\n",
            "Epoch 37/50\n",
            "780/780 - 6s - loss: 1.0552 - accuracy: 0.5599 - val_loss: 1.0626 - val_accuracy: 0.5556 - 6s/epoch - 7ms/step\n",
            "Epoch 38/50\n",
            "780/780 - 6s - loss: 1.0540 - accuracy: 0.5598 - val_loss: 1.0557 - val_accuracy: 0.5610 - 6s/epoch - 8ms/step\n",
            "Epoch 39/50\n",
            "780/780 - 6s - loss: 1.0523 - accuracy: 0.5605 - val_loss: 1.0573 - val_accuracy: 0.5583 - 6s/epoch - 8ms/step\n",
            "Epoch 40/50\n",
            "780/780 - 6s - loss: 1.0515 - accuracy: 0.5604 - val_loss: 1.0562 - val_accuracy: 0.5530 - 6s/epoch - 8ms/step\n",
            "Epoch 41/50\n",
            "780/780 - 6s - loss: 1.0498 - accuracy: 0.5611 - val_loss: 1.0500 - val_accuracy: 0.5559 - 6s/epoch - 8ms/step\n",
            "Epoch 42/50\n",
            "780/780 - 6s - loss: 1.0480 - accuracy: 0.5617 - val_loss: 1.0474 - val_accuracy: 0.5585 - 6s/epoch - 8ms/step\n",
            "Epoch 43/50\n",
            "780/780 - 6s - loss: 1.0476 - accuracy: 0.5620 - val_loss: 1.0412 - val_accuracy: 0.5641 - 6s/epoch - 8ms/step\n",
            "Epoch 44/50\n",
            "780/780 - 6s - loss: 1.0453 - accuracy: 0.5628 - val_loss: 1.0436 - val_accuracy: 0.5635 - 6s/epoch - 7ms/step\n",
            "Epoch 45/50\n",
            "780/780 - 6s - loss: 1.0458 - accuracy: 0.5631 - val_loss: 1.0514 - val_accuracy: 0.5547 - 6s/epoch - 8ms/step\n",
            "Epoch 46/50\n",
            "780/780 - 6s - loss: 1.0449 - accuracy: 0.5634 - val_loss: 1.0469 - val_accuracy: 0.5608 - 6s/epoch - 7ms/step\n",
            "Epoch 47/50\n",
            "780/780 - 6s - loss: 1.0419 - accuracy: 0.5648 - val_loss: 1.0652 - val_accuracy: 0.5510 - 6s/epoch - 8ms/step\n",
            "Epoch 48/50\n",
            "780/780 - 6s - loss: 1.0418 - accuracy: 0.5647 - val_loss: 1.0436 - val_accuracy: 0.5638 - 6s/epoch - 7ms/step\n",
            "Epoch 49/50\n",
            "780/780 - 6s - loss: 1.0425 - accuracy: 0.5643 - val_loss: 1.0440 - val_accuracy: 0.5642 - 6s/epoch - 7ms/step\n",
            "Epoch 50/50\n",
            "780/780 - 6s - loss: 1.0411 - accuracy: 0.5647 - val_loss: 1.0413 - val_accuracy: 0.5619 - 6s/epoch - 7ms/step\n"
          ]
        }
      ]
    },
    {
      "cell_type": "code",
      "source": [
        "cnn_1d_model.evaluate(X_test, Y_test, batch_size=1024)"
      ],
      "metadata": {
        "id": "xaOHeLtwjSlC",
        "colab": {
          "base_uri": "https://localhost:8080/"
        },
        "outputId": "05b01c52-ca1f-443c-ea0a-7f6ea0311a25"
      },
      "execution_count": null,
      "outputs": [
        {
          "output_type": "stream",
          "name": "stdout",
          "text": [
            "352/352 [==============================] - 2s 5ms/step - loss: 1.0456 - accuracy: 0.5612\n"
          ]
        },
        {
          "output_type": "execute_result",
          "data": {
            "text/plain": [
              "[1.045606017112732, 0.5612221956253052]"
            ]
          },
          "metadata": {},
          "execution_count": 13
        }
      ]
    },
    {
      "cell_type": "markdown",
      "source": [
        "Big picture"
      ],
      "metadata": {
        "id": "tqymOxcblG3S"
      }
    },
    {
      "cell_type": "code",
      "source": [
        "y_pred = cnn_1d_model.predict(X_test)\n",
        "test_Y_all = np.argmax(Y_test, axis=1)\n",
        "y_pred = np.argmax(y_pred, axis=1)\n",
        "\n",
        "conf = confusion_matrix(test_Y_all, y_pred)\n",
        "plt.figure()\n",
        "plot_confusion_matrix(conf, labels=mods, title=\"CNN Confusion Matrix Raw\")\n",
        "\n",
        "acc = []\n",
        "for snr in snrs:\n",
        "    test_X_i = X_test[np.where(Y_test_snr == snr)]\n",
        "    test_Y_i = Y_test[np.where(Y_test_snr == snr)]   \n",
        "    y_pred = cnn_1d_model.predict(test_X_i, batch_size=1024)\n",
        "\n",
        "    test_Y_i = np.argmax(test_Y_i, axis=1)\n",
        "    y_pred = np.argmax(y_pred, axis=1)\n",
        "\n",
        "    accuracy = accuracy_score(test_Y_i, y_pred)\n",
        "    acc.append(accuracy)\n",
        "    print(\"  Accuracy = \",accuracy)  "
      ],
      "metadata": {
        "colab": {
          "base_uri": "https://localhost:8080/",
          "height": 658
        },
        "id": "L5Fx62W5lGAC",
        "outputId": "5b5278b4-93ee-470c-e01a-ad0c85f7eeff"
      },
      "execution_count": null,
      "outputs": [
        {
          "output_type": "stream",
          "name": "stdout",
          "text": [
            "  Accuracy =  0.1019525183048591\n",
            "  Accuracy =  0.11257612157103748\n",
            "  Accuracy =  0.12070222670929384\n",
            "  Accuracy =  0.14881184261784183\n",
            "  Accuracy =  0.213617207596738\n",
            "  Accuracy =  0.2856983551714525\n",
            "  Accuracy =  0.35849678589088513\n",
            "  Accuracy =  0.45652053427922185\n",
            "  Accuracy =  0.5828374395194929\n",
            "  Accuracy =  0.6982434821034026\n",
            "  Accuracy =  0.773191324982065\n",
            "  Accuracy =  0.8106984478935698\n",
            "  Accuracy =  0.8168541212019473\n",
            "  Accuracy =  0.8192294844672086\n",
            "  Accuracy =  0.8219909854766012\n",
            "  Accuracy =  0.8225450127029714\n",
            "  Accuracy =  0.8198768103878808\n",
            "  Accuracy =  0.8205841446453408\n",
            "  Accuracy =  0.8249231628946633\n",
            "  Accuracy =  0.8184272696591293\n"
          ]
        },
        {
          "output_type": "display_data",
          "data": {
            "text/plain": [
              "<Figure size 432x288 with 2 Axes>"
            ],
            "image/png": "[encoded data removed]"
          },
          "metadata": {
            "needs_background": "light"
          }
        }
      ]
    },
    {
      "cell_type": "code",
      "source": [
        "plt.plot(snrs, acc)\n",
        "plt.xlabel(\"Signal to Noise Ratio\")\n",
        "plt.ylabel(\"Classification Accuracy\")\n",
        "plt.title(\"Dense layer NN Classification Accuracy\")"
      ],
      "metadata": {
        "colab": {
          "base_uri": "https://localhost:8080/",
          "height": 312
        },
        "id": "d8uK5DV0lv4T",
        "outputId": "47101edd-32a5-476f-9d9f-90dbca41e517"
      },
      "execution_count": null,
      "outputs": [
        {
          "output_type": "execute_result",
          "data": {
            "text/plain": [
              "Text(0.5, 1.0, 'Dense layer NN Classification Accuracy')"
            ]
          },
          "metadata": {},
          "execution_count": 18
        },
        {
          "output_type": "display_data",
          "data": {
            "text/plain": [
              "<Figure size 432x288 with 1 Axes>"
            ],
            "image/png": "[encoded data removed]"
          },
          "metadata": {
            "needs_background": "light"
          }
        }
      ]
    },
    {
      "cell_type": "code",
      "source": [
        "snr = 0\n",
        "print(\"SNR = \",snr)\n",
        "test_X_i = X_test[np.where(Y_test_snr == snr)]\n",
        "test_Y_i = Y_test[np.where(Y_test_snr == snr)]   \n",
        "y_pred = cnn_1d_model.predict(test_X_i, batch_size=1024)\n",
        "\n",
        "test_Y_i = np.argmax(test_Y_i, axis=1)\n",
        "y_pred = np.argmax(y_pred, axis=1)\n",
        "\n",
        "accuracy = accuracy_score(test_Y_i, y_pred)\n",
        "acc.append(accuracy)\n",
        "print(\"  Accuracy = \",accuracy)\n",
        "conf = confusion_matrix(test_Y_i, y_pred)\n",
        "plt.figure()\n",
        "plot_confusion_matrix(conf, labels=mods, title=\"CNN Confusion Matrix (SNR=%d)\"%(snr))"
      ],
      "metadata": {
        "colab": {
          "base_uri": "https://localhost:8080/",
          "height": 346
        },
        "id": "zrI2SJlKl2G9",
        "outputId": "964d4a39-a75a-4553-ff88-509c4c31a978"
      },
      "execution_count": null,
      "outputs": [
        {
          "output_type": "stream",
          "name": "stdout",
          "text": [
            "SNR =  0\n",
            "  Accuracy =  0.773191324982065\n"
          ]
        },
        {
          "output_type": "display_data",
          "data": {
            "text/plain": [
              "<Figure size 432x288 with 2 Axes>"
            ],
            "image/png": "[encoded data removed]"
          },
          "metadata": {
            "needs_background": "light"
          }
        }
      ]
    },
    {
      "cell_type": "markdown",
      "source": [
        "# **RNN**"
      ],
      "metadata": {
        "id": "qCSJhMTcESR7"
      }
    },
    {
      "cell_type": "code",
      "source": [
        "def get_best_learning_rate_rnn(input_shape, x, y, x_val, y_val, x_test, y_test):\n",
        "  learning_rates = [0.1, 0.01, 0.001, 0.0001]\n",
        "  best_acc = 0\n",
        "  best_learning_rate = 0\n",
        "  for lr in learning_rates:\n",
        "    rnn = get_vanilla_rnn(input_shape, lr)\n",
        "    print(\"\\nlearning rate : \", lr)\n",
        "    history = rnn.fit(x, y, batch_size=1024, epochs=20, verbose=2, validation_data=(x_val, y_val)) \n",
        "    evaluation = rnn.evaluate(x_test, y_test, batch_size=1024)\n",
        "    \n",
        "    # Show loss curves \n",
        "    plt.figure()\n",
        "    plt.title('Training performance learning rate ' + str(lr))\n",
        "    plt.plot(history.epoch, history.history['loss'], label='train loss+error')\n",
        "    plt.plot(history.epoch, history.history['val_loss'], label='val_error')\n",
        "    plt.legend()\n",
        "\n",
        "    accuracy = evaluation[1]\n",
        "    if accuracy > best_acc:\n",
        "      best_acc = accuracy\n",
        "      best_learning_rate = lr\n",
        "  return best_learning_rate"
      ],
      "metadata": {
        "id": "FmukdR4AkYy5"
      },
      "execution_count": null,
      "outputs": []
    },
    {
      "cell_type": "code",
      "source": [
        "def get_vanilla_rnn(input_shape, lr):\n",
        "    model = Sequential()\n",
        "    model.add(SimpleRNN(128, input_shape = input_shape, return_sequences = False))\n",
        "    model.add(Dense(11))\n",
        "    model.add(Activation('softmax'))\n",
        "    adam = tf.keras.optimizers.Adam(lr = lr)\n",
        "    model.compile(loss = 'categorical_crossentropy', optimizer = 'adam', metrics = ['accuracy'])\n",
        "    return model"
      ],
      "metadata": {
        "id": "LYV7vRVhEUC7"
      },
      "execution_count": null,
      "outputs": []
    },
    {
      "cell_type": "markdown",
      "source": [
        "Raw data only run"
      ],
      "metadata": {
        "id": "pA7tbKty3oMJ"
      }
    },
    {
      "cell_type": "code",
      "source": [
        "best_lr_raw = get_best_learning_rate_rnn((2,128), X_tuning, Y_tuning, X_val_tuning, Y_val_tuning, X_val, Y_val)"
      ],
      "metadata": {
        "id": "-IZTyA8iksVj"
      },
      "execution_count": null,
      "outputs": []
    },
    {
      "cell_type": "code",
      "source": [
        "rnn = get_vanilla_rnn((2,128), best_lr_raw)\n",
        "rnn.fit(X_train, Y_train, batch_size=1024, epochs=10, validation_data=(X_val, Y_val))"
      ],
      "metadata": {
        "id": "g4CLspzo2K_X"
      },
      "execution_count": null,
      "outputs": []
    },
    {
      "cell_type": "code",
      "source": [
        "rnn.evaluate(X_test, Y_test, batch_size=1024)"
      ],
      "metadata": {
        "id": "mM6g8Ltt2MtS"
      },
      "execution_count": null,
      "outputs": []
    },
    {
      "cell_type": "markdown",
      "source": [
        "Derivative data run"
      ],
      "metadata": {
        "id": "bswri2EESKI2"
      }
    },
    {
      "cell_type": "code",
      "source": [
        "best_lr_deriv = get_best_learning_rate_rnn((2,128), X_drev_tuning, Y_drev_tuning, X_drev_val_tuning, Y_drev_val_tuning, X_deriv_val, Y_deriv_val)"
      ],
      "metadata": {
        "id": "YirwHF4Qlws9"
      },
      "execution_count": null,
      "outputs": []
    },
    {
      "cell_type": "code",
      "source": [
        "rnn = get_vanilla_rnn((2,128), best_lr_deriv)\n",
        "rnn.fit(X_deriv_train, Y_deriv_train, batch_size=1024, epochs=100, validation_data=(X_deriv_val, Y_deriv_val))"
      ],
      "metadata": {
        "id": "WzLthiazSMyX"
      },
      "execution_count": null,
      "outputs": []
    },
    {
      "cell_type": "code",
      "source": [
        "rnn.evaluate(X_deriv_test, Y_deriv_test, batch_size=1024)"
      ],
      "metadata": {
        "id": "3xKHU4itSbOg"
      },
      "execution_count": null,
      "outputs": []
    },
    {
      "cell_type": "markdown",
      "source": [
        "Integral data run"
      ],
      "metadata": {
        "id": "G1-SSWw7Sk_s"
      }
    },
    {
      "cell_type": "code",
      "source": [
        "best_lr_int = get_best_learning_rate_rnn((2,128), X_int_tuning, Y_int_tuning, X_int_val_tuning, Y_int_val_tuning, X_int_val, Y_int_val)"
      ],
      "metadata": {
        "id": "pMaTAMFal5M3"
      },
      "execution_count": null,
      "outputs": []
    },
    {
      "cell_type": "code",
      "source": [
        "rnn = get_vanilla_rnn((2,128), best_lr_int)\n",
        "rnn.fit(X_int_train, Y_int_train, batch_size=1024, epochs=100, validation_data=(X_int_val, Y_int_val))"
      ],
      "metadata": {
        "id": "AR5ZERSTSpKJ"
      },
      "execution_count": null,
      "outputs": []
    },
    {
      "cell_type": "code",
      "source": [
        "rnn.evaluate(X_int_test, Y_int_test, batch_size=1024)"
      ],
      "metadata": {
        "id": "4CAhlPlZSnGP"
      },
      "execution_count": null,
      "outputs": []
    },
    {
      "cell_type": "markdown",
      "source": [
        "Raw and Derivative data run"
      ],
      "metadata": {
        "id": "chRGLFRd3rmj"
      }
    },
    {
      "cell_type": "code",
      "source": [
        "best_lr_raw_deriv = get_best_learning_rate_rnn((4,128), X_raw_deriv_tuning, Y_raw_deriv_tuning, X_raw_deriv_val_tuning, Y_raw_deriv_val_tuning, X_raw_deriv_val, Y_raw_deriv_val)"
      ],
      "metadata": {
        "id": "erlDWnYtmBfQ"
      },
      "execution_count": null,
      "outputs": []
    },
    {
      "cell_type": "code",
      "source": [
        "rnn = get_vanilla_rnn((4,128), best_lr_raw_deriv)\n",
        "rnn.fit(X_raw_deriv_train, Y_raw_deriv_train, batch_size=1024, epochs=100, validation_data=(X_raw_deriv_val, Y_raw_deriv_val))"
      ],
      "metadata": {
        "id": "SbmG1QkR3vog"
      },
      "execution_count": null,
      "outputs": []
    },
    {
      "cell_type": "code",
      "source": [
        "rnn.evaluate(X_raw_deriv_test, Y_raw_deriv_test, batch_size=1024)"
      ],
      "metadata": {
        "id": "Tp-GE9Q83xA4"
      },
      "execution_count": null,
      "outputs": []
    },
    {
      "cell_type": "markdown",
      "source": [
        "Raw and Integral"
      ],
      "metadata": {
        "id": "Od0lMB7f5h4f"
      }
    },
    {
      "cell_type": "code",
      "source": [
        "best_lr_raw_int = get_best_learning_rate_rnn((4,128), X_raw_int_tuning, Y_raw_int_tuning, X_raw_int_val_tuning, Y_raw_int_val_tuning, X_raw_int_val, Y_raw_int_val)"
      ],
      "metadata": {
        "id": "QVi9NCF8mKBI"
      },
      "execution_count": null,
      "outputs": []
    },
    {
      "cell_type": "code",
      "source": [
        "rnn = get_vanilla_rnn((4,128), best_lr_raw_int)\n",
        "rnn.fit(X_raw_int_train, Y_raw_int_train, batch_size=1024, epochs=100, validation_data=(X_raw_int_val, Y_raw_int_val))"
      ],
      "metadata": {
        "id": "yZKiMmIN5jxr"
      },
      "execution_count": null,
      "outputs": []
    },
    {
      "cell_type": "code",
      "source": [
        "rnn.evaluate(X_raw_int_test, Y_raw_int_test, batch_size=1024)"
      ],
      "metadata": {
        "id": "fDZ-lifU5nFY"
      },
      "execution_count": null,
      "outputs": []
    },
    {
      "cell_type": "markdown",
      "source": [
        "All features combined"
      ],
      "metadata": {
        "id": "3ItCJcAn7DmE"
      }
    },
    {
      "cell_type": "code",
      "source": [
        "best_lr_combined = get_best_learning_rate_rnn((6,128), X_combined_tuning, Y_combined_tuning, X_combined_val_tuning, Y_combined_val_tuning, X_combined_val, Y_combined_val)"
      ],
      "metadata": {
        "id": "JqwCM7UwmRsT"
      },
      "execution_count": null,
      "outputs": []
    },
    {
      "cell_type": "code",
      "source": [
        "rnn = get_vanilla_rnn((6,128), best_lr_combined)\n",
        "rnn.fit(X_combined_train, Y_combined_train, batch_size=1024, epochs=100, validation_data=(X_combined_val, Y_combined_val))"
      ],
      "metadata": {
        "id": "Kj1dMmGB7G0-"
      },
      "execution_count": null,
      "outputs": []
    },
    {
      "cell_type": "code",
      "source": [
        "rnn.evaluate(X_combined_test, Y_combined_test, batch_size=1024)"
      ],
      "metadata": {
        "id": "cgQOmAEB7H_d"
      },
      "execution_count": null,
      "outputs": []
    },
    {
      "cell_type": "markdown",
      "source": [
        "# **LSTM**"
      ],
      "metadata": {
        "id": "GhUH4lDDEUXk"
      }
    },
    {
      "cell_type": "code",
      "source": [
        "def get_best_learning_rate_lstm(input_shape, x, y, x_val, y_val, x_test, y_test):\n",
        "  learning_rates = [0.1, 0.01, 0.001, 0.0001]\n",
        "  best_acc = 0\n",
        "  best_learning_rate = 0\n",
        "  for lr in learning_rates:\n",
        "    lstm = getLSTM(input_shape, lr)\n",
        "    print(\"\\nlearning rate : \", lr)\n",
        "    history = lstm.fit(x, y, batch_size=1024, epochs=20, verbose=2, validation_data=(x_val, y_val)) \n",
        "    evaluation = lstm.evaluate(x_test, y_test, batch_size=1024)\n",
        "    \n",
        "    # Show loss curves \n",
        "    plt.figure()\n",
        "    plt.title('Training performance learning rate ' + str(lr))\n",
        "    plt.plot(history.epoch, history.history['loss'], label='train loss+error')\n",
        "    plt.plot(history.epoch, history.history['val_loss'], label='val_error')\n",
        "    plt.legend()\n",
        "\n",
        "\n",
        "    accuracy = evaluation[1]\n",
        "    if accuracy > best_acc:\n",
        "      best_acc = accuracy\n",
        "      best_learning_rate = lr\n",
        "  return best_learning_rate"
      ],
      "metadata": {
        "id": "d3IV3ol_mtvV"
      },
      "execution_count": null,
      "outputs": []
    },
    {
      "cell_type": "code",
      "source": [
        "def getLSTM(shape, lr):\n",
        "  lstm = Sequential();\n",
        "  lstm.add(LSTM(128, return_sequences=True, input_shape=shape))\n",
        "  lstm.add(LSTM(11))\n",
        "  lstm.add(Dense(11, activation='softmax'))\n",
        "  adam = tf.keras.optimizers.Adam(learning_rate=lr)\n",
        "  lstm.compile(optimizer='adam', loss='categorical_crossentropy', metrics=[metrics.categorical_accuracy])\n",
        "  # print(lstm.summary())\n",
        "  return lstm"
      ],
      "metadata": {
        "id": "vNOArN66EWHW"
      },
      "execution_count": null,
      "outputs": []
    },
    {
      "cell_type": "markdown",
      "source": [
        "Raw data only"
      ],
      "metadata": {
        "id": "k6efEkiU8THx"
      }
    },
    {
      "cell_type": "code",
      "source": [
        "best_lr_raw_lstm = get_best_learning_rate_lstm((2,128), X_tuning, Y_tuning, X_val_tuning, Y_val_tuning, X_val, Y_val)"
      ],
      "metadata": {
        "id": "VLuC_PAsnCS-"
      },
      "execution_count": null,
      "outputs": []
    },
    {
      "cell_type": "code",
      "source": [
        "lstm = getLSTM((2,128), best_lr_raw_lstm)\n",
        "lstm.fit(X_train, Y_train, batch_size=1024, epochs=100, validation_data=(X_val, Y_val))"
      ],
      "metadata": {
        "id": "QBDgrLKK1ok7"
      },
      "execution_count": null,
      "outputs": []
    },
    {
      "cell_type": "code",
      "source": [
        "lstm.evaluate(X_test, Y_test, batch_size=1024)"
      ],
      "metadata": {
        "id": "x39nwCZP1z5c"
      },
      "execution_count": null,
      "outputs": []
    },
    {
      "cell_type": "markdown",
      "source": [
        "Derivative data run"
      ],
      "metadata": {
        "id": "3OARwzq8TC1b"
      }
    },
    {
      "cell_type": "code",
      "source": [
        "best_lr_deriv_lstm = get_best_learning_rate_lstm((2,128), X_drev_tuning, Y_drev_tuning, X_drev_val_tuning, Y_drev_val_tuning, X_deriv_val, Y_deriv_val)"
      ],
      "metadata": {
        "id": "xHf8yhvhnL-r"
      },
      "execution_count": null,
      "outputs": []
    },
    {
      "cell_type": "code",
      "source": [
        "lstm = getLSTM((2,128), best_lr_deriv_lstm)\n",
        "lstm.fit(X_deriv_train, Y_deriv_train, batch_size=1024, epochs=100, validation_data=(X_deriv_val, Y_deriv_val))"
      ],
      "metadata": {
        "id": "toHkn6LpTE8m"
      },
      "execution_count": null,
      "outputs": []
    },
    {
      "cell_type": "code",
      "source": [
        "lstm.evaluate(X_deriv_test, Y_deriv_test, batch_size=1024)"
      ],
      "metadata": {
        "id": "cb99iiCwTHJN"
      },
      "execution_count": null,
      "outputs": []
    },
    {
      "cell_type": "markdown",
      "source": [
        "Integral data run"
      ],
      "metadata": {
        "id": "dgpAWhGfTTh3"
      }
    },
    {
      "cell_type": "code",
      "source": [
        "best_lr_int_lstm = get_best_learning_rate_lstm((2,128), X_int_tuning, Y_int_tuning, X_int_val_tuning, Y_int_val_tuning, X_int_val, Y_int_val)"
      ],
      "metadata": {
        "id": "rL8y4seEnWEj"
      },
      "execution_count": null,
      "outputs": []
    },
    {
      "cell_type": "code",
      "source": [
        "lstm = getLSTM((2,128), best_lr_int_lstm)\n",
        "lstm.fit(X_int_train, Y_int_train, batch_size=1024, epochs=100, validation_data=(X_int_val, Y_int_val))"
      ],
      "metadata": {
        "id": "LxNs1hIWTWEi"
      },
      "execution_count": null,
      "outputs": []
    },
    {
      "cell_type": "code",
      "source": [
        "lstm.evaluate(X_int_test, Y_int_test, batch_size=1024)"
      ],
      "metadata": {
        "id": "9fvq8TfETU54"
      },
      "execution_count": null,
      "outputs": []
    },
    {
      "cell_type": "markdown",
      "source": [
        "Raw and *Derivative*"
      ],
      "metadata": {
        "id": "q4tzB4iN8WmJ"
      }
    },
    {
      "cell_type": "code",
      "source": [
        "best_lr_raw_deriv_lstm = get_best_learning_rate_lstm((4,128), X_raw_deriv_tuning, Y_raw_deriv_tuning, X_raw_deriv_val_tuning, Y_raw_deriv_val_tuning, X_raw_deriv_val, Y_raw_deriv_val)"
      ],
      "metadata": {
        "id": "0Ro4EnsUnhO-"
      },
      "execution_count": null,
      "outputs": []
    },
    {
      "cell_type": "code",
      "source": [
        "lstm = getLSTM((4,128), best_lr_raw_deriv_lstm)\n",
        "lstm.fit(X_raw_deriv_train, Y_raw_deriv_train, batch_size=1024, epochs=100, validation_data=(X_raw_deriv_val, Y_raw_deriv_val))"
      ],
      "metadata": {
        "id": "eL4Y649W8Znq"
      },
      "execution_count": null,
      "outputs": []
    },
    {
      "cell_type": "code",
      "source": [
        "lstm.evaluate(X_raw_deriv_test, Y_raw_deriv_test, batch_size=1024)"
      ],
      "metadata": {
        "id": "BbhpGOgL8b30"
      },
      "execution_count": null,
      "outputs": []
    },
    {
      "cell_type": "markdown",
      "source": [
        "Row and Integral"
      ],
      "metadata": {
        "id": "9j5isyBd8ohS"
      }
    },
    {
      "cell_type": "code",
      "source": [
        "best_lr_raw_int_lstm = get_best_learning_rate_lstm((4,128), X_raw_int_tuning, Y_raw_int_tuning, X_raw_int_val_tuning, Y_raw_int_val_tuning, X_raw_int_val, Y_raw_int_val)"
      ],
      "metadata": {
        "id": "hMMQKbiznouS"
      },
      "execution_count": null,
      "outputs": []
    },
    {
      "cell_type": "code",
      "source": [
        "lstm = getLSTM((4,128), best_lr_raw_int_lstm)\n",
        "lstm.fit(X_raw_int_train, Y_raw_int_train, batch_size=1024, epochs=100, validation_data=(X_raw_int_val, Y_raw_int_val))"
      ],
      "metadata": {
        "id": "ljegKJLt8qJr"
      },
      "execution_count": null,
      "outputs": []
    },
    {
      "cell_type": "code",
      "source": [
        "lstm.evaluate(X_raw_int_test, Y_raw_int_test, batch_size=1024)"
      ],
      "metadata": {
        "id": "UWMR_M7S8rZF"
      },
      "execution_count": null,
      "outputs": []
    },
    {
      "cell_type": "markdown",
      "source": [
        "Combined Data"
      ],
      "metadata": {
        "id": "5AqgPQR58_Zl"
      }
    },
    {
      "cell_type": "code",
      "source": [
        "best_lr_combined_lstm = get_best_learning_rate_lstm((6,128), X_combined_tuning, Y_combined_tuning, X_combined_val_tuning, Y_combined_val_tuning, X_combined_val, Y_combined_val)"
      ],
      "metadata": {
        "id": "PKQNQNs1nwhx"
      },
      "execution_count": null,
      "outputs": []
    },
    {
      "cell_type": "code",
      "source": [
        "lstm = getLSTM((6,128), best_lr_combined_lstm)\n",
        "lstm.fit(X_combined_train, Y_combined_train, batch_size=1024, epochs=100, validation_data=(X_combined_val, Y_combined_val))"
      ],
      "metadata": {
        "id": "nWPfobKX8-dr"
      },
      "execution_count": null,
      "outputs": []
    },
    {
      "cell_type": "code",
      "source": [
        "lstm.evaluate(X_combined_test, Y_combined_test, batch_size=1024)\n",
        "X_combined_train, Y_combined_train, X_combined_val, Y_combined_val, X_combined_test, Y_combined_test = split_data(X_combined, labels)"
      ],
      "metadata": {
        "id": "4cUR1oVy9B0S"
      },
      "execution_count": null,
      "outputs": []
    },
    {
      "cell_type": "code",
      "source": [],
      "metadata": {
        "id": "_xBZqRJhcTZe"
      },
      "execution_count": null,
      "outputs": []
    },
    {
      "cell_type": "markdown",
      "source": [
        "# **Big Picture**"
      ],
      "metadata": {
        "id": "Txvr41MJUJ6_"
      }
    },
    {
      "cell_type": "code",
      "source": [
        "def plot_confusion_matrix(cm, title='Confusion matrix', cmap=plt.cm.Blues, labels=[]):\n",
        "    plt.imshow(cm, interpolation='nearest', cmap=cmap)\n",
        "    plt.title(title)\n",
        "    plt.colorbar()\n",
        "    tick_marks = np.arange(len(labels))\n",
        "    plt.xticks(tick_marks, labels, rotation=45)\n",
        "    plt.yticks(tick_marks, labels)\n",
        "    plt.tight_layout()\n",
        "    plt.ylabel('True label')\n",
        "    plt.xlabel('Predicted label')"
      ],
      "metadata": {
        "id": "x1UqECZf1e21"
      },
      "execution_count": null,
      "outputs": []
    },
    {
      "cell_type": "markdown",
      "source": [
        "## **CNN**"
      ],
      "metadata": {
        "id": "2U0j8Izc01XM"
      }
    },
    {
      "cell_type": "markdown",
      "source": [
        "### Raw "
      ],
      "metadata": {
        "id": "kt3J7qPL3RFi"
      }
    },
    {
      "cell_type": "code",
      "source": [
        "y_pred = cnn_model.predict(X_test)\n",
        "test_Y_all = np.argmax(Y_test, axis=1)\n",
        "y_pred = np.argmax(y_pred, axis=1)\n",
        "\n",
        "conf = confusion_matrix(test_Y_all, y_pred)\n",
        "plt.figure()\n",
        "plot_confusion_matrix(conf, labels=mods, title=\"CNN Confusion Matrix Raw\")\n",
        "\n",
        "acc = []\n",
        "for snr in snrs:\n",
        "    test_X_i = X_test[np.where(Y_test_snr == snr)]\n",
        "    test_Y_i = Y_test[np.where(Y_test_snr == snr)]   \n",
        "    y_pred = cnn_model.predict(test_X_i, batch_size=1024)\n",
        "\n",
        "    test_Y_i = np.argmax(test_Y_i, axis=1)\n",
        "    y_pred = np.argmax(y_pred, axis=1)\n",
        "\n",
        "    accuracy = accuracy_score(test_Y_i, y_pred)\n",
        "    acc.append(accuracy)\n",
        "    print(\"  Accuracy = \",accuracy)  "
      ],
      "metadata": {
        "id": "hAQLe2dXUS3y",
        "colab": {
          "base_uri": "https://localhost:8080/",
          "height": 658
        },
        "outputId": "fd578753-9453-450d-b0a3-8ad5e3c6e18a"
      },
      "execution_count": null,
      "outputs": [
        {
          "output_type": "stream",
          "name": "stdout",
          "text": [
            "  Accuracy =  0.1044486354559574\n",
            "  Accuracy =  0.10520140789988268\n",
            "  Accuracy =  0.11705648101407819\n",
            "  Accuracy =  0.14480494184428738\n",
            "  Accuracy =  0.18236549723605713\n",
            "  Accuracy =  0.22748815165876776\n",
            "  Accuracy =  0.32745453546508435\n",
            "  Accuracy =  0.45108906501136176\n",
            "  Accuracy =  0.5817251543295701\n",
            "  Accuracy =  0.7151458241272647\n",
            "  Accuracy =  0.7936648087853871\n",
            "  Accuracy =  0.8194013303769402\n",
            "  Accuracy =  0.8279894801633932\n",
            "  Accuracy =  0.8379913149983298\n",
            "  Accuracy =  0.8356797061933114\n",
            "  Accuracy =  0.8394454876836408\n",
            "  Accuracy =  0.8410743022029854\n",
            "  Accuracy =  0.8401112656467316\n",
            "  Accuracy =  0.8393405979323834\n",
            "  Accuracy =  0.8383395207559905\n"
          ]
        },
        {
          "output_type": "display_data",
          "data": {
            "text/plain": [
              "<Figure size 432x288 with 2 Axes>"
            ],
            "image/png": "[encoded data removed]"
          },
          "metadata": {
            "needs_background": "light"
          }
        }
      ]
    },
    {
      "cell_type": "code",
      "source": [
        "plt.plot(snrs, acc)\n",
        "plt.xlabel(\"Signal to Noise Ratio\")\n",
        "plt.ylabel(\"Classification Accuracy\")\n",
        "plt.title(\"Dense layer NN Classification Accuracy\")"
      ],
      "metadata": {
        "id": "nj5jr7Be4p00",
        "colab": {
          "base_uri": "https://localhost:8080/",
          "height": 312
        },
        "outputId": "2fbdcc32-bab6-43eb-d2e5-ad954442723c"
      },
      "execution_count": null,
      "outputs": [
        {
          "output_type": "execute_result",
          "data": {
            "text/plain": [
              "Text(0.5, 1.0, 'Dense layer NN Classification Accuracy')"
            ]
          },
          "metadata": {},
          "execution_count": 19
        },
        {
          "output_type": "display_data",
          "data": {
            "text/plain": [
              "<Figure size 432x288 with 1 Axes>"
            ],
            "image/png": "[encoded data removed]"
          },
          "metadata": {
            "needs_background": "light"
          }
        }
      ]
    },
    {
      "cell_type": "code",
      "source": [
        "snr = 0\n",
        "print(\"SNR = \",snr)\n",
        "test_X_i = X_test[np.where(Y_test_snr == snr)]\n",
        "test_Y_i = Y_test[np.where(Y_test_snr == snr)]   \n",
        "y_pred = cnn_model.predict(test_X_i, batch_size=1024)\n",
        "\n",
        "test_Y_i = np.argmax(test_Y_i, axis=1)\n",
        "y_pred = np.argmax(y_pred, axis=1)\n",
        "\n",
        "accuracy = accuracy_score(test_Y_i, y_pred)\n",
        "acc.append(accuracy)\n",
        "print(\"  Accuracy = \",accuracy)\n",
        "conf = confusion_matrix(test_Y_i, y_pred)\n",
        "plt.figure()\n",
        "plot_confusion_matrix(conf, labels=mods, title=\"CNN Confusion Matrix (SNR=%d)\"%(snr))"
      ],
      "metadata": {
        "id": "7aczL3u_-6EY"
      },
      "execution_count": null,
      "outputs": []
    },
    {
      "cell_type": "markdown",
      "source": [
        "### Derivative"
      ],
      "metadata": {
        "id": "z0wNhCoV3SXF"
      }
    },
    {
      "cell_type": "code",
      "source": [
        "y_pred = cnn_model.predict(X_deriv_test)\n",
        "test_Y_all = np.argmax(Y_deriv_test, axis=1)\n",
        "y_pred = np.argmax(y_pred, axis=1)\n",
        "\n",
        "conf = confusion_matrix(test_Y_all, y_pred)\n",
        "plt.figure()\n",
        "plot_confusion_matrix(conf, labels=mods, title=\"RNN Confusion Matrix Derivative\")  \n",
        "\n",
        "acc = []\n",
        "for snr in snrs:\n",
        "    print(\"SNR = \",snr)\n",
        "    test_X_i = X_deriv_test[np.where(Y_deriv_test_snr == snr)]\n",
        "    test_Y_i = Y_deriv_test[np.where(Y_deriv_test_snr == snr)]   \n",
        "    y_pred = cnn_model.predict(test_X_i, batch_size=1024)\n",
        "\n",
        "    test_Y_i = np.argmax(test_Y_i, axis=1)\n",
        "    y_pred = np.argmax(y_pred, axis=1)\n",
        "\n",
        "\n",
        "    accuracy = accuracy_score(test_Y_i, y_pred)\n",
        "    acc.append(accuracy)\n",
        "    print(\"  Accuracy = \",accuracy)"
      ],
      "metadata": {
        "id": "nTLQHC763a7Q",
        "colab": {
          "base_uri": "https://localhost:8080/",
          "height": 1000
        },
        "outputId": "52d36e48-7d44-4732-d1d4-e870306ffc7d"
      },
      "execution_count": null,
      "outputs": [
        {
          "output_type": "stream",
          "name": "stdout",
          "text": [
            "SNR =  -20\n",
            "  Accuracy =  0.09573996006212558\n",
            "SNR =  -18\n",
            "  Accuracy =  0.09788256327169116\n",
            "SNR =  -16\n",
            "  Accuracy =  0.10045431600201918\n",
            "SNR =  -14\n",
            "  Accuracy =  0.10479158550837553\n",
            "SNR =  -12\n",
            "  Accuracy =  0.11832959334464452\n",
            "SNR =  -10\n",
            "  Accuracy =  0.14591580708112628\n",
            "SNR =  -8\n",
            "  Accuracy =  0.1851546618317675\n",
            "SNR =  -6\n",
            "  Accuracy =  0.22468547359086627\n",
            "SNR =  -4\n",
            "  Accuracy =  0.28780379289249763\n",
            "SNR =  -2\n",
            "  Accuracy =  0.41349977905435265\n",
            "SNR =  0\n",
            "  Accuracy =  0.5144859555212185\n",
            "SNR =  2\n",
            "  Accuracy =  0.6093126385809312\n",
            "SNR =  4\n",
            "  Accuracy =  0.646858038162386\n",
            "SNR =  6\n",
            "  Accuracy =  0.6515421445273355\n",
            "SNR =  8\n",
            "  Accuracy =  0.6582827889377331\n",
            "SNR =  10\n",
            "  Accuracy =  0.661162045730697\n",
            "SNR =  12\n",
            "  Accuracy =  0.6534598523944287\n",
            "SNR =  14\n",
            "  Accuracy =  0.6532962447844228\n",
            "SNR =  16\n",
            "  Accuracy =  0.651858060910869\n",
            "SNR =  18\n",
            "  Accuracy =  0.6590730115873552\n"
          ]
        },
        {
          "output_type": "display_data",
          "data": {
            "text/plain": [
              "<Figure size 432x288 with 2 Axes>"
            ],
            "image/png": "[encoded data removed]"
          },
          "metadata": {
            "needs_background": "light"
          }
        }
      ]
    },
    {
      "cell_type": "code",
      "source": [
        "plt.plot(snrs, acc)\n",
        "plt.xlabel(\"Signal to Noise Ratio\")\n",
        "plt.ylabel(\"Classification Accuracy\")\n",
        "plt.title(\"Dense layer NN Classification Accuracy\")"
      ],
      "metadata": {
        "id": "1RBC8suu4pGc",
        "colab": {
          "base_uri": "https://localhost:8080/",
          "height": 312
        },
        "outputId": "d5c398b8-0836-414b-8e80-a8a51bbe256e"
      },
      "execution_count": null,
      "outputs": [
        {
          "output_type": "execute_result",
          "data": {
            "text/plain": [
              "Text(0.5, 1.0, 'Dense layer NN Classification Accuracy')"
            ]
          },
          "metadata": {},
          "execution_count": 23
        },
        {
          "output_type": "display_data",
          "data": {
            "text/plain": [
              "<Figure size 432x288 with 1 Axes>"
            ],
            "image/png": "[encoded data removed]"
          },
          "metadata": {
            "needs_background": "light"
          }
        }
      ]
    },
    {
      "cell_type": "code",
      "source": [
        "snr = 0\n",
        "print(\"SNR = \",snr)\n",
        "test_X_i = X_deriv_test[np.where(Y_deriv_test_snr == snr)]\n",
        "test_Y_i = Y_deriv_test[np.where(Y_deriv_test_snr == snr)]   \n",
        "y_pred = cnn_model.predict(test_X_i, batch_size=1024)\n",
        "\n",
        "test_Y_i = np.argmax(test_Y_i, axis=1)\n",
        "y_pred = np.argmax(y_pred, axis=1)\n",
        "\n",
        "\n",
        "accuracy = accuracy_score(test_Y_i, y_pred)\n",
        "acc.append(accuracy)\n",
        "print(\"  Accuracy = \",accuracy)\n",
        "conf = confusion_matrix(test_Y_i, y_pred)\n",
        "plt.figure()\n",
        "plot_confusion_matrix(conf, labels=mods, title=\"CNN Confusion Matrix (SNR=%d)\"%(snr))"
      ],
      "metadata": {
        "colab": {
          "base_uri": "https://localhost:8080/",
          "height": 346
        },
        "id": "frN1eCfu96_m",
        "outputId": "419ec8d1-76ee-4ec1-918a-7f634c551f03"
      },
      "execution_count": null,
      "outputs": [
        {
          "output_type": "stream",
          "name": "stdout",
          "text": [
            "SNR =  0\n",
            "  Accuracy =  0.5144859555212185\n"
          ]
        },
        {
          "output_type": "display_data",
          "data": {
            "text/plain": [
              "<Figure size 432x288 with 2 Axes>"
            ],
            "image/png": "[encoded data removed]"
          },
          "metadata": {
            "needs_background": "light"
          }
        }
      ]
    },
    {
      "cell_type": "markdown",
      "source": [
        "### Integral"
      ],
      "metadata": {
        "id": "-DbxkjiN3Tzm"
      }
    },
    {
      "cell_type": "code",
      "source": [
        "y_pred = cnn_model.predict(X_int_test)\n",
        "test_Y_all = np.argmax(Y_int_test, axis=1)\n",
        "y_pred = np.argmax(y_pred, axis=1)\n",
        "\n",
        "conf = confusion_matrix(test_Y_all, y_pred)\n",
        "plt.figure()\n",
        "plot_confusion_matrix(conf, labels=mods, title=\"CNN Confusion Matrix Integral\")  \n",
        "\n",
        "acc = []\n",
        "for snr in snrs:\n",
        "    print(\"SNR = \",snr)\n",
        "    test_X_i = X_int_test[np.where(Y_int_test_snr == snr)]\n",
        "    test_Y_i = Y_int_test[np.where(Y_int_test_snr == snr)]   \n",
        "    y_pred = cnn_model.predict(test_X_i, batch_size=1024)\n",
        "\n",
        "    test_Y_i = np.argmax(test_Y_i, axis=1)\n",
        "    y_pred = np.argmax(y_pred, axis=1)\n",
        "\n",
        "    accuracy = accuracy_score(test_Y_i, y_pred)\n",
        "    acc.append(accuracy)\n",
        "    print(\"  Accuracy = \",accuracy)"
      ],
      "metadata": {
        "id": "QPg-uDug4fKF",
        "colab": {
          "base_uri": "https://localhost:8080/",
          "height": 1000
        },
        "outputId": "ae6af93b-fdd2-458d-a55d-0aaa8d59f08c"
      },
      "execution_count": null,
      "outputs": [
        {
          "output_type": "stream",
          "name": "stdout",
          "text": [
            "SNR =  -20\n",
            "  Accuracy =  0.10317284224539605\n",
            "SNR =  -18\n",
            "  Accuracy =  0.10883289569249678\n",
            "SNR =  -16\n",
            "  Accuracy =  0.11397161927197264\n",
            "SNR =  -14\n",
            "  Accuracy =  0.12955645834492738\n",
            "SNR =  -12\n",
            "  Accuracy =  0.17727546384981666\n",
            "SNR =  -10\n",
            "  Accuracy =  0.27125731809311404\n",
            "SNR =  -8\n",
            "  Accuracy =  0.37662765782099883\n",
            "SNR =  -6\n",
            "  Accuracy =  0.4679931275286815\n",
            "SNR =  -4\n",
            "  Accuracy =  0.5746065291140648\n",
            "SNR =  -2\n",
            "  Accuracy =  0.6633893062306673\n",
            "SNR =  0\n",
            "  Accuracy =  0.711439766017328\n",
            "SNR =  2\n",
            "  Accuracy =  0.7462860310421287\n",
            "SNR =  4\n",
            "  Accuracy =  0.760337977729282\n",
            "SNR =  6\n",
            "  Accuracy =  0.7707938982295958\n",
            "SNR =  8\n",
            "  Accuracy =  0.7694062656502142\n",
            "SNR =  10\n",
            "  Accuracy =  0.7744946426598918\n",
            "SNR =  12\n",
            "  Accuracy =  0.7682148604405971\n",
            "SNR =  14\n",
            "  Accuracy =  0.7740751043115438\n",
            "SNR =  16\n",
            "  Accuracy =  0.7692651578653255\n",
            "SNR =  18\n",
            "  Accuracy =  0.7772527843401957\n"
          ]
        },
        {
          "output_type": "display_data",
          "data": {
            "text/plain": [
              "<Figure size 432x288 with 2 Axes>"
            ],
            "image/png": "[encoded data removed]"
          },
          "metadata": {
            "needs_background": "light"
          }
        }
      ]
    },
    {
      "cell_type": "code",
      "source": [
        "plt.plot(snrs, acc)\n",
        "plt.xlabel(\"Signal to Noise Ratio\")\n",
        "plt.ylabel(\"Classification Accuracy\")\n",
        "plt.title(\"Dense layer NN Classification Accuracy\")"
      ],
      "metadata": {
        "id": "oC1OzPpf4oZz",
        "colab": {
          "base_uri": "https://localhost:8080/",
          "height": 312
        },
        "outputId": "f7ff4870-3cdd-42fb-bb37-bd6832d5ac8b"
      },
      "execution_count": null,
      "outputs": [
        {
          "output_type": "execute_result",
          "data": {
            "text/plain": [
              "Text(0.5, 1.0, 'Dense layer NN Classification Accuracy')"
            ]
          },
          "metadata": {},
          "execution_count": 23
        },
        {
          "output_type": "display_data",
          "data": {
            "text/plain": [
              "<Figure size 432x288 with 1 Axes>"
            ],
            "image/png": "[encoded data removed]"
          },
          "metadata": {
            "needs_background": "light"
          }
        }
      ]
    },
    {
      "cell_type": "code",
      "source": [
        "snr = 0\n",
        "print(\"SNR = \",snr)\n",
        "test_X_i = X_int_test[np.where(Y_int_test_snr == snr)]\n",
        "test_Y_i = Y_int_test[np.where(Y_int_test_snr == snr)]   \n",
        "y_pred = cnn_model.predict(test_X_i, batch_size=1024)\n",
        "\n",
        "test_Y_i = np.argmax(test_Y_i, axis=1)\n",
        "y_pred = np.argmax(y_pred, axis=1)\n",
        "\n",
        "accuracy = accuracy_score(test_Y_i, y_pred)\n",
        "acc.append(accuracy)\n",
        "print(\"  Accuracy = \",accuracy)\n",
        "conf = confusion_matrix(test_Y_i, y_pred)\n",
        "plt.figure()\n",
        "plot_confusion_matrix(conf, labels=mods, title=\"CNN Confusion Matrix (SNR=%d)\"%(snr))"
      ],
      "metadata": {
        "colab": {
          "base_uri": "https://localhost:8080/",
          "height": 346
        },
        "id": "QfvaPPFB_F7n",
        "outputId": "d2bca149-b9ca-4243-fb6a-a4ba980c2b3c"
      },
      "execution_count": null,
      "outputs": [
        {
          "output_type": "stream",
          "name": "stdout",
          "text": [
            "SNR =  0\n",
            "  Accuracy =  0.711439766017328\n"
          ]
        },
        {
          "output_type": "display_data",
          "data": {
            "text/plain": [
              "<Figure size 432x288 with 2 Axes>"
            ],
            "image/png": "[encoded data removed]"
          },
          "metadata": {
            "needs_background": "light"
          }
        }
      ]
    },
    {
      "cell_type": "markdown",
      "source": [
        "### Raw Derivative"
      ],
      "metadata": {
        "id": "k2pYh3nu3XOv"
      }
    },
    {
      "cell_type": "code",
      "source": [
        "y_pred = cnn_model.predict(X_raw_deriv_test)\n",
        "test_Y_all = np.argmax(Y_raw_deriv_test, axis=1)\n",
        "y_pred = np.argmax(y_pred, axis=1)\n",
        "\n",
        "conf = confusion_matrix(test_Y_all, y_pred)\n",
        "plt.figure()\n",
        "plot_confusion_matrix(conf, labels=mods, title=\"CNN Confusion Matrix Raw Derivative\")  \n",
        "\n",
        "acc = []\n",
        "for snr in snrs:\n",
        "    print(\"SNR = \",snr)\n",
        "    test_X_i = X_raw_deriv_test[np.where(Y_raw_deriv_test_snr == snr)]\n",
        "    test_Y_i = Y_raw_deriv_test[np.where(Y_raw_deriv_test_snr == snr)]   \n",
        "    y_pred = cnn_model.predict(test_X_i, batch_size=1024)\n",
        "\n",
        "\n",
        "    test_Y_i = np.argmax(test_Y_i, axis=1)\n",
        "    y_pred = np.argmax(y_pred, axis=1)\n",
        "\n",
        "    accuracy = accuracy_score(test_Y_i, y_pred)\n",
        "    acc.append(accuracy)\n",
        "    print(\"  Accuracy = \",accuracy)"
      ],
      "metadata": {
        "id": "az2Ir6yl5Fx_",
        "colab": {
          "base_uri": "https://localhost:8080/",
          "height": 1000
        },
        "outputId": "350e70eb-8ed2-4cd2-a687-6e5cd1972bfc"
      },
      "execution_count": null,
      "outputs": [
        {
          "output_type": "stream",
          "name": "stdout",
          "text": [
            "SNR =  -20\n",
            "  Accuracy =  0.1078877301974706\n",
            "SNR =  -18\n",
            "  Accuracy =  0.1030783842672775\n",
            "SNR =  -16\n",
            "  Accuracy =  0.11862695608278648\n",
            "SNR =  -14\n",
            "  Accuracy =  0.1465857866325338\n",
            "SNR =  -12\n",
            "  Accuracy =  0.21170160363417437\n",
            "SNR =  -10\n",
            "  Accuracy =  0.27242821299135767\n",
            "SNR =  -8\n",
            "  Accuracy =  0.3617933080599967\n",
            "SNR =  -6\n",
            "  Accuracy =  0.452585490217813\n",
            "SNR =  -4\n",
            "  Accuracy =  0.5614259496134809\n",
            "SNR =  -2\n",
            "  Accuracy =  0.6811754308440123\n",
            "SNR =  0\n",
            "  Accuracy =  0.7415153689090006\n",
            "SNR =  2\n",
            "  Accuracy =  0.7771618625277162\n",
            "SNR =  4\n",
            "  Accuracy =  0.7888198757763976\n",
            "SNR =  6\n",
            "  Accuracy =  0.7937868834205545\n",
            "SNR =  8\n",
            "  Accuracy =  0.7906070891992655\n",
            "SNR =  10\n",
            "  Accuracy =  0.7950403181265878\n",
            "SNR =  12\n",
            "  Accuracy =  0.7924088563342767\n",
            "SNR =  14\n",
            "  Accuracy =  0.7956606397774687\n",
            "SNR =  16\n",
            "  Accuracy =  0.7921765856384465\n",
            "SNR =  18\n",
            "  Accuracy =  0.7958713016087299\n"
          ]
        },
        {
          "output_type": "display_data",
          "data": {
            "text/plain": [
              "<Figure size 432x288 with 2 Axes>"
            ],
            "image/png": "[encoded data removed]"
          },
          "metadata": {
            "needs_background": "light"
          }
        }
      ]
    },
    {
      "cell_type": "code",
      "source": [
        "plt.plot(snrs, acc)\n",
        "plt.xlabel(\"Signal to Noise Ratio\")\n",
        "plt.ylabel(\"Classification Accuracy\")\n",
        "plt.title(\"Dense layer NN Classification Accuracy\")"
      ],
      "metadata": {
        "id": "E2VaVrMx4ney",
        "colab": {
          "base_uri": "https://localhost:8080/",
          "height": 312
        },
        "outputId": "b3489817-f455-435b-9e63-814f50c47a83"
      },
      "execution_count": null,
      "outputs": [
        {
          "output_type": "execute_result",
          "data": {
            "text/plain": [
              "Text(0.5, 1.0, 'Dense layer NN Classification Accuracy')"
            ]
          },
          "metadata": {},
          "execution_count": 24
        },
        {
          "output_type": "display_data",
          "data": {
            "text/plain": [
              "<Figure size 432x288 with 1 Axes>"
            ],
            "image/png": "[encoded data removed]"
          },
          "metadata": {
            "needs_background": "light"
          }
        }
      ]
    },
    {
      "cell_type": "code",
      "source": [
        "snr = 0\n",
        "print(\"SNR = \",snr)\n",
        "test_X_i = X_raw_deriv_test[np.where(Y_raw_deriv_test_snr == snr)]\n",
        "test_Y_i = Y_raw_deriv_test[np.where(Y_raw_deriv_test_snr == snr)]   \n",
        "y_pred = cnn_model.predict(test_X_i, batch_size=1024)\n",
        "\n",
        "\n",
        "test_Y_i = np.argmax(test_Y_i, axis=1)\n",
        "y_pred = np.argmax(y_pred, axis=1)\n",
        "\n",
        "accuracy = accuracy_score(test_Y_i, y_pred)\n",
        "acc.append(accuracy)\n",
        "print(\"  Accuracy = \",accuracy)\n",
        "conf = confusion_matrix(test_Y_i, y_pred)\n",
        "plt.figure()\n",
        "plot_confusion_matrix(conf, labels=mods, title=\"CNN Confusion Matrix (SNR=%d)\"%(snr))"
      ],
      "metadata": {
        "colab": {
          "base_uri": "https://localhost:8080/",
          "height": 346
        },
        "id": "5LGKMbAC_Jad",
        "outputId": "8dda5c16-b775-4585-9ea5-921f4a6d1a2e"
      },
      "execution_count": null,
      "outputs": [
        {
          "output_type": "stream",
          "name": "stdout",
          "text": [
            "SNR =  0\n",
            "  Accuracy =  0.7415153689090006\n"
          ]
        },
        {
          "output_type": "display_data",
          "data": {
            "text/plain": [
              "<Figure size 432x288 with 2 Axes>"
            ],
            "image/png": "[encoded data removed]"
          },
          "metadata": {
            "needs_background": "light"
          }
        }
      ]
    },
    {
      "cell_type": "markdown",
      "source": [
        "### Raw Integral"
      ],
      "metadata": {
        "id": "x8LBc3ph3VKE"
      }
    },
    {
      "cell_type": "code",
      "source": [
        "y_pred = cnn_model.predict(X_raw_int_test)\n",
        "test_Y_all = np.argmax(Y_raw_int_test, axis=1)\n",
        "y_pred = np.argmax(y_pred, axis=1)\n",
        "\n",
        "conf = confusion_matrix(test_Y_all, y_pred)\n",
        "plt.figure()\n",
        "plot_confusion_matrix(conf, labels=mods, title=\"CNN Confusion Matrix Raw Integral\")  \n",
        "\n",
        "acc = []\n",
        "for snr in snrs:\n",
        "    print(\"SNR = \",snr)\n",
        "    test_X_i = X_raw_int_test[np.where(Y_raw_int_test_snr == snr)]\n",
        "    test_Y_i = Y_raw_int_test[np.where(Y_raw_int_test_snr == snr)]   \n",
        "    y_pred = cnn_model.predict(test_X_i, batch_size=1024)\n",
        "\n",
        "    test_Y_i = np.argmax(test_Y_i, axis=1)\n",
        "    y_pred = np.argmax(y_pred, axis=1)\n",
        "\n",
        "\n",
        "    accuracy = accuracy_score(test_Y_i, y_pred)\n",
        "    acc.append(accuracy)\n",
        "    print(\"  Accuracy = \",accuracy)"
      ],
      "metadata": {
        "id": "uiuLVpNK5G41",
        "colab": {
          "base_uri": "https://localhost:8080/",
          "height": 1000
        },
        "outputId": "e769f0d6-7fda-4a69-d98d-c92d88c37c24"
      },
      "execution_count": null,
      "outputs": [
        {
          "output_type": "stream",
          "name": "stdout",
          "text": [
            "SNR =  -20\n",
            "  Accuracy =  0.09696028400266253\n",
            "SNR =  -18\n",
            "  Accuracy =  0.10704508631767137\n",
            "SNR =  -16\n",
            "  Accuracy =  0.11419597285321667\n",
            "SNR =  -14\n",
            "  Accuracy =  0.1320607713283989\n",
            "SNR =  -12\n",
            "  Accuracy =  0.1815992556510317\n",
            "SNR =  -10\n",
            "  Accuracy =  0.26439921940340116\n",
            "SNR =  -8\n",
            "  Accuracy =  0.3477281468051206\n",
            "SNR =  -6\n",
            "  Accuracy =  0.43196807626226236\n",
            "SNR =  -4\n",
            "  Accuracy =  0.5579222512652244\n",
            "SNR =  -2\n",
            "  Accuracy =  0.6687472381794078\n",
            "SNR =  0\n",
            "  Accuracy =  0.742674245350698\n",
            "SNR =  2\n",
            "  Accuracy =  0.7723946784922394\n",
            "SNR =  4\n",
            "  Accuracy =  0.7836718706283924\n",
            "SNR =  6\n",
            "  Accuracy =  0.7851018817503619\n",
            "SNR =  8\n",
            "  Accuracy =  0.7860998274998608\n",
            "SNR =  10\n",
            "  Accuracy =  0.7912294267093781\n",
            "SNR =  12\n",
            "  Accuracy =  0.79041118694856\n",
            "SNR =  14\n",
            "  Accuracy =  0.7905980528511822\n",
            "SNR =  16\n",
            "  Accuracy =  0.7880972338642078\n",
            "SNR =  18\n",
            "  Accuracy =  0.7927775902801215\n"
          ]
        },
        {
          "output_type": "display_data",
          "data": {
            "text/plain": [
              "<Figure size 432x288 with 2 Axes>"
            ],
            "image/png": "[encoded data removed]"
          },
          "metadata": {
            "needs_background": "light"
          }
        }
      ]
    },
    {
      "cell_type": "code",
      "source": [
        "plt.plot(snrs, acc)\n",
        "plt.xlabel(\"Signal to Noise Ratio\")\n",
        "plt.ylabel(\"Classification Accuracy\")\n",
        "plt.title(\"Dense layer NN Classification Accuracy\")"
      ],
      "metadata": {
        "id": "UW0QstC24m0S",
        "colab": {
          "base_uri": "https://localhost:8080/",
          "height": 312
        },
        "outputId": "ad445967-a169-4479-e16d-8888695c7b0d"
      },
      "execution_count": null,
      "outputs": [
        {
          "output_type": "execute_result",
          "data": {
            "text/plain": [
              "Text(0.5, 1.0, 'Dense layer NN Classification Accuracy')"
            ]
          },
          "metadata": {},
          "execution_count": 25
        },
        {
          "output_type": "display_data",
          "data": {
            "text/plain": [
              "<Figure size 432x288 with 1 Axes>"
            ],
            "image/png": "[encoded data removed]"
          },
          "metadata": {
            "needs_background": "light"
          }
        }
      ]
    },
    {
      "cell_type": "code",
      "source": [
        "snr = 0\n",
        "print(\"SNR = \",snr)\n",
        "test_X_i = X_raw_int_test[np.where(Y_raw_int_test_snr == snr)]\n",
        "test_Y_i = Y_raw_int_test[np.where(Y_raw_int_test_snr == snr)]   \n",
        "y_pred = cnn_model.predict(test_X_i, batch_size=1024)\n",
        "\n",
        "test_Y_i = np.argmax(test_Y_i, axis=1)\n",
        "y_pred = np.argmax(y_pred, axis=1)\n",
        "\n",
        "\n",
        "accuracy = accuracy_score(test_Y_i, y_pred)\n",
        "acc.append(accuracy)\n",
        "print(\"  Accuracy = \",accuracy)\n",
        "conf = confusion_matrix(test_Y_i, y_pred)\n",
        "plt.figure()\n",
        "plot_confusion_matrix(conf, labels=mods, title=\"CNN Confusion Matrix (SNR=%d)\"%(snr))"
      ],
      "metadata": {
        "colab": {
          "base_uri": "https://localhost:8080/",
          "height": 346
        },
        "id": "F3n_vyhZ_Mka",
        "outputId": "17375079-0d66-4579-93cb-1a7bd89d8156"
      },
      "execution_count": null,
      "outputs": [
        {
          "output_type": "stream",
          "name": "stdout",
          "text": [
            "SNR =  0\n",
            "  Accuracy =  0.742674245350698\n"
          ]
        },
        {
          "output_type": "display_data",
          "data": {
            "text/plain": [
              "<Figure size 432x288 with 2 Axes>"
            ],
            "image/png": "[encoded data removed]"
          },
          "metadata": {
            "needs_background": "light"
          }
        }
      ]
    },
    {
      "cell_type": "markdown",
      "source": [
        "### Combined"
      ],
      "metadata": {
        "id": "vVWwPgsy3Zoc"
      }
    },
    {
      "cell_type": "code",
      "source": [
        "y_pred = cnn_model.predict(X_combined_test)\n",
        "test_Y_all = np.argmax(Y_combined_test, axis=1)\n",
        "y_pred = np.argmax(y_pred, axis=1)\n",
        "\n",
        "conf = confusion_matrix(test_Y_all, y_pred)\n",
        "plt.figure()\n",
        "plot_confusion_matrix(conf, labels=mods, title=\"CNN Confusion Matrix Combined\") \n",
        "\n",
        "acc = []\n",
        "for snr in snrs:\n",
        "    print(\"SNR = \",snr)\n",
        "    test_X_i = X_combined_test[np.where(Y_combined_test_snr == snr)]\n",
        "    test_Y_i = Y_combined_test[np.where(Y_combined_test_snr == snr)]   \n",
        "    y_pred = cnn_model.predict(test_X_i, batch_size=1024)\n",
        "\n",
        "    test_Y_i = np.argmax(test_Y_i, axis=1)\n",
        "    y_pred = np.argmax(y_pred, axis=1)\n",
        "\n",
        "\n",
        "    accuracy = accuracy_score(test_Y_i, y_pred)\n",
        "    acc.append(accuracy)\n",
        "    print(\"  Accuracy = \",accuracy) "
      ],
      "metadata": {
        "id": "G277udvQ5Hrs"
      },
      "execution_count": null,
      "outputs": []
    },
    {
      "cell_type": "code",
      "source": [
        "plt.plot(snrs, acc)\n",
        "plt.xlabel(\"Signal to Noise Ratio\")\n",
        "plt.ylabel(\"Classification Accuracy\")\n",
        "plt.title(\"Dense layer NN Classification Accuracy\")"
      ],
      "metadata": {
        "id": "Ul_DJ4of4kkm"
      },
      "execution_count": null,
      "outputs": []
    },
    {
      "cell_type": "code",
      "source": [
        "snr = 0\n",
        "print(\"SNR = \",snr)\n",
        "test_X_i = X_combined_test[np.where(Y_combined_test_snr == snr)]\n",
        "test_Y_i = Y_combined_test[np.where(Y_combined_test_snr == snr)]   \n",
        "y_pred = cnn_model.predict(test_X_i, batch_size=1024)\n",
        "\n",
        "test_Y_i = np.argmax(test_Y_i, axis=1)\n",
        "y_pred = np.argmax(y_pred, axis=1)\n",
        "\n",
        "\n",
        "accuracy = accuracy_score(test_Y_i, y_pred)\n",
        "acc.append(accuracy)\n",
        "print(\"  Accuracy = \",accuracy)\n",
        "conf = confusion_matrix(test_Y_i, y_pred)\n",
        "plt.figure()\n",
        "plot_confusion_matrix(conf, labels=mods, title=\"CNN Confusion Matrix (SNR=%d)\"%(snr))"
      ],
      "metadata": {
        "id": "7Wk5h3OY_OB4"
      },
      "execution_count": null,
      "outputs": []
    },
    {
      "cell_type": "markdown",
      "source": [
        "## **RNN**"
      ],
      "metadata": {
        "id": "tJH3KtV903GC"
      }
    },
    {
      "cell_type": "markdown",
      "source": [
        "Raw"
      ],
      "metadata": {
        "id": "_VFtYD0Q5rM7"
      }
    },
    {
      "cell_type": "code",
      "source": [
        "y_pred = rnn.predict(X_test)\n",
        "test_Y_all = np.argmax(Y_test, axis=1)\n",
        "y_pred = np.argmax(y_pred, axis=1)\n",
        "\n",
        "conf = confusion_matrix(test_Y_all, y_pred)\n",
        "plt.figure()\n",
        "plot_confusion_matrix(conf, labels=mods, title=\"RNN Confusion Matrix Raw\")\n",
        "\n",
        "acc = []\n",
        "for snr in snrs:\n",
        "    print(\"SNR = \",snr)\n",
        "    test_X_i = X_test[np.where(Y_test_snr == snr)]\n",
        "    test_Y_i = Y_test[np.where(Y_test_snr == snr)]   \n",
        "    y_pred = rnn.predict(test_X_i, batch_size=1024)\n",
        "\n",
        "    test_Y_i = np.argmax(test_Y_i, axis=1)\n",
        "    y_pred = np.argmax(y_pred, axis=1)\n",
        "\n",
        "\n",
        "    accuracy = accuracy_score(test_Y_i, y_pred)\n",
        "    acc.append(accuracy)\n",
        "    print(\"  Accuracy = \",accuracy)  "
      ],
      "metadata": {
        "id": "zlQnuBW804wQ"
      },
      "execution_count": null,
      "outputs": []
    },
    {
      "cell_type": "code",
      "source": [
        "plt.plot(snrs, acc)\n",
        "plt.xlabel(\"Signal to Noise Ratio\")\n",
        "plt.ylabel(\"Classification Accuracy\")\n",
        "plt.title(\"Dense layer NN Classification Accuracy\")"
      ],
      "metadata": {
        "id": "1TkrBPsR4jIR"
      },
      "execution_count": null,
      "outputs": []
    },
    {
      "cell_type": "markdown",
      "source": [
        "Derivative"
      ],
      "metadata": {
        "id": "EGgvL03H6cAF"
      }
    },
    {
      "cell_type": "code",
      "source": [
        "y_pred = rnn.predict(X_deriv_test)\n",
        "test_Y_all = np.argmax(Y_deriv_test, axis=1)\n",
        "y_pred = np.argmax(y_pred, axis=1)\n",
        "\n",
        "conf = confusion_matrix(test_Y_all, y_pred)\n",
        "plt.figure()\n",
        "plot_confusion_matrix(conf, labels=mods, title=\"RNN Confusion Matrix Derivative\")  \n",
        "\n",
        "acc = []\n",
        "for snr in snrs:\n",
        "    print(\"SNR = \",snr)\n",
        "    test_X_i = X_deriv_test[np.where(Y_deriv_test_snr == snr)]\n",
        "    test_Y_i = Y_deriv_test[np.where(Y_deriv_test_snr == snr)]   \n",
        "    y_pred = rnn.predict(test_X_i, batch_size=1024)\n",
        "\n",
        "    test_Y_i = np.argmax(test_Y_i, axis=1)\n",
        "    y_pred = np.argmax(y_pred, axis=1)\n",
        "\n",
        "    accuracy = accuracy_score(test_Y_i, y_pred)\n",
        "    acc.append(accuracy)\n",
        "    print(\"  Accuracy = \",accuracy)"
      ],
      "metadata": {
        "id": "oJ_a4r1r8Ac0"
      },
      "execution_count": null,
      "outputs": []
    },
    {
      "cell_type": "code",
      "source": [
        "plt.plot(snrs, acc)\n",
        "plt.xlabel(\"Signal to Noise Ratio\")\n",
        "plt.ylabel(\"Classification Accuracy\")\n",
        "plt.title(\"Dense layer NN Classification Accuracy\")"
      ],
      "metadata": {
        "id": "z1-_Y-DO4idw"
      },
      "execution_count": null,
      "outputs": []
    },
    {
      "cell_type": "markdown",
      "source": [
        "Integral"
      ],
      "metadata": {
        "id": "LX6C6V_26dNn"
      }
    },
    {
      "cell_type": "code",
      "source": [
        "y_pred = rnn.predict(X_int_test)\n",
        "test_Y_all = np.argmax(Y_int_test, axis=1)\n",
        "y_pred = np.argmax(y_pred, axis=1)\n",
        "\n",
        "conf = confusion_matrix(test_Y_all, y_pred)\n",
        "plt.figure()\n",
        "plot_confusion_matrix(conf, labels=mods, title=\"RNN Confusion Matrix Integral\")  \n",
        "\n",
        "\n",
        "acc = []\n",
        "for snr in snrs:\n",
        "    print(\"SNR = \",snr)\n",
        "    test_X_i = X_int_test[np.where(Y_int_test_snr == snr)]\n",
        "    test_Y_i = Y_int_test[np.where(Y_int_test_snr == snr)]   \n",
        "    y_pred = rnn.predict(test_X_i, batch_size=1024)\n",
        "\n",
        "    test_Y_i = np.argmax(test_Y_i, axis=1)\n",
        "    y_pred = np.argmax(y_pred, axis=1)\n",
        "\n",
        "\n",
        "    accuracy = accuracy_score(test_Y_i, y_pred)\n",
        "    acc.append(accuracy)\n",
        "    print(\"  Accuracy = \",accuracy)"
      ],
      "metadata": {
        "id": "qCbE9-fM_vl6"
      },
      "execution_count": null,
      "outputs": []
    },
    {
      "cell_type": "code",
      "source": [
        "plt.plot(snrs, acc)\n",
        "plt.xlabel(\"Signal to Noise Ratio\")\n",
        "plt.ylabel(\"Classification Accuracy\")\n",
        "plt.title(\"Dense layer NN Classification Accuracy\")"
      ],
      "metadata": {
        "id": "5vhXJEGe4hda"
      },
      "execution_count": null,
      "outputs": []
    },
    {
      "cell_type": "markdown",
      "source": [
        "Raw Derivative"
      ],
      "metadata": {
        "id": "QzDPZhjK6eQ1"
      }
    },
    {
      "cell_type": "code",
      "source": [
        "y_pred = rnn.predict(X_raw_deriv_test)\n",
        "test_Y_all = np.argmax(Y_raw_deriv_test, axis=1)\n",
        "y_pred = np.argmax(y_pred, axis=1)\n",
        "\n",
        "conf = confusion_matrix(test_Y_all, y_pred)\n",
        "plt.figure()\n",
        "plot_confusion_matrix(conf, labels=mods, title=\"RNN Confusion Matrix Raw Derivative\")  \n",
        "\n",
        "acc = []\n",
        "for snr in snrs:\n",
        "    print(\"SNR = \",snr)\n",
        "    test_X_i = X_raw_deriv_test[np.where(Y_raw_deriv_test_snr == snr)]\n",
        "    test_Y_i = Y_raw_deriv_test[np.where(Y_raw_deriv_test_snr == snr)]   \n",
        "    y_pred = rnn.predict(test_X_i, batch_size=1024)\n",
        "\n",
        "    test_Y_i = np.argmax(test_Y_i, axis=1)\n",
        "    y_pred = np.argmax(y_pred, axis=1)\n",
        "\n",
        "\n",
        "    accuracy = accuracy_score(test_Y_i, y_pred)\n",
        "    acc.append(accuracy)\n",
        "    print(\"  Accuracy = \",accuracy)"
      ],
      "metadata": {
        "id": "c_GhUa9CAHOi"
      },
      "execution_count": null,
      "outputs": []
    },
    {
      "cell_type": "code",
      "source": [
        "plt.plot(snrs, acc)\n",
        "plt.xlabel(\"Signal to Noise Ratio\")\n",
        "plt.ylabel(\"Classification Accuracy\")\n",
        "plt.title(\"Dense layer NN Classification Accuracy\")"
      ],
      "metadata": {
        "id": "kEOyOJtK4gbB"
      },
      "execution_count": null,
      "outputs": []
    },
    {
      "cell_type": "markdown",
      "source": [
        "Raw Integral"
      ],
      "metadata": {
        "id": "IljBGnVI6g_3"
      }
    },
    {
      "cell_type": "code",
      "source": [
        "y_pred = rnn.predict(X_raw_int_test)\n",
        "test_Y_all = np.argmax(Y_raw_int_test, axis=1)\n",
        "y_pred = np.argmax(y_pred, axis=1)\n",
        "\n",
        "conf = confusion_matrix(test_Y_all, y_pred)\n",
        "plt.figure()\n",
        "plot_confusion_matrix(conf, labels=mods, title=\"RNN Confusion Matrix Raw Integral\")  \n",
        "\n",
        "\n",
        "acc = []\n",
        "for snr in snrs:\n",
        "    print(\"SNR = \",snr)\n",
        "    test_X_i = X_raw_int_test[np.where(Y_raw_int_test_snr == snr)]\n",
        "    test_Y_i = Y_raw_int_test[np.where(Y_raw_int_test_snr == snr)]   \n",
        "    y_pred = rnn.predict(test_X_i, batch_size=1024)\n",
        "\n",
        "    test_Y_i = np.argmax(test_Y_i, axis=1)\n",
        "    y_pred = np.argmax(y_pred, axis=1)\n",
        "\n",
        "\n",
        "    accuracy = accuracy_score(test_Y_i, y_pred)\n",
        "    acc.append(accuracy)\n",
        "    print(\"  Accuracy = \",accuracy)"
      ],
      "metadata": {
        "id": "UriiklanAVwi"
      },
      "execution_count": null,
      "outputs": []
    },
    {
      "cell_type": "code",
      "source": [
        "plt.plot(snrs, acc)\n",
        "plt.xlabel(\"Signal to Noise Ratio\")\n",
        "plt.ylabel(\"Classification Accuracy\")\n",
        "plt.title(\"Dense layer NN Classification Accuracy\")"
      ],
      "metadata": {
        "id": "1Z5-JkA74fyS"
      },
      "execution_count": null,
      "outputs": []
    },
    {
      "cell_type": "markdown",
      "source": [
        "Combined"
      ],
      "metadata": {
        "id": "1BnR6_ro6iFR"
      }
    },
    {
      "cell_type": "code",
      "source": [
        "y_pred = rnn.predict(X_combined_test)\n",
        "test_Y_all = np.argmax(Y_combined_test, axis=1)\n",
        "y_pred = np.argmax(y_pred, axis=1)\n",
        "\n",
        "conf = confusion_matrix(test_Y_all, y_pred)\n",
        "plt.figure()\n",
        "plot_confusion_matrix(conf, labels=mods, title=\"RNN Confusion Matrix Combined\")  \n",
        "\n",
        "acc = []\n",
        "for snr in snrs:\n",
        "    print(\"SNR = \",snr)\n",
        "    test_X_i = X_combined_test[np.where(Y_combined_test_snr == snr)]\n",
        "    test_Y_i = Y_combined_test[np.where(Y_combined_test_snr == snr)]   \n",
        "    y_pred = rnn.predict(test_X_i, batch_size=1024)\n",
        "\n",
        "    test_Y_i = np.argmax(test_Y_i, axis=1)\n",
        "    y_pred = np.argmax(y_pred, axis=1)\n",
        "\n",
        "\n",
        "    accuracy = accuracy_score(test_Y_i, y_pred)\n",
        "    acc.append(accuracy)\n",
        "    print(\"  Accuracy = \",accuracy)"
      ],
      "metadata": {
        "id": "AythrLcNAho7"
      },
      "execution_count": null,
      "outputs": []
    },
    {
      "cell_type": "code",
      "source": [
        "plt.plot(snrs, acc)\n",
        "plt.xlabel(\"Signal to Noise Ratio\")\n",
        "plt.ylabel(\"Classification Accuracy\")\n",
        "plt.title(\"Dense layer NN Classification Accuracy\")"
      ],
      "metadata": {
        "id": "WCs4Gvcv4fEX"
      },
      "execution_count": null,
      "outputs": []
    },
    {
      "cell_type": "markdown",
      "source": [
        "## **LSTM**"
      ],
      "metadata": {
        "id": "85gTGkJB055c"
      }
    },
    {
      "cell_type": "markdown",
      "source": [
        "Raw"
      ],
      "metadata": {
        "id": "SpNzjejg6l0t"
      }
    },
    {
      "cell_type": "code",
      "source": [
        "y_pred = lstm.predict(X_test)\n",
        "test_Y_all = np.argmax(Y_test, axis=1)\n",
        "y_pred = np.argmax(y_pred, axis=1)\n",
        "\n",
        "conf = confusion_matrix(test_Y_all, y_pred)\n",
        "plt.figure()\n",
        "plot_confusion_matrix(conf, labels=mods, title=\"LSTM Confusion Matrix Raw\")  \n",
        "\n",
        "acc = []\n",
        "for snr in snrs:\n",
        "    print(\"SNR = \",snr)\n",
        "    test_X_i = X_test[np.where(Y_test_snr == snr)]\n",
        "    test_Y_i = Y_test[np.where(Y_test_snr == snr)]   \n",
        "    y_pred = lstm.predict(test_X_i, batch_size=1024)\n",
        "\n",
        "    test_Y_i = np.argmax(test_Y_i, axis=1)\n",
        "    y_pred = np.argmax(y_pred, axis=1)\n",
        "\n",
        "\n",
        "    accuracy = accuracy_score(test_Y_i, y_pred)\n",
        "    acc.append(accuracy)\n",
        "    print(\"  Accuracy = \",accuracy)"
      ],
      "metadata": {
        "id": "VJVZtkBS07zx"
      },
      "execution_count": null,
      "outputs": []
    },
    {
      "cell_type": "code",
      "source": [
        "plt.plot(snrs, acc)\n",
        "plt.xlabel(\"Signal to Noise Ratio\")\n",
        "plt.ylabel(\"Classification Accuracy\")\n",
        "plt.title(\"Dense layer NN Classification Accuracy\")"
      ],
      "metadata": {
        "id": "Q1s_h5tS4eD2"
      },
      "execution_count": null,
      "outputs": []
    },
    {
      "cell_type": "markdown",
      "source": [
        "Derivative"
      ],
      "metadata": {
        "id": "vqK9aB6v6nY7"
      }
    },
    {
      "cell_type": "code",
      "source": [
        "y_pred = lstm.predict(X_deriv_test)\n",
        "test_Y_all = np.argmax(Y_deriv_test, axis=1)\n",
        "y_pred = np.argmax(y_pred, axis=1)\n",
        "\n",
        "conf = confusion_matrix(test_Y_all, y_pred)\n",
        "plt.figure()\n",
        "plot_confusion_matrix(conf, labels=mods, title=\"LSTM Confusion Matrix Derivative\") \n",
        "\n",
        "acc = []\n",
        "for snr in snrs:\n",
        "    print(\"SNR = \",snr)\n",
        "    test_X_i = X_deriv_test[np.where(Y_deriv_test_snr == snr)]\n",
        "    test_Y_i = Y_deriv_test[np.where(Y_deriv_test_snr == snr)]   \n",
        "    y_pred = lstm.predict(test_X_i, batch_size=1024)\n",
        "\n",
        "    test_Y_i = np.argmax(test_Y_i, axis=1)\n",
        "    y_pred = np.argmax(y_pred, axis=1)\n",
        "\n",
        "\n",
        "    accuracy = accuracy_score(test_Y_i, y_pred)\n",
        "    acc.append(accuracy)\n",
        "    print(\"  Accuracy = \",accuracy) "
      ],
      "metadata": {
        "id": "QP5RrfpABGuA"
      },
      "execution_count": null,
      "outputs": []
    },
    {
      "cell_type": "code",
      "source": [
        "plt.plot(snrs, acc)\n",
        "plt.xlabel(\"Signal to Noise Ratio\")\n",
        "plt.ylabel(\"Classification Accuracy\")\n",
        "plt.title(\"Dense layer NN Classification Accuracy\")"
      ],
      "metadata": {
        "id": "LRIpAVZN4dO0"
      },
      "execution_count": null,
      "outputs": []
    },
    {
      "cell_type": "markdown",
      "source": [
        "Integral"
      ],
      "metadata": {
        "id": "9UEAR4cf6oUx"
      }
    },
    {
      "cell_type": "code",
      "source": [
        "y_pred = lstm.predict(X_int_test)\n",
        "test_Y_all = np.argmax(Y_int_test, axis=1)\n",
        "y_pred = np.argmax(y_pred, axis=1)\n",
        "\n",
        "conf = confusion_matrix(test_Y_all, y_pred)\n",
        "plt.figure()\n",
        "plot_confusion_matrix(conf, labels=mods, title=\"LSTM Confusion Matrix Integral\")  \n",
        "\n",
        "acc = []\n",
        "for snr in snrs:\n",
        "    print(\"SNR = \",snr)\n",
        "    test_X_i = X_int_test[np.where(Y_int_test_snr == snr)]\n",
        "    test_Y_i = Y_int_test[np.where(Y_int_test_snr == snr)]   \n",
        "    y_pred = lstm.predict(test_X_i, batch_size=1024)\n",
        "\n",
        "    test_Y_i = np.argmax(test_Y_i, axis=1)\n",
        "    y_pred = np.argmax(y_pred, axis=1)\n",
        "\n",
        "\n",
        "    accuracy = accuracy_score(test_Y_i, y_pred)\n",
        "    acc.append(accuracy)\n",
        "    print(\"  Accuracy = \",accuracy)"
      ],
      "metadata": {
        "id": "-cDemQqOBUez"
      },
      "execution_count": null,
      "outputs": []
    },
    {
      "cell_type": "code",
      "source": [
        "plt.plot(snrs, acc)\n",
        "plt.xlabel(\"Signal to Noise Ratio\")\n",
        "plt.ylabel(\"Classification Accuracy\")\n",
        "plt.title(\"Dense layer NN Classification Accuracy\")"
      ],
      "metadata": {
        "id": "teHleI_44cQ4"
      },
      "execution_count": null,
      "outputs": []
    },
    {
      "cell_type": "markdown",
      "source": [
        "Raw Derivative"
      ],
      "metadata": {
        "id": "0OAVqdRW6p_7"
      }
    },
    {
      "cell_type": "code",
      "source": [
        "y_pred = lstm.predict(X_raw_deriv_test)\n",
        "test_Y_all = np.argmax(Y_raw_deriv_test, axis=1)\n",
        "y_pred = np.argmax(y_pred, axis=1)\n",
        "\n",
        "conf = confusion_matrix(test_Y_all, y_pred)\n",
        "plt.figure()\n",
        "plot_confusion_matrix(conf, labels=mods, title=\"LSTM Confusion Matrix Raw Derivative\")\n",
        "\n",
        "acc = []\n",
        "for snr in snrs:\n",
        "    print(\"SNR = \",snr)\n",
        "    test_X_i = X_raw_deriv_test[np.where(Y_raw_deriv_test_snr == snr)]\n",
        "    test_Y_i = Y_raw_deriv_test[np.where(Y_raw_deriv_test_snr == snr)]   \n",
        "    y_pred = lstm.predict(test_X_i, batch_size=1024)\n",
        "\n",
        "\n",
        "    test_Y_i = np.argmax(test_Y_i, axis=1)\n",
        "    y_pred = np.argmax(y_pred, axis=1)\n",
        "\n",
        "\n",
        "    accuracy = accuracy_score(test_Y_i, y_pred)\n",
        "    acc.append(accuracy)\n",
        "    print(\"  Accuracy = \",accuracy)  "
      ],
      "metadata": {
        "id": "RPO-09gWBh-z"
      },
      "execution_count": null,
      "outputs": []
    },
    {
      "cell_type": "code",
      "source": [
        "plt.plot(snrs, acc)\n",
        "plt.xlabel(\"Signal to Noise Ratio\")\n",
        "plt.ylabel(\"Classification Accuracy\")\n",
        "plt.title(\"Dense layer NN Classification Accuracy\")"
      ],
      "metadata": {
        "id": "Qrawg8l14aSt"
      },
      "execution_count": null,
      "outputs": []
    },
    {
      "cell_type": "markdown",
      "source": [
        "Raw Integral"
      ],
      "metadata": {
        "id": "6ktDXB2T6sYN"
      }
    },
    {
      "cell_type": "code",
      "source": [
        "y_pred = lstm.predict(X_raw_int_test)\n",
        "test_Y_all = np.argmax(Y_raw_int_test, axis=1)\n",
        "y_pred = np.argmax(y_pred, axis=1)\n",
        "\n",
        "conf = confusion_matrix(test_Y_all, y_pred)\n",
        "plt.figure()\n",
        "plot_confusion_matrix(conf, labels=mods, title=\"LSTM Confusion Matrix Raw Integral\")\n",
        "\n",
        "acc = []\n",
        "for snr in snrs:\n",
        "    print(\"SNR = \",snr)\n",
        "    test_X_i = X_raw_int_test[np.where(Y_raw_int_test_snr == snr)]\n",
        "    test_Y_i = Y_raw_int_test[np.where(Y_raw_int_test_snr == snr)]   \n",
        "    y_pred = lstm.predict(test_X_i, batch_size=1024)\n",
        "\n",
        "\n",
        "    test_Y_i = np.argmax(test_Y_i, axis=1)\n",
        "    y_pred = np.argmax(y_pred, axis=1)\n",
        "\n",
        "\n",
        "    accuracy = accuracy_score(test_Y_i, y_pred)\n",
        "    acc.append(accuracy)\n",
        "    print(\"  Accuracy = \",accuracy)  "
      ],
      "metadata": {
        "id": "Wff93IhFBrG-"
      },
      "execution_count": null,
      "outputs": []
    },
    {
      "cell_type": "code",
      "source": [
        "plt.plot(snrs, acc)\n",
        "plt.xlabel(\"Signal to Noise Ratio\")\n",
        "plt.ylabel(\"Classification Accuracy\")\n",
        "plt.title(\"Dense layer NN Classification Accuracy\")"
      ],
      "metadata": {
        "id": "HL7mfV5K4ZXj"
      },
      "execution_count": null,
      "outputs": []
    },
    {
      "cell_type": "markdown",
      "source": [
        "Combined"
      ],
      "metadata": {
        "id": "vGcMdl1U6t3T"
      }
    },
    {
      "cell_type": "code",
      "source": [
        "y_pred = lstm.predict(X_combined_test)\n",
        "test_Y_all = np.argmax(Y_combined_test, axis=1)\n",
        "y_pred = np.argmax(y_pred, axis=1)\n",
        "\n",
        "conf = confusion_matrix(test_Y_all, y_pred)\n",
        "plt.figure()\n",
        "plot_confusion_matrix(conf, labels=mods, title=\"LSTM Confusion Matrix Combined\")  \n",
        "\n",
        "acc = []\n",
        "for snr in snrs:\n",
        "    print(\"SNR = \",snr)\n",
        "    test_X_i = X_combined_test[np.where(Y_combined_test_snr == snr)]\n",
        "    test_Y_i = Y_combined_test[np.where(Y_combined_test_snr == snr)]   \n",
        "    y_pred = lstm.predict(test_X_i, batch_size=1024)\n",
        "\n",
        "    test_Y_i = np.argmax(test_Y_i, axis=1)\n",
        "    y_pred = np.argmax(y_pred, axis=1)\n",
        "\n",
        "\n",
        "    accuracy = accuracy_score(test_Y_i, y_pred)\n",
        "    acc.append(accuracy)\n",
        "    print(\"  Accuracy = \",accuracy)"
      ],
      "metadata": {
        "id": "PhIMXi-gB1Dc"
      },
      "execution_count": null,
      "outputs": []
    },
    {
      "cell_type": "code",
      "source": [
        "plt.plot(snrs, acc)\n",
        "plt.xlabel(\"Signal to Noise Ratio\")\n",
        "plt.ylabel(\"Classification Accuracy\")\n",
        "plt.title(\"Dense layer NN Classification Accuracy\")"
      ],
      "metadata": {
        "id": "b3DovPKF4YIR"
      },
      "execution_count": null,
      "outputs": []
    }
  ],
  "metadata": {
    "colab": {
      "provenance": []
    },
    "kernelspec": {
      "display_name": "Python 3",
      "name": "python3"
    },
    "language_info": {
      "name": "python"
    },
    "accelerator": "GPU",
    "gpuClass": "standard"
  },
  "nbformat": 4,
  "nbformat_minor": 0
}